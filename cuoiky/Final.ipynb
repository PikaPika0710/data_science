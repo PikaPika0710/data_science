{
 "cells": [
  {
   "cell_type": "markdown",
   "metadata": {},
   "source": [
    "## 1.1 Data Overviews\n",
    "\n",
    "> Name of dataset: Zanado (Clothing, Shoes, Devices,...)\n",
    "\n",
    "## 1.2 Attribute-information\n",
    ">\tproduct_id-Unique product id\n",
    "\n",
    ">\tproduct_name-Name of product\n",
    "\n",
    ">\tsale_offs-\n",
    "\n",
    ">\tsales_prices\n",
    "\n",
    ">\torigin_prices\n",
    "\n",
    ">\tpurchases\n",
    "\n",
    ">\tnum_raters\n",
    "\n",
    ">\tratings\n",
    "\n",
    ">\tcategories_str\n",
    "\n",
    ">\tcategory_id"
   ]
  },
  {
   "cell_type": "markdown",
   "metadata": {},
   "source": [
    "## 1.3 EDA"
   ]
  },
  {
   "cell_type": "code",
   "execution_count": 1,
   "metadata": {},
   "outputs": [],
   "source": [
    "#import libraries\n",
    "import pandas as pd\n",
    "import numpy as np  \n",
    "import matplotlib.pyplot as plt\n",
    "import seaborn as sns\n",
    "from statistics import mean\n",
    "from sklearn.model_selection import train_test_split, StratifiedKFold, GridSearchCV\n",
    "from sklearn.linear_model import LinearRegression, LogisticRegression\n",
    "from sklearn.metrics import mean_squared_error, r2_score, accuracy_score\n",
    "from sklearn.ensemble import RandomForestRegressor"
   ]
  },
  {
   "cell_type": "code",
   "execution_count": 2,
   "metadata": {},
   "outputs": [
    {
     "data": {
      "text/html": [
       "<div>\n",
       "<style scoped>\n",
       "    .dataframe tbody tr th:only-of-type {\n",
       "        vertical-align: middle;\n",
       "    }\n",
       "\n",
       "    .dataframe tbody tr th {\n",
       "        vertical-align: top;\n",
       "    }\n",
       "\n",
       "    .dataframe thead th {\n",
       "        text-align: right;\n",
       "    }\n",
       "</style>\n",
       "<table border=\"1\" class=\"dataframe\">\n",
       "  <thead>\n",
       "    <tr style=\"text-align: right;\">\n",
       "      <th></th>\n",
       "      <th>product_id</th>\n",
       "      <th>product_names</th>\n",
       "      <th>sale_offs</th>\n",
       "      <th>sales_prices</th>\n",
       "      <th>origin_prices</th>\n",
       "      <th>purchases</th>\n",
       "      <th>num_raters</th>\n",
       "      <th>ratings</th>\n",
       "      <th>categories_str</th>\n",
       "      <th>category_id</th>\n",
       "    </tr>\n",
       "  </thead>\n",
       "  <tbody>\n",
       "    <tr>\n",
       "      <th>0</th>\n",
       "      <td>0</td>\n",
       "      <td>Áo khoác nam Akuba -3307 - Xanh</td>\n",
       "      <td>NaN</td>\n",
       "      <td>NaN</td>\n",
       "      <td>520000</td>\n",
       "      <td>165</td>\n",
       "      <td>1</td>\n",
       "      <td>80</td>\n",
       "      <td>Áo khoác</td>\n",
       "      <td>0</td>\n",
       "    </tr>\n",
       "    <tr>\n",
       "      <th>1</th>\n",
       "      <td>1</td>\n",
       "      <td>Áo khoác Bomber Nam Nữ 1980 phong cách - Xanh đen</td>\n",
       "      <td>0.31</td>\n",
       "      <td>165000.0</td>\n",
       "      <td>239000</td>\n",
       "      <td>521</td>\n",
       "      <td>13</td>\n",
       "      <td>86</td>\n",
       "      <td>Áo khoác</td>\n",
       "      <td>0</td>\n",
       "    </tr>\n",
       "    <tr>\n",
       "      <th>2</th>\n",
       "      <td>2</td>\n",
       "      <td>Áo khoác nam nữ chống tia UV xám thể thao - A</td>\n",
       "      <td>0.29</td>\n",
       "      <td>375000.0</td>\n",
       "      <td>525000</td>\n",
       "      <td>180</td>\n",
       "      <td>4</td>\n",
       "      <td>80</td>\n",
       "      <td>Áo khoác</td>\n",
       "      <td>0</td>\n",
       "    </tr>\n",
       "    <tr>\n",
       "      <th>3</th>\n",
       "      <td>3</td>\n",
       "      <td>Áo khoác nam nữ AW phong cách - Đỏ đô</td>\n",
       "      <td>0.31</td>\n",
       "      <td>165000.0</td>\n",
       "      <td>239000</td>\n",
       "      <td>183</td>\n",
       "      <td>1</td>\n",
       "      <td>80</td>\n",
       "      <td>Áo khoác</td>\n",
       "      <td>0</td>\n",
       "    </tr>\n",
       "    <tr>\n",
       "      <th>4</th>\n",
       "      <td>4</td>\n",
       "      <td>Áo khoác unisex phối chữ cá tính - Trắng</td>\n",
       "      <td>0.34</td>\n",
       "      <td>179000.0</td>\n",
       "      <td>270000</td>\n",
       "      <td>326</td>\n",
       "      <td>3</td>\n",
       "      <td>87</td>\n",
       "      <td>Áo khoác</td>\n",
       "      <td>0</td>\n",
       "    </tr>\n",
       "  </tbody>\n",
       "</table>\n",
       "</div>"
      ],
      "text/plain": [
       "   product_id                                      product_names  sale_offs  \\\n",
       "0           0                    Áo khoác nam Akuba -3307 - Xanh        NaN   \n",
       "1           1  Áo khoác Bomber Nam Nữ 1980 phong cách - Xanh đen       0.31   \n",
       "2           2      Áo khoác nam nữ chống tia UV xám thể thao - A       0.29   \n",
       "3           3              Áo khoác nam nữ AW phong cách - Đỏ đô       0.31   \n",
       "4           4           Áo khoác unisex phối chữ cá tính - Trắng       0.34   \n",
       "\n",
       "   sales_prices  origin_prices  purchases  num_raters  ratings categories_str  \\\n",
       "0           NaN         520000        165           1       80       Áo khoác   \n",
       "1      165000.0         239000        521          13       86       Áo khoác   \n",
       "2      375000.0         525000        180           4       80       Áo khoác   \n",
       "3      165000.0         239000        183           1       80       Áo khoác   \n",
       "4      179000.0         270000        326           3       87       Áo khoác   \n",
       "\n",
       "   category_id  \n",
       "0            0  \n",
       "1            0  \n",
       "2            0  \n",
       "3            0  \n",
       "4            0  "
      ]
     },
     "execution_count": 2,
     "metadata": {},
     "output_type": "execute_result"
    }
   ],
   "source": [
    "data=pd.read_csv('raw_data.csv')\n",
    "data.head()"
   ]
  },
  {
   "cell_type": "code",
   "execution_count": 3,
   "metadata": {},
   "outputs": [
    {
     "data": {
      "text/plain": [
       "product_id        2307\n",
       "product_names     2256\n",
       "sale_offs           55\n",
       "sales_prices       246\n",
       "origin_prices      388\n",
       "purchases          356\n",
       "num_raters          51\n",
       "ratings             13\n",
       "categories_str      13\n",
       "category_id         13\n",
       "dtype: int64"
      ]
     },
     "execution_count": 3,
     "metadata": {},
     "output_type": "execute_result"
    }
   ],
   "source": [
    "# Thống kê giá trị độc nhất ở mỗi column\n",
    "data.apply(lambda x: len(x.unique()))"
   ]
  },
  {
   "cell_type": "code",
   "execution_count": 4,
   "metadata": {},
   "outputs": [
    {
     "data": {
      "text/html": [
       "<div>\n",
       "<style scoped>\n",
       "    .dataframe tbody tr th:only-of-type {\n",
       "        vertical-align: middle;\n",
       "    }\n",
       "\n",
       "    .dataframe tbody tr th {\n",
       "        vertical-align: top;\n",
       "    }\n",
       "\n",
       "    .dataframe thead th {\n",
       "        text-align: right;\n",
       "    }\n",
       "</style>\n",
       "<table border=\"1\" class=\"dataframe\">\n",
       "  <thead>\n",
       "    <tr style=\"text-align: right;\">\n",
       "      <th></th>\n",
       "      <th>product_id</th>\n",
       "      <th>sale_offs</th>\n",
       "      <th>sales_prices</th>\n",
       "      <th>origin_prices</th>\n",
       "      <th>purchases</th>\n",
       "      <th>num_raters</th>\n",
       "      <th>ratings</th>\n",
       "      <th>category_id</th>\n",
       "    </tr>\n",
       "  </thead>\n",
       "  <tbody>\n",
       "    <tr>\n",
       "      <th>count</th>\n",
       "      <td>2307.000000</td>\n",
       "      <td>1905.000000</td>\n",
       "      <td>1.905000e+03</td>\n",
       "      <td>2.307000e+03</td>\n",
       "      <td>2307.000000</td>\n",
       "      <td>2307.000000</td>\n",
       "      <td>2307.000000</td>\n",
       "      <td>2307.000000</td>\n",
       "    </tr>\n",
       "    <tr>\n",
       "      <th>mean</th>\n",
       "      <td>1153.000000</td>\n",
       "      <td>0.325428</td>\n",
       "      <td>2.529189e+05</td>\n",
       "      <td>3.808754e+05</td>\n",
       "      <td>314.935414</td>\n",
       "      <td>4.074989</td>\n",
       "      <td>80.760295</td>\n",
       "      <td>5.568704</td>\n",
       "    </tr>\n",
       "    <tr>\n",
       "      <th>std</th>\n",
       "      <td>666.117857</td>\n",
       "      <td>0.096936</td>\n",
       "      <td>1.803858e+05</td>\n",
       "      <td>2.602164e+05</td>\n",
       "      <td>534.432165</td>\n",
       "      <td>17.953636</td>\n",
       "      <td>3.368676</td>\n",
       "      <td>3.727250</td>\n",
       "    </tr>\n",
       "    <tr>\n",
       "      <th>min</th>\n",
       "      <td>0.000000</td>\n",
       "      <td>0.010000</td>\n",
       "      <td>7.000000e+04</td>\n",
       "      <td>9.900000e+04</td>\n",
       "      <td>2.000000</td>\n",
       "      <td>1.000000</td>\n",
       "      <td>80.000000</td>\n",
       "      <td>0.000000</td>\n",
       "    </tr>\n",
       "    <tr>\n",
       "      <th>25%</th>\n",
       "      <td>576.500000</td>\n",
       "      <td>0.290000</td>\n",
       "      <td>1.450000e+05</td>\n",
       "      <td>2.390000e+05</td>\n",
       "      <td>178.000000</td>\n",
       "      <td>1.000000</td>\n",
       "      <td>80.000000</td>\n",
       "      <td>2.000000</td>\n",
       "    </tr>\n",
       "    <tr>\n",
       "      <th>50%</th>\n",
       "      <td>1153.000000</td>\n",
       "      <td>0.340000</td>\n",
       "      <td>2.050000e+05</td>\n",
       "      <td>3.200000e+05</td>\n",
       "      <td>228.000000</td>\n",
       "      <td>1.000000</td>\n",
       "      <td>80.000000</td>\n",
       "      <td>6.000000</td>\n",
       "    </tr>\n",
       "    <tr>\n",
       "      <th>75%</th>\n",
       "      <td>1729.500000</td>\n",
       "      <td>0.380000</td>\n",
       "      <td>2.980000e+05</td>\n",
       "      <td>4.500000e+05</td>\n",
       "      <td>283.500000</td>\n",
       "      <td>1.000000</td>\n",
       "      <td>80.000000</td>\n",
       "      <td>8.000000</td>\n",
       "    </tr>\n",
       "    <tr>\n",
       "      <th>max</th>\n",
       "      <td>2306.000000</td>\n",
       "      <td>0.770000</td>\n",
       "      <td>2.110000e+06</td>\n",
       "      <td>3.014000e+06</td>\n",
       "      <td>9418.000000</td>\n",
       "      <td>515.000000</td>\n",
       "      <td>100.000000</td>\n",
       "      <td>12.000000</td>\n",
       "    </tr>\n",
       "  </tbody>\n",
       "</table>\n",
       "</div>"
      ],
      "text/plain": [
       "        product_id    sale_offs  sales_prices  origin_prices    purchases  \\\n",
       "count  2307.000000  1905.000000  1.905000e+03   2.307000e+03  2307.000000   \n",
       "mean   1153.000000     0.325428  2.529189e+05   3.808754e+05   314.935414   \n",
       "std     666.117857     0.096936  1.803858e+05   2.602164e+05   534.432165   \n",
       "min       0.000000     0.010000  7.000000e+04   9.900000e+04     2.000000   \n",
       "25%     576.500000     0.290000  1.450000e+05   2.390000e+05   178.000000   \n",
       "50%    1153.000000     0.340000  2.050000e+05   3.200000e+05   228.000000   \n",
       "75%    1729.500000     0.380000  2.980000e+05   4.500000e+05   283.500000   \n",
       "max    2306.000000     0.770000  2.110000e+06   3.014000e+06  9418.000000   \n",
       "\n",
       "        num_raters      ratings  category_id  \n",
       "count  2307.000000  2307.000000  2307.000000  \n",
       "mean      4.074989    80.760295     5.568704  \n",
       "std      17.953636     3.368676     3.727250  \n",
       "min       1.000000    80.000000     0.000000  \n",
       "25%       1.000000    80.000000     2.000000  \n",
       "50%       1.000000    80.000000     6.000000  \n",
       "75%       1.000000    80.000000     8.000000  \n",
       "max     515.000000   100.000000    12.000000  "
      ]
     },
     "execution_count": 4,
     "metadata": {},
     "output_type": "execute_result"
    }
   ],
   "source": [
    "data.describe()"
   ]
  },
  {
   "cell_type": "markdown",
   "metadata": {},
   "source": [
    "## 1.4 Feature Engineering"
   ]
  },
  {
   "cell_type": "code",
   "execution_count": 5,
   "metadata": {},
   "outputs": [],
   "source": [
    "#length of product_names\n",
    "name_len=[len(x) for x in data[\"product_names\"]]\n",
    "data[\"name_len\"]=name_len\n",
    "\n",
    "#length of categories_str\n",
    "category_len=[len(x) for x in data[\"categories_str\"]]\n",
    "data[\"category_len\"]=category_len"
   ]
  },
  {
   "cell_type": "code",
   "execution_count": 6,
   "metadata": {},
   "outputs": [
    {
     "data": {
      "text/html": [
       "<div>\n",
       "<style scoped>\n",
       "    .dataframe tbody tr th:only-of-type {\n",
       "        vertical-align: middle;\n",
       "    }\n",
       "\n",
       "    .dataframe tbody tr th {\n",
       "        vertical-align: top;\n",
       "    }\n",
       "\n",
       "    .dataframe thead th {\n",
       "        text-align: right;\n",
       "    }\n",
       "</style>\n",
       "<table border=\"1\" class=\"dataframe\">\n",
       "  <thead>\n",
       "    <tr style=\"text-align: right;\">\n",
       "      <th></th>\n",
       "      <th>product_id</th>\n",
       "      <th>product_names</th>\n",
       "      <th>sale_offs</th>\n",
       "      <th>sales_prices</th>\n",
       "      <th>origin_prices</th>\n",
       "      <th>purchases</th>\n",
       "      <th>num_raters</th>\n",
       "      <th>ratings</th>\n",
       "      <th>categories_str</th>\n",
       "      <th>category_id</th>\n",
       "      <th>name_len</th>\n",
       "      <th>category_len</th>\n",
       "    </tr>\n",
       "  </thead>\n",
       "  <tbody>\n",
       "    <tr>\n",
       "      <th>0</th>\n",
       "      <td>0</td>\n",
       "      <td>Áo khoác nam Akuba -3307 - Xanh</td>\n",
       "      <td>NaN</td>\n",
       "      <td>NaN</td>\n",
       "      <td>520000</td>\n",
       "      <td>165</td>\n",
       "      <td>1</td>\n",
       "      <td>80</td>\n",
       "      <td>Áo khoác</td>\n",
       "      <td>0</td>\n",
       "      <td>31</td>\n",
       "      <td>8</td>\n",
       "    </tr>\n",
       "    <tr>\n",
       "      <th>1</th>\n",
       "      <td>1</td>\n",
       "      <td>Áo khoác Bomber Nam Nữ 1980 phong cách - Xanh đen</td>\n",
       "      <td>0.31</td>\n",
       "      <td>165000.0</td>\n",
       "      <td>239000</td>\n",
       "      <td>521</td>\n",
       "      <td>13</td>\n",
       "      <td>86</td>\n",
       "      <td>Áo khoác</td>\n",
       "      <td>0</td>\n",
       "      <td>49</td>\n",
       "      <td>8</td>\n",
       "    </tr>\n",
       "    <tr>\n",
       "      <th>2</th>\n",
       "      <td>2</td>\n",
       "      <td>Áo khoác nam nữ chống tia UV xám thể thao - A</td>\n",
       "      <td>0.29</td>\n",
       "      <td>375000.0</td>\n",
       "      <td>525000</td>\n",
       "      <td>180</td>\n",
       "      <td>4</td>\n",
       "      <td>80</td>\n",
       "      <td>Áo khoác</td>\n",
       "      <td>0</td>\n",
       "      <td>45</td>\n",
       "      <td>8</td>\n",
       "    </tr>\n",
       "    <tr>\n",
       "      <th>3</th>\n",
       "      <td>3</td>\n",
       "      <td>Áo khoác nam nữ AW phong cách - Đỏ đô</td>\n",
       "      <td>0.31</td>\n",
       "      <td>165000.0</td>\n",
       "      <td>239000</td>\n",
       "      <td>183</td>\n",
       "      <td>1</td>\n",
       "      <td>80</td>\n",
       "      <td>Áo khoác</td>\n",
       "      <td>0</td>\n",
       "      <td>37</td>\n",
       "      <td>8</td>\n",
       "    </tr>\n",
       "    <tr>\n",
       "      <th>4</th>\n",
       "      <td>4</td>\n",
       "      <td>Áo khoác unisex phối chữ cá tính - Trắng</td>\n",
       "      <td>0.34</td>\n",
       "      <td>179000.0</td>\n",
       "      <td>270000</td>\n",
       "      <td>326</td>\n",
       "      <td>3</td>\n",
       "      <td>87</td>\n",
       "      <td>Áo khoác</td>\n",
       "      <td>0</td>\n",
       "      <td>40</td>\n",
       "      <td>8</td>\n",
       "    </tr>\n",
       "  </tbody>\n",
       "</table>\n",
       "</div>"
      ],
      "text/plain": [
       "   product_id                                      product_names  sale_offs  \\\n",
       "0           0                    Áo khoác nam Akuba -3307 - Xanh        NaN   \n",
       "1           1  Áo khoác Bomber Nam Nữ 1980 phong cách - Xanh đen       0.31   \n",
       "2           2      Áo khoác nam nữ chống tia UV xám thể thao - A       0.29   \n",
       "3           3              Áo khoác nam nữ AW phong cách - Đỏ đô       0.31   \n",
       "4           4           Áo khoác unisex phối chữ cá tính - Trắng       0.34   \n",
       "\n",
       "   sales_prices  origin_prices  purchases  num_raters  ratings categories_str  \\\n",
       "0           NaN         520000        165           1       80       Áo khoác   \n",
       "1      165000.0         239000        521          13       86       Áo khoác   \n",
       "2      375000.0         525000        180           4       80       Áo khoác   \n",
       "3      165000.0         239000        183           1       80       Áo khoác   \n",
       "4      179000.0         270000        326           3       87       Áo khoác   \n",
       "\n",
       "   category_id  name_len  category_len  \n",
       "0            0        31             8  \n",
       "1            0        49             8  \n",
       "2            0        45             8  \n",
       "3            0        37             8  \n",
       "4            0        40             8  "
      ]
     },
     "execution_count": 6,
     "metadata": {},
     "output_type": "execute_result"
    }
   ],
   "source": [
    "data.head()"
   ]
  },
  {
   "cell_type": "markdown",
   "metadata": {},
   "source": [
    "### Correlation Matrix"
   ]
  },
  {
   "cell_type": "code",
   "execution_count": 7,
   "metadata": {},
   "outputs": [
    {
     "data": {
      "image/png": "[encoded data removed]",
      "text/plain": [
       "<Figure size 864x864 with 2 Axes>"
      ]
     },
     "metadata": {
      "needs_background": "light"
     },
     "output_type": "display_data"
    }
   ],
   "source": [
    "corr = data.corr()\n",
    "plt.figure(figsize=(12, 12))\n",
    "ax = sns.heatmap(\n",
    "    corr, \n",
    "    vmin=-1, vmax=1, center=0,\n",
    "    cmap=sns.diverging_palette(20, 220, n=200),\n",
    "    square=True,\n",
    ")\n",
    "ax.set_xticklabels(\n",
    "    ax.get_xticklabels(),\n",
    "    rotation=45,\n",
    "    horizontalalignment='right'\n",
    ");"
   ]
  },
  {
   "cell_type": "markdown",
   "metadata": {},
   "source": [
    "### Pair plots"
   ]
  },
  {
   "cell_type": "code",
   "execution_count": 8,
   "metadata": {},
   "outputs": [],
   "source": [
    "# sns.pairplot(data, hue='categories_str', height=1.5)"
   ]
  },
  {
   "cell_type": "markdown",
   "metadata": {},
   "source": [
    "### Catplot"
   ]
  },
  {
   "cell_type": "code",
   "execution_count": 9,
   "metadata": {},
   "outputs": [
    {
     "data": {
      "text/plain": [
       "<seaborn.axisgrid.FacetGrid at 0x1e774673310>"
      ]
     },
     "execution_count": 9,
     "metadata": {},
     "output_type": "execute_result"
    },
    {
     "data": {
      "image/png": "[encoded data removed]",
      "text/plain": [
       "<Figure size 720x360 with 1 Axes>"
      ]
     },
     "metadata": {
      "needs_background": "light"
     },
     "output_type": "display_data"
    }
   ],
   "source": [
    "# Số lượng mặt hàng theo từng loại hàng\n",
    "sns.catplot(x = \"categories_str\", data=data, aspect=2, kind=\"count\")\n",
    "# sns.factorplot(x = \"categories_str\", data=data, aspect=2, kind=\"count\")"
   ]
  },
  {
   "cell_type": "code",
   "execution_count": 10,
   "metadata": {},
   "outputs": [],
   "source": [
    "# data[['categories_str', 'category_id']].drop_duplicates()"
   ]
  },
  {
   "cell_type": "code",
   "execution_count": 11,
   "metadata": {},
   "outputs": [
    {
     "data": {
      "text/plain": [
       "<seaborn.axisgrid.FacetGrid at 0x1e71822b1c0>"
      ]
     },
     "execution_count": 11,
     "metadata": {},
     "output_type": "execute_result"
    },
    {
     "data": {
      "image/png": "[encoded data removed]",
      "text/plain": [
       "<Figure size 720x360 with 1 Axes>"
      ]
     },
     "metadata": {
      "needs_background": "light"
     },
     "output_type": "display_data"
    }
   ],
   "source": [
    "# Số lượng đánh giá theo từng cấp độ\n",
    "sns.catplot(x = \"ratings\", data=data, aspect=2, kind=\"count\")"
   ]
  },
  {
   "cell_type": "markdown",
   "metadata": {},
   "source": [
    "### Histplot và Distplot"
   ]
  },
  {
   "cell_type": "code",
   "execution_count": 12,
   "metadata": {},
   "outputs": [
    {
     "name": "stderr",
     "output_type": "stream",
     "text": [
      "c:\\Users\\LENOVO\\AppData\\Local\\Programs\\Python\\Python38\\lib\\site-packages\\seaborn\\distributions.py:2619: FutureWarning: `distplot` is a deprecated function and will be removed in a future version. Please adapt your code to use either `displot` (a figure-level function with similar flexibility) or `histplot` (an axes-level function for histograms).\n",
      "  warnings.warn(msg, FutureWarning)\n"
     ]
    },
    {
     "data": {
      "text/plain": [
       "<AxesSubplot:xlabel='num_raters', ylabel='Density'>"
      ]
     },
     "execution_count": 12,
     "metadata": {},
     "output_type": "execute_result"
    },
    {
     "data": {
      "image/png": "[encoded data removed]",
      "text/plain": [
       "<Figure size 432x288 with 1 Axes>"
      ]
     },
     "metadata": {
      "needs_background": "light"
     },
     "output_type": "display_data"
    }
   ],
   "source": [
    "sns.distplot(data['num_raters'], bins= 7) # bins: chia ra thành bins cột"
   ]
  },
  {
   "cell_type": "code",
   "execution_count": 13,
   "metadata": {},
   "outputs": [
    {
     "name": "stderr",
     "output_type": "stream",
     "text": [
      "c:\\Users\\LENOVO\\AppData\\Local\\Programs\\Python\\Python38\\lib\\site-packages\\seaborn\\distributions.py:2619: FutureWarning: `distplot` is a deprecated function and will be removed in a future version. Please adapt your code to use either `displot` (a figure-level function with similar flexibility) or `histplot` (an axes-level function for histograms).\n",
      "  warnings.warn(msg, FutureWarning)\n"
     ]
    },
    {
     "data": {
      "text/plain": [
       "<AxesSubplot:xlabel='purchases', ylabel='Density'>"
      ]
     },
     "execution_count": 13,
     "metadata": {},
     "output_type": "execute_result"
    },
    {
     "data": {
      "image/png": "[encoded data removed]",
      "text/plain": [
       "<Figure size 432x288 with 1 Axes>"
      ]
     },
     "metadata": {
      "needs_background": "light"
     },
     "output_type": "display_data"
    }
   ],
   "source": [
    "sns.distplot(data['purchases'], bins= 7) # bins: chia ra thành bins cột"
   ]
  },
  {
   "cell_type": "code",
   "execution_count": 14,
   "metadata": {},
   "outputs": [
    {
     "name": "stderr",
     "output_type": "stream",
     "text": [
      "c:\\Users\\LENOVO\\AppData\\Local\\Programs\\Python\\Python38\\lib\\site-packages\\seaborn\\distributions.py:2619: FutureWarning: `distplot` is a deprecated function and will be removed in a future version. Please adapt your code to use either `displot` (a figure-level function with similar flexibility) or `histplot` (an axes-level function for histograms).\n",
      "  warnings.warn(msg, FutureWarning)\n"
     ]
    },
    {
     "data": {
      "text/plain": [
       "<AxesSubplot:xlabel='sale_offs', ylabel='Density'>"
      ]
     },
     "execution_count": 14,
     "metadata": {},
     "output_type": "execute_result"
    },
    {
     "data": {
      "image/png": "[encoded data removed]",
      "text/plain": [
       "<Figure size 432x288 with 1 Axes>"
      ]
     },
     "metadata": {
      "needs_background": "light"
     },
     "output_type": "display_data"
    }
   ],
   "source": [
    "sns.distplot(data['sale_offs'], bins= 7) # bins: chia ra thành bins cột"
   ]
  },
  {
   "cell_type": "markdown",
   "metadata": {},
   "source": [
    "### Joint distributions"
   ]
  },
  {
   "cell_type": "code",
   "execution_count": 15,
   "metadata": {},
   "outputs": [
    {
     "data": {
      "text/plain": [
       "<seaborn.axisgrid.JointGrid at 0x1e718450820>"
      ]
     },
     "execution_count": 15,
     "metadata": {},
     "output_type": "execute_result"
    },
    {
     "data": {
      "image/png": "[encoded data removed]",
      "text/plain": [
       "<Figure size 432x432 with 3 Axes>"
      ]
     },
     "metadata": {
      "needs_background": "light"
     },
     "output_type": "display_data"
    }
   ],
   "source": [
    "sns.jointplot(x= 'purchases', y= 'category_id', kind= 'reg', data= data)"
   ]
  },
  {
   "cell_type": "markdown",
   "metadata": {},
   "source": [
    "### Heat map"
   ]
  },
  {
   "cell_type": "code",
   "execution_count": 16,
   "metadata": {},
   "outputs": [
    {
     "data": {
      "text/html": [
       "<div>\n",
       "<style scoped>\n",
       "    .dataframe tbody tr th:only-of-type {\n",
       "        vertical-align: middle;\n",
       "    }\n",
       "\n",
       "    .dataframe tbody tr th {\n",
       "        vertical-align: top;\n",
       "    }\n",
       "\n",
       "    .dataframe thead th {\n",
       "        text-align: right;\n",
       "    }\n",
       "</style>\n",
       "<table border=\"1\" class=\"dataframe\">\n",
       "  <thead>\n",
       "    <tr style=\"text-align: right;\">\n",
       "      <th></th>\n",
       "      <th>product_id</th>\n",
       "      <th>sale_offs</th>\n",
       "      <th>sales_prices</th>\n",
       "      <th>origin_prices</th>\n",
       "      <th>purchases</th>\n",
       "      <th>num_raters</th>\n",
       "      <th>ratings</th>\n",
       "      <th>category_id</th>\n",
       "      <th>name_len</th>\n",
       "      <th>category_len</th>\n",
       "    </tr>\n",
       "  </thead>\n",
       "  <tbody>\n",
       "    <tr>\n",
       "      <th>product_id</th>\n",
       "      <td>1.000000</td>\n",
       "      <td>-0.065078</td>\n",
       "      <td>0.113797</td>\n",
       "      <td>0.127881</td>\n",
       "      <td>-0.054059</td>\n",
       "      <td>-0.120165</td>\n",
       "      <td>-0.024295</td>\n",
       "      <td>0.990905</td>\n",
       "      <td>0.031935</td>\n",
       "      <td>0.146681</td>\n",
       "    </tr>\n",
       "    <tr>\n",
       "      <th>sale_offs</th>\n",
       "      <td>-0.065078</td>\n",
       "      <td>1.000000</td>\n",
       "      <td>-0.202360</td>\n",
       "      <td>0.008441</td>\n",
       "      <td>0.108973</td>\n",
       "      <td>0.092614</td>\n",
       "      <td>0.028931</td>\n",
       "      <td>-0.071599</td>\n",
       "      <td>-0.059606</td>\n",
       "      <td>-0.126244</td>\n",
       "    </tr>\n",
       "    <tr>\n",
       "      <th>sales_prices</th>\n",
       "      <td>0.113797</td>\n",
       "      <td>-0.202360</td>\n",
       "      <td>1.000000</td>\n",
       "      <td>0.968440</td>\n",
       "      <td>-0.124511</td>\n",
       "      <td>-0.067795</td>\n",
       "      <td>0.027817</td>\n",
       "      <td>0.145103</td>\n",
       "      <td>0.089323</td>\n",
       "      <td>0.231031</td>\n",
       "    </tr>\n",
       "    <tr>\n",
       "      <th>origin_prices</th>\n",
       "      <td>0.127881</td>\n",
       "      <td>0.008441</td>\n",
       "      <td>0.968440</td>\n",
       "      <td>1.000000</td>\n",
       "      <td>-0.106129</td>\n",
       "      <td>-0.051493</td>\n",
       "      <td>0.012145</td>\n",
       "      <td>0.155129</td>\n",
       "      <td>0.083775</td>\n",
       "      <td>0.178336</td>\n",
       "    </tr>\n",
       "    <tr>\n",
       "      <th>purchases</th>\n",
       "      <td>-0.054059</td>\n",
       "      <td>0.108973</td>\n",
       "      <td>-0.124511</td>\n",
       "      <td>-0.106129</td>\n",
       "      <td>1.000000</td>\n",
       "      <td>0.816050</td>\n",
       "      <td>0.027518</td>\n",
       "      <td>-0.069601</td>\n",
       "      <td>-0.086967</td>\n",
       "      <td>-0.075967</td>\n",
       "    </tr>\n",
       "    <tr>\n",
       "      <th>num_raters</th>\n",
       "      <td>-0.120165</td>\n",
       "      <td>0.092614</td>\n",
       "      <td>-0.067795</td>\n",
       "      <td>-0.051493</td>\n",
       "      <td>0.816050</td>\n",
       "      <td>1.000000</td>\n",
       "      <td>0.029838</td>\n",
       "      <td>-0.125125</td>\n",
       "      <td>-0.066410</td>\n",
       "      <td>-0.026418</td>\n",
       "    </tr>\n",
       "    <tr>\n",
       "      <th>ratings</th>\n",
       "      <td>-0.024295</td>\n",
       "      <td>0.028931</td>\n",
       "      <td>0.027817</td>\n",
       "      <td>0.012145</td>\n",
       "      <td>0.027518</td>\n",
       "      <td>0.029838</td>\n",
       "      <td>1.000000</td>\n",
       "      <td>-0.021327</td>\n",
       "      <td>-0.037218</td>\n",
       "      <td>-0.014069</td>\n",
       "    </tr>\n",
       "    <tr>\n",
       "      <th>category_id</th>\n",
       "      <td>0.990905</td>\n",
       "      <td>-0.071599</td>\n",
       "      <td>0.145103</td>\n",
       "      <td>0.155129</td>\n",
       "      <td>-0.069601</td>\n",
       "      <td>-0.125125</td>\n",
       "      <td>-0.021327</td>\n",
       "      <td>1.000000</td>\n",
       "      <td>0.032651</td>\n",
       "      <td>0.188044</td>\n",
       "    </tr>\n",
       "    <tr>\n",
       "      <th>name_len</th>\n",
       "      <td>0.031935</td>\n",
       "      <td>-0.059606</td>\n",
       "      <td>0.089323</td>\n",
       "      <td>0.083775</td>\n",
       "      <td>-0.086967</td>\n",
       "      <td>-0.066410</td>\n",
       "      <td>-0.037218</td>\n",
       "      <td>0.032651</td>\n",
       "      <td>1.000000</td>\n",
       "      <td>0.081410</td>\n",
       "    </tr>\n",
       "    <tr>\n",
       "      <th>category_len</th>\n",
       "      <td>0.146681</td>\n",
       "      <td>-0.126244</td>\n",
       "      <td>0.231031</td>\n",
       "      <td>0.178336</td>\n",
       "      <td>-0.075967</td>\n",
       "      <td>-0.026418</td>\n",
       "      <td>-0.014069</td>\n",
       "      <td>0.188044</td>\n",
       "      <td>0.081410</td>\n",
       "      <td>1.000000</td>\n",
       "    </tr>\n",
       "  </tbody>\n",
       "</table>\n",
       "</div>"
      ],
      "text/plain": [
       "               product_id  sale_offs  sales_prices  origin_prices  purchases  \\\n",
       "product_id       1.000000  -0.065078      0.113797       0.127881  -0.054059   \n",
       "sale_offs       -0.065078   1.000000     -0.202360       0.008441   0.108973   \n",
       "sales_prices     0.113797  -0.202360      1.000000       0.968440  -0.124511   \n",
       "origin_prices    0.127881   0.008441      0.968440       1.000000  -0.106129   \n",
       "purchases       -0.054059   0.108973     -0.124511      -0.106129   1.000000   \n",
       "num_raters      -0.120165   0.092614     -0.067795      -0.051493   0.816050   \n",
       "ratings         -0.024295   0.028931      0.027817       0.012145   0.027518   \n",
       "category_id      0.990905  -0.071599      0.145103       0.155129  -0.069601   \n",
       "name_len         0.031935  -0.059606      0.089323       0.083775  -0.086967   \n",
       "category_len     0.146681  -0.126244      0.231031       0.178336  -0.075967   \n",
       "\n",
       "               num_raters   ratings  category_id  name_len  category_len  \n",
       "product_id      -0.120165 -0.024295     0.990905  0.031935      0.146681  \n",
       "sale_offs        0.092614  0.028931    -0.071599 -0.059606     -0.126244  \n",
       "sales_prices    -0.067795  0.027817     0.145103  0.089323      0.231031  \n",
       "origin_prices   -0.051493  0.012145     0.155129  0.083775      0.178336  \n",
       "purchases        0.816050  0.027518    -0.069601 -0.086967     -0.075967  \n",
       "num_raters       1.000000  0.029838    -0.125125 -0.066410     -0.026418  \n",
       "ratings          0.029838  1.000000    -0.021327 -0.037218     -0.014069  \n",
       "category_id     -0.125125 -0.021327     1.000000  0.032651      0.188044  \n",
       "name_len        -0.066410 -0.037218     0.032651  1.000000      0.081410  \n",
       "category_len    -0.026418 -0.014069     0.188044  0.081410      1.000000  "
      ]
     },
     "execution_count": 16,
     "metadata": {},
     "output_type": "execute_result"
    }
   ],
   "source": [
    "data.corr()"
   ]
  },
  {
   "cell_type": "code",
   "execution_count": 17,
   "metadata": {},
   "outputs": [
    {
     "data": {
      "text/plain": [
       "<AxesSubplot:>"
      ]
     },
     "execution_count": 17,
     "metadata": {},
     "output_type": "execute_result"
    },
    {
     "data": {
      "image/png": "[encoded data removed]",
      "text/plain": [
       "<Figure size 432x288 with 2 Axes>"
      ]
     },
     "metadata": {
      "needs_background": "light"
     },
     "output_type": "display_data"
    }
   ],
   "source": [
    "sns.heatmap(data.corr())"
   ]
  },
  {
   "cell_type": "markdown",
   "metadata": {},
   "source": [
    "### Pie Char"
   ]
  },
  {
   "cell_type": "code",
   "execution_count": 18,
   "metadata": {},
   "outputs": [
    {
     "data": {
      "image/png": "[encoded data removed]",
      "text/plain": [
       "<Figure size 432x288 with 1 Axes>"
      ]
     },
     "metadata": {},
     "output_type": "display_data"
    }
   ],
   "source": [
    "# Pie chart\n",
    "labels = []\n",
    "sizes = []\n",
    "explode = []\n",
    "\n",
    "labels = data['category_id'].value_counts().index.sort_values()\n",
    "for index, size in enumerate(labels):\n",
    "    sizes.append(size)\n",
    "    if size==3:\n",
    "        explode.append(0.2)\n",
    "    else:\n",
    "        explode.append(0)\n",
    " \n",
    "_, ax1 = plt.subplots()\n",
    "ax1.pie(sizes, explode=explode, labels=labels, autopct='%1.1f%%',\n",
    "        shadow=True, startangle=90)\n",
    "# Equal aspect ratio ensures that pie is drawn as a circle\n",
    "ax1.axis('equal')  \n",
    "plt.tight_layout()\n",
    "plt.show()"
   ]
  },
  {
   "cell_type": "markdown",
   "metadata": {},
   "source": [
    "## 1.6 Xử lý dữ liệu trống"
   ]
  },
  {
   "cell_type": "code",
   "execution_count": 19,
   "metadata": {},
   "outputs": [
    {
     "data": {
      "text/plain": [
       "product_id          0\n",
       "product_names       0\n",
       "sale_offs         402\n",
       "sales_prices      402\n",
       "origin_prices       0\n",
       "purchases           0\n",
       "num_raters          0\n",
       "ratings             0\n",
       "categories_str      0\n",
       "category_id         0\n",
       "name_len            0\n",
       "category_len        0\n",
       "dtype: int64"
      ]
     },
     "execution_count": 19,
     "metadata": {},
     "output_type": "execute_result"
    }
   ],
   "source": [
    "data.isnull().sum()"
   ]
  },
  {
   "cell_type": "code",
   "execution_count": 20,
   "metadata": {},
   "outputs": [],
   "source": [
    "# mang du lieu da qua xu li du lieu trong va ngoai le\n",
    "data_copy = data.copy()\n",
    "# mang du lieu chua qua xu li du lieu trong va ngoai le\n",
    "data_copy_non_pr = data.copy()"
   ]
  },
  {
   "cell_type": "code",
   "execution_count": 21,
   "metadata": {},
   "outputs": [],
   "source": [
    "def get_std_before_and_after(method, before, after):    \n",
    "# in ra do lech chuan truoc va sau khi dien du lieu trong\n",
    "    print('***' + method + '***')\n",
    "    print('before filled na: ' , before.std())\n",
    "    print('after filled na: ' , after.std())"
   ]
  },
  {
   "cell_type": "code",
   "execution_count": 22,
   "metadata": {},
   "outputs": [],
   "source": [
    "def probability_density_function(old_data, new_data):\n",
    "    # ve ham mat do xac suat cua cot Age truoc va sau khi dien du lieu trong\n",
    "    fig = plt.figure()\n",
    "    ax = fig.add_subplot(111)\n",
    "    old_data.plot(kind='kde', color='blue')\n",
    "    new_data.plot(kind='kde', color='red')\n",
    "    lines, labels = ax.get_legend_handles_labels()\n",
    "    ax.legend(lines, labels, loc='best')"
   ]
  },
  {
   "cell_type": "code",
   "execution_count": 23,
   "metadata": {},
   "outputs": [
    {
     "name": "stdout",
     "output_type": "stream",
     "text": [
      "0.32542782152230976\n",
      "***Mean***\n",
      "before filled na:  0.09693592574657901\n",
      "after filled na:  0.08808228709480846\n"
     ]
    },
    {
     "data": {
      "image/png": "[encoded data removed]",
      "text/plain": [
       "<Figure size 432x288 with 1 Axes>"
      ]
     },
     "metadata": {
      "needs_background": "light"
     },
     "output_type": "display_data"
    }
   ],
   "source": [
    "# chỉ cần thay đổi kĩ thuật xử lí\n",
    "sale_offs_fixed = data_copy['sale_offs'].mean()\n",
    "print(sale_offs_fixed)\n",
    "data_copy['sale_offs'] = data_copy['sale_offs'].fillna(sale_offs_fixed)\n",
    "probability_density_function(data['sale_offs'], data_copy['sale_offs'])\n",
    "get_std_before_and_after('Mean',data['sale_offs'], data_copy['sale_offs'] )"
   ]
  },
  {
   "cell_type": "code",
   "execution_count": 24,
   "metadata": {},
   "outputs": [
    {
     "name": "stdout",
     "output_type": "stream",
     "text": [
      "252918.89763779528\n",
      "***Median***\n",
      "before filled na:  180385.7811812106\n",
      "after filled na:  180385.7811812106\n"
     ]
    },
    {
     "data": {
      "image/png": "[encoded data removed]",
      "text/plain": [
       "<Figure size 432x288 with 1 Axes>"
      ]
     },
     "metadata": {
      "needs_background": "light"
     },
     "output_type": "display_data"
    }
   ],
   "source": [
    "sales_prices_fixed = data_copy['sales_prices'].mean()\n",
    "print(sales_prices_fixed)\n",
    "data_copy['sales_prices'] = data_copy['sales_prices'].fillna(sales_prices_fixed)\n",
    "probability_density_function(data['sales_prices'], data_copy['sales_prices'])\n",
    "get_std_before_and_after('Median', data['sales_prices'], data_copy['sales_prices'] )"
   ]
  },
  {
   "cell_type": "markdown",
   "metadata": {},
   "source": [
    "## 1.7 Xử lí dữ liệu ngoại lệ"
   ]
  },
  {
   "cell_type": "code",
   "execution_count": 25,
   "metadata": {},
   "outputs": [],
   "source": [
    "# hàm vẽ histogram để nhận biết dạng phân bố\n",
    "def histogram(data):\n",
    "    fig, ((ax0, ax1), (ax2, ax3)) = plt.subplots(nrows=2, ncols=2)\n",
    "    n_bins=30\n",
    "    ax0.hist(data['sale_offs'], n_bins,  histtype='bar')\n",
    "    ax0.set_title('sale_offs')\n",
    "    ax1.hist(data['sales_prices'], n_bins,  histtype='bar')\n",
    "    ax1.set_title('sales_prices')\n",
    "    ax2.hist(data['origin_prices'], n_bins, histtype='bar')\n",
    "    ax2.set_title('origin_prices')\n",
    "    ax3.hist(data['purchases'], n_bins , histtype='bar')\n",
    "    ax3.set_title('purchases')\n",
    "    # ax4.hist(data['num_raters'], n_bins , histtype='bar')\n",
    "    # ax4.set_title('num_raters')\n",
    "    # ax5.hist(data['ratings'], n_bins , histtype='bar')\n",
    "    # ax5.set_title('ratings')\n",
    "\n",
    "    fig.tight_layout()\n",
    "    plt.show()"
   ]
  },
  {
   "cell_type": "code",
   "execution_count": 26,
   "metadata": {},
   "outputs": [
    {
     "data": {
      "image/png": "[encoded data removed]",
      "text/plain": [
       "<Figure size 432x288 with 4 Axes>"
      ]
     },
     "metadata": {
      "needs_background": "light"
     },
     "output_type": "display_data"
    }
   ],
   "source": [
    "histogram(data_copy)"
   ]
  },
  {
   "cell_type": "markdown",
   "metadata": {},
   "source": [
    "##### Dữ liệu của cột sale_offs có dạng phân bố chuẩn nên ta có: \n",
    "* ==> + Biên trên = GTTB + 3*Độ lệch chuẩn\n",
    "* ==> + Biên dưới =  GTTB - 3*Độ lệch chuẩn"
   ]
  },
  {
   "cell_type": "code",
   "execution_count": 27,
   "metadata": {},
   "outputs": [
    {
     "name": "stdout",
     "output_type": "stream",
     "text": [
      "0.5896746828067351\n",
      "0.06118096023788433\n"
     ]
    }
   ],
   "source": [
    "# Xử lý ngoại lệ cho cột sale_offs\n",
    "ub_sale_offs = data_copy['sale_offs'].mean() + 3 * data_copy['sale_offs'].std()\n",
    "lb_sale_offs = data_copy['sale_offs'].mean() - 3 * data_copy['sale_offs'].std()\n",
    "print(ub_sale_offs)\n",
    "print(lb_sale_offs)"
   ]
  },
  {
   "cell_type": "markdown",
   "metadata": {},
   "source": [
    "##### Dữ liệu của cột sales_prices, origin_prices, purchases, num_raters, ratings có dạng phân bố lệch (skewed) nên ta có: \n",
    "* ==> + Biên trên = 3rd Quantile + 3*IQR\n",
    "* ==> + Biên dưới =  1st Quantile - 3*IQR\n",
    "* IQR: Interquantile range\n",
    "    * 3rd Quantile = Percentile 75\n",
    "    * 1st Quantile = Percentile 25"
   ]
  },
  {
   "cell_type": "code",
   "execution_count": 28,
   "metadata": {},
   "outputs": [
    {
     "name": "stdout",
     "output_type": "stream",
     "text": [
      "757000.0\n",
      "-314000.0\n"
     ]
    }
   ],
   "source": [
    "# Xử lý ngoại lệ cho cột sales_prices\n",
    "IQR_sales_prices = data_copy['sales_prices'].quantile(0.75) - data_copy['sales_prices'].quantile(0.25)  \n",
    "ub_sales_prices = data_copy['sales_prices'].quantile(0.75) + 3 * IQR_sales_prices \n",
    "lb_sales_prices = data_copy['sales_prices'].quantile(0.25) - 3 * IQR_sales_prices \n",
    "print(ub_sales_prices)\n",
    "print(lb_sales_prices)"
   ]
  },
  {
   "cell_type": "code",
   "execution_count": 29,
   "metadata": {},
   "outputs": [
    {
     "name": "stdout",
     "output_type": "stream",
     "text": [
      "1083000.0\n",
      "-394000.0\n"
     ]
    }
   ],
   "source": [
    "# Xử lý ngoại lệ cho cột origin_prices\n",
    "IQR_origin_prices = data_copy['origin_prices'].quantile(0.75) - data_copy['origin_prices'].quantile(0.25)  \n",
    "ub_origin_prices = data_copy['origin_prices'].quantile(0.75) + 3 * IQR_origin_prices\n",
    "lb_origin_prices = data_copy['origin_prices'].quantile(0.25) - 3 * IQR_origin_prices\n",
    "print(ub_origin_prices)\n",
    "print(lb_origin_prices)"
   ]
  },
  {
   "cell_type": "code",
   "execution_count": 30,
   "metadata": {},
   "outputs": [
    {
     "name": "stdout",
     "output_type": "stream",
     "text": [
      "600.0\n",
      "-138.5\n"
     ]
    }
   ],
   "source": [
    "# Xử lý ngoại lệ cho cột purchases\n",
    "IQR_purchases = data_copy['purchases'].quantile(0.75) - data_copy['purchases'].quantile(0.25)  \n",
    "ub_purchases = data_copy['purchases'].quantile(0.75) + 3 * IQR_purchases\n",
    "lb_purchases = data_copy['purchases'].quantile(0.25) - 3 * IQR_purchases\n",
    "print(ub_purchases)\n",
    "print(lb_purchases)"
   ]
  },
  {
   "cell_type": "code",
   "execution_count": 31,
   "metadata": {},
   "outputs": [],
   "source": [
    "# # Xử lý ngoại lệ cho cột num_raters\n",
    "# IQR_num_raters = data['num_raters'].quantile(0.75) - data['num_raters'].quantile(0.25)  \n",
    "# ub_num_raters = data['num_raters'].quantile(0.75) + 3 * IQR_num_raters\n",
    "# lb_num_raters = data['num_raters'].quantile(0.25) - 3 * IQR_num_raters\n",
    "# print(ub_num_raters)\n",
    "# print(lb_num_raters)"
   ]
  },
  {
   "cell_type": "code",
   "execution_count": 32,
   "metadata": {},
   "outputs": [],
   "source": [
    "# # Xử lý ngoại lệ cho cột ratings\n",
    "# IQR_ratings = data['ratings'].quantile(0.75) - data['ratings'].quantile(0.25)  \n",
    "# ub_ratings = data['ratings'].quantile(0.75) + 3 * IQR_ratings\n",
    "# lb_ratings = data['ratings'].quantile(0.25) - 3 * IQR_ratings\n",
    "# print(ub_ratings)\n",
    "# print(lb_ratings)"
   ]
  },
  {
   "cell_type": "code",
   "execution_count": 33,
   "metadata": {},
   "outputs": [],
   "source": [
    "# Xác định các giá trị biên trên và biên dưới của dữ liệu\n",
    "# Thay thế giá trị ngoại lệ bằng 1 trong 2 giá trị trên\n",
    "data_copy.loc[data_copy['sale_offs'] >= ub_sale_offs, 'sale_offs'] = ub_sale_offs\n",
    "data_copy.loc[data_copy['sales_prices'] >= ub_sales_prices, 'sales_prices'] = ub_sales_prices\n",
    "data_copy.loc[data_copy['origin_prices'] >= ub_origin_prices, 'origin_prices'] = ub_origin_prices\n",
    "data_copy.loc[data_copy['purchases'] >= ub_purchases, 'purchases'] = ub_purchases\n",
    "# data_copy.loc[data_copy['num_raters'] >= ub_num_raters, 'num_raters'] = ub_num_raters\n",
    "# data_copy.loc[data_copy['ratings'] >= ub_ratings, 'ratings'] = ub_ratings\n"
   ]
  },
  {
   "cell_type": "code",
   "execution_count": 34,
   "metadata": {},
   "outputs": [
    {
     "data": {
      "image/png": "[encoded data removed]",
      "text/plain": [
       "<Figure size 432x288 with 4 Axes>"
      ]
     },
     "metadata": {
      "needs_background": "light"
     },
     "output_type": "display_data"
    }
   ],
   "source": [
    "histogram(data_copy_non_pr)"
   ]
  },
  {
   "cell_type": "code",
   "execution_count": 35,
   "metadata": {},
   "outputs": [
    {
     "data": {
      "image/png": "[encoded data removed]",
      "text/plain": [
       "<Figure size 432x288 with 4 Axes>"
      ]
     },
     "metadata": {
      "needs_background": "light"
     },
     "output_type": "display_data"
    }
   ],
   "source": [
    "histogram(data_copy)"
   ]
  },
  {
   "cell_type": "code",
   "execution_count": 36,
   "metadata": {},
   "outputs": [],
   "source": [
    "#export DataFrame to CSV file\n",
    "data_copy.to_csv(r'clean_data.csv', index=False)"
   ]
  },
  {
   "cell_type": "code",
   "execution_count": 37,
   "metadata": {},
   "outputs": [
    {
     "data": {
      "text/html": [
       "<div>\n",
       "<style scoped>\n",
       "    .dataframe tbody tr th:only-of-type {\n",
       "        vertical-align: middle;\n",
       "    }\n",
       "\n",
       "    .dataframe tbody tr th {\n",
       "        vertical-align: top;\n",
       "    }\n",
       "\n",
       "    .dataframe thead th {\n",
       "        text-align: right;\n",
       "    }\n",
       "</style>\n",
       "<table border=\"1\" class=\"dataframe\">\n",
       "  <thead>\n",
       "    <tr style=\"text-align: right;\">\n",
       "      <th></th>\n",
       "      <th>product_id</th>\n",
       "      <th>product_names</th>\n",
       "      <th>sale_offs</th>\n",
       "      <th>sales_prices</th>\n",
       "      <th>origin_prices</th>\n",
       "      <th>purchases</th>\n",
       "      <th>num_raters</th>\n",
       "      <th>ratings</th>\n",
       "      <th>categories_str</th>\n",
       "      <th>category_id</th>\n",
       "      <th>name_len</th>\n",
       "      <th>category_len</th>\n",
       "      <th>sales_prices_fixed</th>\n",
       "    </tr>\n",
       "  </thead>\n",
       "  <tbody>\n",
       "    <tr>\n",
       "      <th>0</th>\n",
       "      <td>0</td>\n",
       "      <td>Áo khoác nam Akuba -3307 - Xanh</td>\n",
       "      <td>0.325428</td>\n",
       "      <td>NaN</td>\n",
       "      <td>520000</td>\n",
       "      <td>165</td>\n",
       "      <td>1</td>\n",
       "      <td>80</td>\n",
       "      <td>Áo khoác</td>\n",
       "      <td>0</td>\n",
       "      <td>31</td>\n",
       "      <td>8</td>\n",
       "      <td>252918.897638</td>\n",
       "    </tr>\n",
       "    <tr>\n",
       "      <th>1</th>\n",
       "      <td>1</td>\n",
       "      <td>Áo khoác Bomber Nam Nữ 1980 phong cách - Xanh đen</td>\n",
       "      <td>0.310000</td>\n",
       "      <td>165000.0</td>\n",
       "      <td>239000</td>\n",
       "      <td>521</td>\n",
       "      <td>13</td>\n",
       "      <td>86</td>\n",
       "      <td>Áo khoác</td>\n",
       "      <td>0</td>\n",
       "      <td>49</td>\n",
       "      <td>8</td>\n",
       "      <td>165000.000000</td>\n",
       "    </tr>\n",
       "    <tr>\n",
       "      <th>2</th>\n",
       "      <td>2</td>\n",
       "      <td>Áo khoác nam nữ chống tia UV xám thể thao - A</td>\n",
       "      <td>0.290000</td>\n",
       "      <td>375000.0</td>\n",
       "      <td>525000</td>\n",
       "      <td>180</td>\n",
       "      <td>4</td>\n",
       "      <td>80</td>\n",
       "      <td>Áo khoác</td>\n",
       "      <td>0</td>\n",
       "      <td>45</td>\n",
       "      <td>8</td>\n",
       "      <td>375000.000000</td>\n",
       "    </tr>\n",
       "    <tr>\n",
       "      <th>3</th>\n",
       "      <td>3</td>\n",
       "      <td>Áo khoác nam nữ AW phong cách - Đỏ đô</td>\n",
       "      <td>0.310000</td>\n",
       "      <td>165000.0</td>\n",
       "      <td>239000</td>\n",
       "      <td>183</td>\n",
       "      <td>1</td>\n",
       "      <td>80</td>\n",
       "      <td>Áo khoác</td>\n",
       "      <td>0</td>\n",
       "      <td>37</td>\n",
       "      <td>8</td>\n",
       "      <td>165000.000000</td>\n",
       "    </tr>\n",
       "    <tr>\n",
       "      <th>4</th>\n",
       "      <td>4</td>\n",
       "      <td>Áo khoác unisex phối chữ cá tính - Trắng</td>\n",
       "      <td>0.340000</td>\n",
       "      <td>179000.0</td>\n",
       "      <td>270000</td>\n",
       "      <td>326</td>\n",
       "      <td>3</td>\n",
       "      <td>87</td>\n",
       "      <td>Áo khoác</td>\n",
       "      <td>0</td>\n",
       "      <td>40</td>\n",
       "      <td>8</td>\n",
       "      <td>179000.000000</td>\n",
       "    </tr>\n",
       "    <tr>\n",
       "      <th>...</th>\n",
       "      <td>...</td>\n",
       "      <td>...</td>\n",
       "      <td>...</td>\n",
       "      <td>...</td>\n",
       "      <td>...</td>\n",
       "      <td>...</td>\n",
       "      <td>...</td>\n",
       "      <td>...</td>\n",
       "      <td>...</td>\n",
       "      <td>...</td>\n",
       "      <td>...</td>\n",
       "      <td>...</td>\n",
       "      <td>...</td>\n",
       "    </tr>\n",
       "    <tr>\n",
       "      <th>2302</th>\n",
       "      <td>2302</td>\n",
       "      <td>Vòng tay đá mắt hổ đen 3 màu - Đen</td>\n",
       "      <td>0.325428</td>\n",
       "      <td>NaN</td>\n",
       "      <td>300000</td>\n",
       "      <td>134</td>\n",
       "      <td>1</td>\n",
       "      <td>80</td>\n",
       "      <td>Phụ kiện khác</td>\n",
       "      <td>12</td>\n",
       "      <td>34</td>\n",
       "      <td>13</td>\n",
       "      <td>252918.897638</td>\n",
       "    </tr>\n",
       "    <tr>\n",
       "      <th>2303</th>\n",
       "      <td>2303</td>\n",
       "      <td>Găng tay nam Monster cá tính - Xanh dương</td>\n",
       "      <td>0.325428</td>\n",
       "      <td>NaN</td>\n",
       "      <td>480000</td>\n",
       "      <td>209</td>\n",
       "      <td>1</td>\n",
       "      <td>80</td>\n",
       "      <td>Phụ kiện khác</td>\n",
       "      <td>12</td>\n",
       "      <td>41</td>\n",
       "      <td>13</td>\n",
       "      <td>252918.897638</td>\n",
       "    </tr>\n",
       "    <tr>\n",
       "      <th>2304</th>\n",
       "      <td>2304</td>\n",
       "      <td>Vòng tay trang sức mệnh Hỏa 1646 - Đỏ</td>\n",
       "      <td>0.350000</td>\n",
       "      <td>475000.0</td>\n",
       "      <td>731000</td>\n",
       "      <td>193</td>\n",
       "      <td>1</td>\n",
       "      <td>80</td>\n",
       "      <td>Phụ kiện khác</td>\n",
       "      <td>12</td>\n",
       "      <td>37</td>\n",
       "      <td>13</td>\n",
       "      <td>475000.000000</td>\n",
       "    </tr>\n",
       "    <tr>\n",
       "      <th>2305</th>\n",
       "      <td>2305</td>\n",
       "      <td>Combo 2 cà vạt nam phong cách</td>\n",
       "      <td>0.400000</td>\n",
       "      <td>320000.0</td>\n",
       "      <td>533000</td>\n",
       "      <td>112</td>\n",
       "      <td>1</td>\n",
       "      <td>80</td>\n",
       "      <td>Phụ kiện khác</td>\n",
       "      <td>12</td>\n",
       "      <td>29</td>\n",
       "      <td>13</td>\n",
       "      <td>320000.000000</td>\n",
       "    </tr>\n",
       "    <tr>\n",
       "      <th>2306</th>\n",
       "      <td>2306</td>\n",
       "      <td>Vòng Tay Phong Thủy Mạng Thủy – Kim 1647 - Đen</td>\n",
       "      <td>0.325428</td>\n",
       "      <td>NaN</td>\n",
       "      <td>300000</td>\n",
       "      <td>228</td>\n",
       "      <td>1</td>\n",
       "      <td>80</td>\n",
       "      <td>Phụ kiện khác</td>\n",
       "      <td>12</td>\n",
       "      <td>46</td>\n",
       "      <td>13</td>\n",
       "      <td>252918.897638</td>\n",
       "    </tr>\n",
       "  </tbody>\n",
       "</table>\n",
       "<p>2307 rows × 13 columns</p>\n",
       "</div>"
      ],
      "text/plain": [
       "      product_id                                      product_names  \\\n",
       "0              0                    Áo khoác nam Akuba -3307 - Xanh   \n",
       "1              1  Áo khoác Bomber Nam Nữ 1980 phong cách - Xanh đen   \n",
       "2              2      Áo khoác nam nữ chống tia UV xám thể thao - A   \n",
       "3              3              Áo khoác nam nữ AW phong cách - Đỏ đô   \n",
       "4              4           Áo khoác unisex phối chữ cá tính - Trắng   \n",
       "...          ...                                                ...   \n",
       "2302        2302                 Vòng tay đá mắt hổ đen 3 màu - Đen   \n",
       "2303        2303          Găng tay nam Monster cá tính - Xanh dương   \n",
       "2304        2304              Vòng tay trang sức mệnh Hỏa 1646 - Đỏ   \n",
       "2305        2305                      Combo 2 cà vạt nam phong cách   \n",
       "2306        2306     Vòng Tay Phong Thủy Mạng Thủy – Kim 1647 - Đen   \n",
       "\n",
       "      sale_offs  sales_prices  origin_prices  purchases  num_raters  ratings  \\\n",
       "0      0.325428           NaN         520000        165           1       80   \n",
       "1      0.310000      165000.0         239000        521          13       86   \n",
       "2      0.290000      375000.0         525000        180           4       80   \n",
       "3      0.310000      165000.0         239000        183           1       80   \n",
       "4      0.340000      179000.0         270000        326           3       87   \n",
       "...         ...           ...            ...        ...         ...      ...   \n",
       "2302   0.325428           NaN         300000        134           1       80   \n",
       "2303   0.325428           NaN         480000        209           1       80   \n",
       "2304   0.350000      475000.0         731000        193           1       80   \n",
       "2305   0.400000      320000.0         533000        112           1       80   \n",
       "2306   0.325428           NaN         300000        228           1       80   \n",
       "\n",
       "     categories_str  category_id  name_len  category_len  sales_prices_fixed  \n",
       "0          Áo khoác            0        31             8       252918.897638  \n",
       "1          Áo khoác            0        49             8       165000.000000  \n",
       "2          Áo khoác            0        45             8       375000.000000  \n",
       "3          Áo khoác            0        37             8       165000.000000  \n",
       "4          Áo khoác            0        40             8       179000.000000  \n",
       "...             ...          ...       ...           ...                 ...  \n",
       "2302  Phụ kiện khác           12        34            13       252918.897638  \n",
       "2303  Phụ kiện khác           12        41            13       252918.897638  \n",
       "2304  Phụ kiện khác           12        37            13       475000.000000  \n",
       "2305  Phụ kiện khác           12        29            13       320000.000000  \n",
       "2306  Phụ kiện khác           12        46            13       252918.897638  \n",
       "\n",
       "[2307 rows x 13 columns]"
      ]
     },
     "execution_count": 37,
     "metadata": {},
     "output_type": "execute_result"
    }
   ],
   "source": [
    "data_copy"
   ]
  }
 ],
 "metadata": {
  "kernelspec": {
   "display_name": "Python 3.8.9 64-bit",
   "language": "python",
   "name": "python3"
  },
  "language_info": {
   "codemirror_mode": {
    "name": "ipython",
    "version": 3
   },
   "file_extension": ".py",
   "mimetype": "text/x-python",
   "name": "python",
   "nbconvert_exporter": "python",
   "pygments_lexer": "ipython3",
   "version": "3.8.9"
  },
  "vscode": {
   "interpreter": {
    "hash": "fea989aaa876156c08a300e4d0cc50ce1bf9c85d1e4a173354466ed51b467780"
   }
  }
 },
 "nbformat": 4,
 "nbformat_minor": 4
}
