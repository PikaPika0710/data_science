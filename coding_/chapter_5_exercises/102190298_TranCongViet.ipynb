{
 "cells": [
  {
   "cell_type": "markdown",
   "metadata": {},
   "source": [
    "## Missing Values"
   ]
  },
  {
   "cell_type": "code",
   "execution_count": null,
   "metadata": {},
   "outputs": [],
   "source": [
    "import pandas as pd"
   ]
  },
  {
   "cell_type": "code",
   "execution_count": null,
   "metadata": {},
   "outputs": [],
   "source": [
    "df=pd.read_csv('titanic.csv')"
   ]
  },
  {
   "cell_type": "code",
   "execution_count": null,
   "metadata": {},
   "outputs": [],
   "source": [
    "df.head()"
   ]
  },
  {
   "cell_type": "code",
   "execution_count": null,
   "metadata": {},
   "outputs": [],
   "source": [
    "df.isnull().sum()"
   ]
  },
  {
   "cell_type": "code",
   "execution_count": null,
   "metadata": {},
   "outputs": [],
   "source": [
    "# cac hanh khach ko co du lieu ve dia diem len tau\n",
    "df[df['Embarked'].isnull()]"
   ]
  },
  {
   "cell_type": "code",
   "execution_count": null,
   "metadata": {},
   "outputs": [],
   "source": [
    "import numpy as np\n",
    "df['cabin_null']=np.where(df['Cabin'].isnull(),1,0)\n",
    "\n",
    "## Tim phan tram hanh khach ko co du lieu ve cho ngoi \n",
    "df['cabin_null'].mean()"
   ]
  },
  {
   "cell_type": "code",
   "execution_count": null,
   "metadata": {},
   "outputs": [],
   "source": [
    "# Tim phan tram hanh khach ko co du lieu ve cho ngoi phan theo tinh trang song/chet\n",
    "df.groupby(['Survived'])['cabin_null'].mean()"
   ]
  },
  {
   "cell_type": "markdown",
   "metadata": {},
   "source": [
    "### Các kỹ thuật xử lý dữ liệu trống\n",
    "\n",
    "1. Mean/ Median/Mode replacement\n",
    "2. Random Sample Imputation\n",
    "3. Capturing NAN values with a new feature\n",
    "4. End of Distribution imputation\n",
    "5. Arbitrary Value Imputation\n"
   ]
  },
  {
   "cell_type": "markdown",
   "metadata": {},
   "source": [
    "#### Thay thế bằng Mean/Median/Mode\n",
    "- Kỹ thuật này giả định rằng dữ liệu trống hoàn toàn ngẫu nhiên\n",
    "- Thay thế dữ liệu trống bằng Mean/Median/Mode của cột"
   ]
  },
  {
   "cell_type": "code",
   "execution_count": null,
   "metadata": {},
   "outputs": [],
   "source": [
    "df=pd.read_csv('titanic.csv',usecols=['Age','Fare','Survived'])\n",
    "df.head()"
   ]
  },
  {
   "cell_type": "code",
   "execution_count": null,
   "metadata": {},
   "outputs": [],
   "source": [
    "## Phan tram du lieu trong cua moi cot\n",
    "df.isnull().mean()"
   ]
  },
  {
   "cell_type": "code",
   "execution_count": null,
   "metadata": {},
   "outputs": [],
   "source": [
    "# dien du lieu trong cua cot Age\n",
    "median=df['Age'].median()\n",
    "print(median)\n",
    "df['Age_median']=df['Age'].fillna(median)\n",
    "df.head()"
   ]
  },
  {
   "cell_type": "code",
   "execution_count": null,
   "metadata": {},
   "outputs": [],
   "source": [
    "# in ra do lech chuan truoc va sau khi dien du lieu trong\n",
    "print(df['Age'].std())\n",
    "print(df['Age_median'].std())"
   ]
  },
  {
   "cell_type": "code",
   "execution_count": null,
   "metadata": {},
   "outputs": [],
   "source": [
    "# ve ham mat do xac suat cua cot Age truoc va sau khi dien du lieu trong\n",
    "import matplotlib.pyplot as plt\n",
    "fig = plt.figure()\n",
    "ax = fig.add_subplot(111)\n",
    "df['Age'].plot(kind='kde', color='blue')\n",
    "df['Age_median'].plot(kind='kde', color='red')\n",
    "lines, labels = ax.get_legend_handles_labels()\n",
    "ax.legend(lines, labels, loc='best')"
   ]
  },
  {
   "cell_type": "markdown",
   "metadata": {},
   "source": [
    "* 7 kỹ thuật xử lý dữ liệu trống"
   ]
  },
  {
   "cell_type": "code",
   "execution_count": null,
   "metadata": {},
   "outputs": [],
   "source": [
    "# Median\n",
    "median = df['Age'].median()\n",
    "df['Age_median'] = df['Age'].fillna(median)\n",
    "pdf(df['Age'], df['Age_median'])\n",
    "\n",
    "# Mean \n",
    "mean = df['Age'].mean()\n",
    "df['Age_mean'] = df['Age'].fillna(mean)\n",
    "pdf(df['Age'], df['Age_mean'])\n",
    "\n",
    "# Mode \n",
    "mode = df['Age'].mode().values[0]\n",
    "df['Age_mode'] = df['Age'].fillna(mode)\n",
    "pdf(df['Age'], df['Age_mode'])\n",
    "\n",
    "# Random value\n",
    "random_samples = df['Age'].dropna().sample(n = df['Age'].isnull().sum(), random_state = 0)\n",
    "random_samples.index = df['Age'][df['Age'].isnull()].index\n",
    "# Replace nah values by random values\n",
    "df['Age_random'] = df['Age']\n",
    "df.loc[df['Age'].isnull(), 'Age_random']=random_samples\n",
    "pdf(df['Age'], df['Age_random'])\n",
    "\n",
    "\n",
    "# End of distribution \n",
    "age_end = df['Age'].mean() + 3 * df['Age'].std()\n",
    "df['Age_end'] = df['Age'].fillna(age_end)\n",
    "pdf(df['Age'], df['Age_end'])\n",
    "\n",
    "# Fix Value\n",
    "df['Age_fix_value'] = df['Age'].fillna(30) \n",
    "pdf(df['Age'], df['Age_fix_value']) \n",
    "\n",
    "# New feature\n",
    "df['Age_Nah'] = df['Age']\n",
    "df.loc[df['Age'].isnull(), 'Age_Nah']=0\n",
    "df.loc[df['Age']>0, 'Age_Nah']=1"
   ]
  },
  {
   "cell_type": "code",
   "execution_count": null,
   "metadata": {},
   "outputs": [],
   "source": [
    "def pdf(old_data, new_data):\n",
    "    # ve ham mat do xac suat cua cot Age truoc va sau khi dien du lieu trong\n",
    "    import matplotlib.pyplot as plt\n",
    "    fig = plt.figure()\n",
    "    ax = fig.add_subplot(111)\n",
    "    old_data.plot(kind='kde', color='blue')\n",
    "    new_data.plot(kind='kde', color='red')\n",
    "    lines, labels = ax.get_legend_handles_labels()\n",
    "    ax.legend(lines, labels, loc='best')"
   ]
  },
  {
   "cell_type": "markdown",
   "metadata": {},
   "source": [
    "* Xử lý ngoại lệ"
   ]
  },
  {
   "cell_type": "code",
   "execution_count": null,
   "metadata": {},
   "outputs": [],
   "source": [
    "df['Age'].describe()\n"
   ]
  },
  {
   "cell_type": "markdown",
   "metadata": {},
   "source": [
    "### Dữ liệu cột 'Fare' có dạng phân bố lệch (skewed) nên ta có: \n",
    "* ==> + Biên trên = 3rd Quantile + 3*IQR\n",
    "* ==> + Biên dưới =  1st Quantile - 3*IQR\n",
    "\n",
    "* IQR: Interquantile range:\n",
    "    * 3rd Quantile = Percentile 75\n",
    "    * 1st Quantile = Percentile 25"
   ]
  },
  {
   "cell_type": "code",
   "execution_count": null,
   "metadata": {},
   "outputs": [],
   "source": [
    "IQR = df['Fare'].quantile(0.75) - df['Fare'].quantile(0.25)\n",
    "print(IQR)  "
   ]
  },
  {
   "cell_type": "code",
   "execution_count": null,
   "metadata": {},
   "outputs": [],
   "source": [
    "upper_boundary = df['Fare'].quantile(0.75) + 3 * IQR\n",
    "lower_boundary = df['Fare'].quantile(0.25) - 3 * IQR\n",
    "print(upper_boundary)\n",
    "print(lower_boundary)"
   ]
  },
  {
   "cell_type": "markdown",
   "metadata": {},
   "source": [
    "### Cột Age phân bố chuẩn nên sử dụng công thức tìm cận trên cận dưới như sau:\n",
    "- Biên trên = GTTB + 3*Độ lệch chuẩn \n",
    "- Biên dưới = GTTB - 3*Độ lệch chuẩn"
   ]
  },
  {
   "cell_type": "code",
   "execution_count": null,
   "metadata": {},
   "outputs": [],
   "source": [
    "uppper_boundary = df['Age_mean'].mean() + 3 * df['Age_mean'].std()\n",
    "lower_boundary = df['Age_mean'].mean() - 3 * df['Age_mean'].std()\n",
    "print(lower_boundary), print(uppper_boundary), print(df['Age_mean'].mean())\n"
   ]
  },
  {
   "cell_type": "code",
   "execution_count": null,
   "metadata": {},
   "outputs": [],
   "source": [
    "data = df.copy()\n",
    "data_non_pr = df.copy()\n"
   ]
  },
  {
   "cell_type": "code",
   "execution_count": null,
   "metadata": {},
   "outputs": [],
   "source": [
    "data.loc[data['Age_mean'] >= 68, 'Age_mean'] = 68\n",
    "data.loc[data['Fare'] >= 100, 'Fare'] = 100"
   ]
  },
  {
   "cell_type": "code",
   "execution_count": null,
   "metadata": {},
   "outputs": [],
   "source": [
    "figure = data.Age.hist(bins=50)\n",
    "figure.set_title('Age')\n",
    "figure.set_xlabel('Age')\n",
    "figure.set_ylabel('Nber of passengers')"
   ]
  },
  {
   "cell_type": "code",
   "execution_count": null,
   "metadata": {},
   "outputs": [],
   "source": [
    "figure = data.Fare.hist(bins=50)\n",
    "figure.set_title('Fare')\n",
    "figure.set_xlabel('Fare')\n",
    "figure.set_ylabel('Nber of passengers')"
   ]
  },
  {
   "cell_type": "code",
   "execution_count": null,
   "metadata": {},
   "outputs": [],
   "source": [
    "from sklearn.model_selection import train_test_split\n",
    "from sklearn.metrics import accuracy_score\n",
    "from sklearn.linear_model import LogisticRegression\n",
    "classifier = LogisticRegression()\n",
    "handle_ex = []\n",
    "non_handle_ex = []\n",
    "for random_state in range(10):\n",
    "    x1_train, x1_test, y1_train, y1_test = train_test_split(\n",
    "        data[['Age_mean', 'Fare']], data['Survived'], test_size=0.3, random_state = random_state)\n",
    "    x2_train, x2_test, y2_train, y2_test = train_test_split(\n",
    "        data_non_pr[['Age_mean', 'Fare']], data_non_pr['Survived'], test_size=0.3, random_state = random_state)\n",
    "    classifier.fit(x1_train, y1_train)\n",
    "    y1_predict = classifier.predict(x1_test)\n",
    "    classifier.fit(x2_train, y2_train)\n",
    "    y2_predict = classifier.predict(x2_test)\n",
    "    handle_ex.append(accuracy_score(y1_test, y1_predict))\n",
    "    non_handle_ex.append(accuracy_score(y2_test, y2_predict))"
   ]
  },
  {
   "cell_type": "code",
   "execution_count": null,
   "metadata": {},
   "outputs": [],
   "source": [
    "x1_train\n"
   ]
  },
  {
   "cell_type": "code",
   "execution_count": null,
   "metadata": {},
   "outputs": [],
   "source": [
    "x1_test"
   ]
  },
  {
   "cell_type": "code",
   "execution_count": null,
   "metadata": {},
   "outputs": [],
   "source": [
    "data.isnull().sum()"
   ]
  },
  {
   "cell_type": "code",
   "execution_count": null,
   "metadata": {},
   "outputs": [],
   "source": [
    "print(handle_ex)\n",
    "print(non_handle_ex)"
   ]
  },
  {
   "cell_type": "code",
   "execution_count": null,
   "metadata": {},
   "outputs": [],
   "source": [
    "print(\"Accuracy (Handle exception): {}\".format(accuracy_score(y1_test, y1_predict)))\n",
    "print(\"Accuracy (Non handle exception): {}\".format(accuracy_score(y2_test, y2_predict)))"
   ]
  }
 ],
 "metadata": {
  "interpreter": {
   "hash": "e4d2420c1c86c857840e9cd37780cab37d65462fab81e90d4a4f57a598e20a77"
  },
  "kernelspec": {
   "display_name": "Python 3.9.7 ('base')",
   "language": "python",
   "name": "python3"
  },
  "language_info": {
   "codemirror_mode": {
    "name": "ipython",
    "version": 3
   },
   "file_extension": ".py",
   "mimetype": "text/x-python",
   "name": "python",
   "nbconvert_exporter": "python",
   "pygments_lexer": "ipython3",
   "version": "3.9.7"
  }
 },
 "nbformat": 4,
 "nbformat_minor": 4
}
