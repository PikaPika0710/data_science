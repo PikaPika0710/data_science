{
  "cells": [
    {
      "cell_type": "code",
      "execution_count": null,
      "metadata": {
        "colab": {
          "base_uri": "https://localhost:8080/"
        },
        "id": "6ECBEjwjwOAX",
        "outputId": "03e0fe4c-bd97-401d-a1ce-6783c8807d9a"
      },
      "outputs": [
        {
          "name": "stdout",
          "output_type": "stream",
          "text": [
            "Drive already mounted at /content/drive; to attempt to forcibly remount, call drive.mount(\"/content/drive\", force_remount=True).\n"
          ]
        }
      ],
      "source": [
        "from google.colab import drive\n",
        "drive.mount('/content/drive')"
      ]
    },
    {
      "cell_type": "code",
      "execution_count": null,
      "metadata": {
        "colab": {
          "base_uri": "https://localhost:8080/"
        },
        "id": "tKlLK6OJwmyr",
        "outputId": "af2ab908-5b49-4ccc-cbd6-6f99d4b1e0ad"
      },
      "outputs": [
        {
          "name": "stdout",
          "output_type": "stream",
          "text": [
            "/content/drive/MyDrive/Colab Notebooks/Data Science/HomeWork/Chuong5_DataPreprocessing\n"
          ]
        }
      ],
      "source": [
        "%cd \"/content/drive/MyDrive/Colab Notebooks/Data Science/HomeWork/Chuong5_DataPreprocessing\""
      ]
    },
    {
      "cell_type": "code",
      "execution_count": null,
      "metadata": {
        "id": "1PdLu19ew4Ye"
      },
      "outputs": [],
      "source": [
        "import pandas as pd\n",
        "import numpy as np\n",
        "import matplotlib.pyplot as plt\n",
        "from sklearn.linear_model import LogisticRegression\n",
        "from sklearn.preprocessing import MinMaxScaler, StandardScaler, RobustScaler, OneHotEncoder, OrdinalEncoder\n",
        "from sklearn.model_selection import train_test_split\n",
        "from typing import List\n",
        "from sklearn.model_selection import cross_val_score\n",
        "from sklearn.model_selection import GridSearchCV"
      ]
    },
    {
      "cell_type": "markdown",
      "metadata": {
        "id": "Qd0aFljfv4rB"
      },
      "source": [
        "# 1. BT1\n",
        "Viết chương trình đánh giá độ chính xác của thuật toán hồi quy logistic trong\n",
        "bài toán dự báo Sự sống/chết (Survived) của hành khách lên tàu Titanic dựa\n",
        "trên Độ tuổi (Age) và Giá vé (Fare) mà họ đã mua trong 14 tổ hợp làm sạch dữ\n",
        "liệu sau:\n",
        "- 7 kỹ thuật xử lý dữ liệu trống (Median/Mean/Mode imputation coi như 3 kỹ\n",
        "thuật khác nhau, kỹ thuật tạo đặc trưng mới phải sử dụng đồng thời biến Age\n",
        "và biến bổ sung Age_NAN để dự báo)\n",
        "- 2 trường hợp Không xử lý ngoại lệ & Có xử lý ngoại lệ (đồng thời trên 2 biến\n",
        "Age và Fare)\n",
        "Lập bảng báo cáo độ chính xác của thuật toán trong 14 trường hợp trên và cho\n",
        "biết độ chính xác cao nhất và thấp nhất xảy ra trong trường hợp nào. Phân tích\n",
        "vì sao độ chính xác cao/thấp như vậy (Train/Test phân theo tỉ lệ 70/30 như\n",
        "chương trình mẫu, mỗi trường hợp cần thử nghiệm 10 lần với random_state=0\n",
        "đến 9 và lấy trung bình để được độ chính xác trung bình của thuật toán)"
      ]
    },
    {
      "cell_type": "code",
      "execution_count": null,
      "metadata": {
        "colab": {
          "base_uri": "https://localhost:8080/",
          "height": 206
        },
        "id": "1V-QZ5tzw3ge",
        "outputId": "a79d70e1-21c2-4ba2-8dfd-f3a5f091be6c"
      },
      "outputs": [
        {
          "data": {
            "text/html": [
              "\n",
              "  <div id=\"df-de22e34a-2359-4d15-815f-8e7c4ec7bb60\">\n",
              "    <div class=\"colab-df-container\">\n",
              "      <div>\n",
              "<style scoped>\n",
              "    .dataframe tbody tr th:only-of-type {\n",
              "        vertical-align: middle;\n",
              "    }\n",
              "\n",
              "    .dataframe tbody tr th {\n",
              "        vertical-align: top;\n",
              "    }\n",
              "\n",
              "    .dataframe thead th {\n",
              "        text-align: right;\n",
              "    }\n",
              "</style>\n",
              "<table border=\"1\" class=\"dataframe\">\n",
              "  <thead>\n",
              "    <tr style=\"text-align: right;\">\n",
              "      <th></th>\n",
              "      <th>Survived</th>\n",
              "      <th>Sex</th>\n",
              "      <th>Age</th>\n",
              "      <th>Fare</th>\n",
              "    </tr>\n",
              "  </thead>\n",
              "  <tbody>\n",
              "    <tr>\n",
              "      <th>0</th>\n",
              "      <td>0</td>\n",
              "      <td>male</td>\n",
              "      <td>22.0</td>\n",
              "      <td>7.2500</td>\n",
              "    </tr>\n",
              "    <tr>\n",
              "      <th>1</th>\n",
              "      <td>1</td>\n",
              "      <td>female</td>\n",
              "      <td>38.0</td>\n",
              "      <td>71.2833</td>\n",
              "    </tr>\n",
              "    <tr>\n",
              "      <th>2</th>\n",
              "      <td>1</td>\n",
              "      <td>female</td>\n",
              "      <td>26.0</td>\n",
              "      <td>7.9250</td>\n",
              "    </tr>\n",
              "    <tr>\n",
              "      <th>3</th>\n",
              "      <td>1</td>\n",
              "      <td>female</td>\n",
              "      <td>35.0</td>\n",
              "      <td>53.1000</td>\n",
              "    </tr>\n",
              "    <tr>\n",
              "      <th>4</th>\n",
              "      <td>0</td>\n",
              "      <td>male</td>\n",
              "      <td>35.0</td>\n",
              "      <td>8.0500</td>\n",
              "    </tr>\n",
              "  </tbody>\n",
              "</table>\n",
              "</div>\n",
              "      <button class=\"colab-df-convert\" onclick=\"convertToInteractive('df-de22e34a-2359-4d15-815f-8e7c4ec7bb60')\"\n",
              "              title=\"Convert this dataframe to an interactive table.\"\n",
              "              style=\"display:none;\">\n",
              "        \n",
              "  <svg xmlns=\"http://www.w3.org/2000/svg\" height=\"24px\"viewBox=\"0 0 24 24\"\n",
              "       width=\"24px\">\n",
              "    <path d=\"M0 0h24v24H0V0z\" fill=\"none\"/>\n",
              "    <path d=\"M18.56 5.44l.94 2.06.94-2.06 2.06-.94-2.06-.94-.94-2.06-.94 2.06-2.06.94zm-11 1L8.5 8.5l.94-2.06 2.06-.94-2.06-.94L8.5 2.5l-.94 2.06-2.06.94zm10 10l.94 2.06.94-2.06 2.06-.94-2.06-.94-.94-2.06-.94 2.06-2.06.94z\"/><path d=\"M17.41 7.96l-1.37-1.37c-.4-.4-.92-.59-1.43-.59-.52 0-1.04.2-1.43.59L10.3 9.45l-7.72 7.72c-.78.78-.78 2.05 0 2.83L4 21.41c.39.39.9.59 1.41.59.51 0 1.02-.2 1.41-.59l7.78-7.78 2.81-2.81c.8-.78.8-2.07 0-2.86zM5.41 20L4 18.59l7.72-7.72 1.47 1.35L5.41 20z\"/>\n",
              "  </svg>\n",
              "      </button>\n",
              "      \n",
              "  <style>\n",
              "    .colab-df-container {\n",
              "      display:flex;\n",
              "      flex-wrap:wrap;\n",
              "      gap: 12px;\n",
              "    }\n",
              "\n",
              "    .colab-df-convert {\n",
              "      background-color: #E8F0FE;\n",
              "      border: none;\n",
              "      border-radius: 50%;\n",
              "      cursor: pointer;\n",
              "      display: none;\n",
              "      fill: #1967D2;\n",
              "      height: 32px;\n",
              "      padding: 0 0 0 0;\n",
              "      width: 32px;\n",
              "    }\n",
              "\n",
              "    .colab-df-convert:hover {\n",
              "      background-color: #E2EBFA;\n",
              "      box-shadow: 0px 1px 2px rgba(60, 64, 67, 0.3), 0px 1px 3px 1px rgba(60, 64, 67, 0.15);\n",
              "      fill: #174EA6;\n",
              "    }\n",
              "\n",
              "    [theme=dark] .colab-df-convert {\n",
              "      background-color: #3B4455;\n",
              "      fill: #D2E3FC;\n",
              "    }\n",
              "\n",
              "    [theme=dark] .colab-df-convert:hover {\n",
              "      background-color: #434B5C;\n",
              "      box-shadow: 0px 1px 3px 1px rgba(0, 0, 0, 0.15);\n",
              "      filter: drop-shadow(0px 1px 2px rgba(0, 0, 0, 0.3));\n",
              "      fill: #FFFFFF;\n",
              "    }\n",
              "  </style>\n",
              "\n",
              "      <script>\n",
              "        const buttonEl =\n",
              "          document.querySelector('#df-de22e34a-2359-4d15-815f-8e7c4ec7bb60 button.colab-df-convert');\n",
              "        buttonEl.style.display =\n",
              "          google.colab.kernel.accessAllowed ? 'block' : 'none';\n",
              "\n",
              "        async function convertToInteractive(key) {\n",
              "          const element = document.querySelector('#df-de22e34a-2359-4d15-815f-8e7c4ec7bb60');\n",
              "          const dataTable =\n",
              "            await google.colab.kernel.invokeFunction('convertToInteractive',\n",
              "                                                     [key], {});\n",
              "          if (!dataTable) return;\n",
              "\n",
              "          const docLinkHtml = 'Like what you see? Visit the ' +\n",
              "            '<a target=\"_blank\" href=https://colab.research.google.com/notebooks/data_table.ipynb>data table notebook</a>'\n",
              "            + ' to learn more about interactive tables.';\n",
              "          element.innerHTML = '';\n",
              "          dataTable['output_type'] = 'display_data';\n",
              "          await google.colab.output.renderOutput(dataTable, element);\n",
              "          const docLink = document.createElement('div');\n",
              "          docLink.innerHTML = docLinkHtml;\n",
              "          element.appendChild(docLink);\n",
              "        }\n",
              "      </script>\n",
              "    </div>\n",
              "  </div>\n",
              "  "
            ],
            "text/plain": [
              "   Survived     Sex   Age     Fare\n",
              "0         0    male  22.0   7.2500\n",
              "1         1  female  38.0  71.2833\n",
              "2         1  female  26.0   7.9250\n",
              "3         1  female  35.0  53.1000\n",
              "4         0    male  35.0   8.0500"
            ]
          },
          "execution_count": 4,
          "metadata": {},
          "output_type": "execute_result"
        }
      ],
      "source": [
        "# Doc file csv va chi dung 3 column: Survived, Age, Fare\n",
        "df = pd.read_csv('titanic.csv', usecols=['Survived', 'Age', 'Fare', 'Sex'])\n",
        "df.head(5)"
      ]
    },
    {
      "cell_type": "code",
      "execution_count": null,
      "metadata": {
        "colab": {
          "base_uri": "https://localhost:8080/"
        },
        "id": "GEinL7jExL0G",
        "outputId": "3587ef3e-dd55-4c80-a5fd-f37c7db4e567"
      },
      "outputs": [
        {
          "name": "stdout",
          "output_type": "stream",
          "text": [
            "<class 'pandas.core.frame.DataFrame'>\n",
            "RangeIndex: 891 entries, 0 to 890\n",
            "Data columns (total 4 columns):\n",
            " #   Column    Non-Null Count  Dtype  \n",
            "---  ------    --------------  -----  \n",
            " 0   Survived  891 non-null    int64  \n",
            " 1   Sex       891 non-null    object \n",
            " 2   Age       714 non-null    float64\n",
            " 3   Fare      891 non-null    float64\n",
            "dtypes: float64(2), int64(1), object(1)\n",
            "memory usage: 28.0+ KB\n"
          ]
        }
      ],
      "source": [
        "df.info()"
      ]
    },
    {
      "cell_type": "code",
      "execution_count": null,
      "metadata": {
        "colab": {
          "base_uri": "https://localhost:8080/"
        },
        "id": "KOSh3udqxQQt",
        "outputId": "27f697d3-c6f3-4ad0-a5f1-2cf901f8fc73"
      },
      "outputs": [
        {
          "data": {
            "text/plain": [
              "Age         0.198653\n",
              "Survived    0.000000\n",
              "Sex         0.000000\n",
              "Fare        0.000000\n",
              "dtype: float64"
            ]
          },
          "execution_count": 6,
          "metadata": {},
          "output_type": "execute_result"
        }
      ],
      "source": [
        "# Ti le phan tram so luong row null cua cac columns\n",
        "df.isnull().mean().sort_values(ascending=False)"
      ]
    },
    {
      "cell_type": "code",
      "execution_count": null,
      "metadata": {
        "colab": {
          "base_uri": "https://localhost:8080/"
        },
        "id": "MmPlOPwj0ktl",
        "outputId": "550ca72f-1573-40a3-e0bd-8a4677e57411"
      },
      "outputs": [
        {
          "data": {
            "text/plain": [
              "0.3838383838383838"
            ]
          },
          "execution_count": 100,
          "metadata": {},
          "output_type": "execute_result"
        }
      ],
      "source": [
        "df['Survived'].sum() / len(df)"
      ]
    },
    {
      "cell_type": "markdown",
      "metadata": {
        "id": "OibG0qASt0VF"
      },
      "source": [
        "### Transform Category to Ordinal"
      ]
    },
    {
      "cell_type": "code",
      "execution_count": null,
      "metadata": {
        "id": "ddGggSoJvo9h"
      },
      "outputs": [],
      "source": [
        "class Transformer:\n",
        "  @staticmethod\n",
        "  def category_to_ordinal(df: pd.DataFrame, col: str, new_col: str):\n",
        "    dt = df.copy()\n",
        "    enc = OrdinalEncoder(dtype=np.int32)\n",
        "    dt[new_col] = enc.fit_transform(dt[[col]])\n",
        "    return dt\n",
        "  \n",
        "  @staticmethod\n",
        "  def onehot(df: pd.DataFrame, col: str, new_col1: str, new_col2: str):\n",
        "    dt = df.copy()\n",
        "    enc = OneHotEncoder(sparse=False)\n",
        "    dt[[new_col1, new_col2]] = enc.fit_transform(dt[[col]])\n",
        "    return dt"
      ]
    },
    {
      "cell_type": "code",
      "execution_count": null,
      "metadata": {
        "colab": {
          "base_uri": "https://localhost:8080/"
        },
        "id": "9iCgaZy7shcA",
        "outputId": "12bd6988-9155-4f71-858c-a59253985fa7"
      },
      "outputs": [
        {
          "data": {
            "text/plain": [
              "array(['male', 'female'], dtype=object)"
            ]
          },
          "execution_count": 8,
          "metadata": {},
          "output_type": "execute_result"
        }
      ],
      "source": [
        "df['Sex'].unique()"
      ]
    },
    {
      "cell_type": "code",
      "execution_count": null,
      "metadata": {
        "colab": {
          "base_uri": "https://localhost:8080/",
          "height": 424
        },
        "id": "gdVEyguCe1qV",
        "outputId": "9ec128c8-a472-4430-ecae-405463bfb54c"
      },
      "outputs": [
        {
          "data": {
            "text/html": [
              "\n",
              "  <div id=\"df-cfd00560-84d9-4ab0-8076-4769587d3eb7\">\n",
              "    <div class=\"colab-df-container\">\n",
              "      <div>\n",
              "<style scoped>\n",
              "    .dataframe tbody tr th:only-of-type {\n",
              "        vertical-align: middle;\n",
              "    }\n",
              "\n",
              "    .dataframe tbody tr th {\n",
              "        vertical-align: top;\n",
              "    }\n",
              "\n",
              "    .dataframe thead th {\n",
              "        text-align: right;\n",
              "    }\n",
              "</style>\n",
              "<table border=\"1\" class=\"dataframe\">\n",
              "  <thead>\n",
              "    <tr style=\"text-align: right;\">\n",
              "      <th></th>\n",
              "      <th>Survived</th>\n",
              "      <th>Sex</th>\n",
              "      <th>Age</th>\n",
              "      <th>Fare</th>\n",
              "      <th>Sex_transform1</th>\n",
              "      <th>Sex_transform2</th>\n",
              "    </tr>\n",
              "  </thead>\n",
              "  <tbody>\n",
              "    <tr>\n",
              "      <th>0</th>\n",
              "      <td>0</td>\n",
              "      <td>male</td>\n",
              "      <td>22.0</td>\n",
              "      <td>7.2500</td>\n",
              "      <td>0.0</td>\n",
              "      <td>1.0</td>\n",
              "    </tr>\n",
              "    <tr>\n",
              "      <th>1</th>\n",
              "      <td>1</td>\n",
              "      <td>female</td>\n",
              "      <td>38.0</td>\n",
              "      <td>71.2833</td>\n",
              "      <td>1.0</td>\n",
              "      <td>0.0</td>\n",
              "    </tr>\n",
              "    <tr>\n",
              "      <th>2</th>\n",
              "      <td>1</td>\n",
              "      <td>female</td>\n",
              "      <td>26.0</td>\n",
              "      <td>7.9250</td>\n",
              "      <td>1.0</td>\n",
              "      <td>0.0</td>\n",
              "    </tr>\n",
              "    <tr>\n",
              "      <th>3</th>\n",
              "      <td>1</td>\n",
              "      <td>female</td>\n",
              "      <td>35.0</td>\n",
              "      <td>53.1000</td>\n",
              "      <td>1.0</td>\n",
              "      <td>0.0</td>\n",
              "    </tr>\n",
              "    <tr>\n",
              "      <th>4</th>\n",
              "      <td>0</td>\n",
              "      <td>male</td>\n",
              "      <td>35.0</td>\n",
              "      <td>8.0500</td>\n",
              "      <td>0.0</td>\n",
              "      <td>1.0</td>\n",
              "    </tr>\n",
              "    <tr>\n",
              "      <th>...</th>\n",
              "      <td>...</td>\n",
              "      <td>...</td>\n",
              "      <td>...</td>\n",
              "      <td>...</td>\n",
              "      <td>...</td>\n",
              "      <td>...</td>\n",
              "    </tr>\n",
              "    <tr>\n",
              "      <th>886</th>\n",
              "      <td>0</td>\n",
              "      <td>male</td>\n",
              "      <td>27.0</td>\n",
              "      <td>13.0000</td>\n",
              "      <td>0.0</td>\n",
              "      <td>1.0</td>\n",
              "    </tr>\n",
              "    <tr>\n",
              "      <th>887</th>\n",
              "      <td>1</td>\n",
              "      <td>female</td>\n",
              "      <td>19.0</td>\n",
              "      <td>30.0000</td>\n",
              "      <td>1.0</td>\n",
              "      <td>0.0</td>\n",
              "    </tr>\n",
              "    <tr>\n",
              "      <th>888</th>\n",
              "      <td>0</td>\n",
              "      <td>female</td>\n",
              "      <td>NaN</td>\n",
              "      <td>23.4500</td>\n",
              "      <td>1.0</td>\n",
              "      <td>0.0</td>\n",
              "    </tr>\n",
              "    <tr>\n",
              "      <th>889</th>\n",
              "      <td>1</td>\n",
              "      <td>male</td>\n",
              "      <td>26.0</td>\n",
              "      <td>30.0000</td>\n",
              "      <td>0.0</td>\n",
              "      <td>1.0</td>\n",
              "    </tr>\n",
              "    <tr>\n",
              "      <th>890</th>\n",
              "      <td>0</td>\n",
              "      <td>male</td>\n",
              "      <td>32.0</td>\n",
              "      <td>7.7500</td>\n",
              "      <td>0.0</td>\n",
              "      <td>1.0</td>\n",
              "    </tr>\n",
              "  </tbody>\n",
              "</table>\n",
              "<p>891 rows × 6 columns</p>\n",
              "</div>\n",
              "      <button class=\"colab-df-convert\" onclick=\"convertToInteractive('df-cfd00560-84d9-4ab0-8076-4769587d3eb7')\"\n",
              "              title=\"Convert this dataframe to an interactive table.\"\n",
              "              style=\"display:none;\">\n",
              "        \n",
              "  <svg xmlns=\"http://www.w3.org/2000/svg\" height=\"24px\"viewBox=\"0 0 24 24\"\n",
              "       width=\"24px\">\n",
              "    <path d=\"M0 0h24v24H0V0z\" fill=\"none\"/>\n",
              "    <path d=\"M18.56 5.44l.94 2.06.94-2.06 2.06-.94-2.06-.94-.94-2.06-.94 2.06-2.06.94zm-11 1L8.5 8.5l.94-2.06 2.06-.94-2.06-.94L8.5 2.5l-.94 2.06-2.06.94zm10 10l.94 2.06.94-2.06 2.06-.94-2.06-.94-.94-2.06-.94 2.06-2.06.94z\"/><path d=\"M17.41 7.96l-1.37-1.37c-.4-.4-.92-.59-1.43-.59-.52 0-1.04.2-1.43.59L10.3 9.45l-7.72 7.72c-.78.78-.78 2.05 0 2.83L4 21.41c.39.39.9.59 1.41.59.51 0 1.02-.2 1.41-.59l7.78-7.78 2.81-2.81c.8-.78.8-2.07 0-2.86zM5.41 20L4 18.59l7.72-7.72 1.47 1.35L5.41 20z\"/>\n",
              "  </svg>\n",
              "      </button>\n",
              "      \n",
              "  <style>\n",
              "    .colab-df-container {\n",
              "      display:flex;\n",
              "      flex-wrap:wrap;\n",
              "      gap: 12px;\n",
              "    }\n",
              "\n",
              "    .colab-df-convert {\n",
              "      background-color: #E8F0FE;\n",
              "      border: none;\n",
              "      border-radius: 50%;\n",
              "      cursor: pointer;\n",
              "      display: none;\n",
              "      fill: #1967D2;\n",
              "      height: 32px;\n",
              "      padding: 0 0 0 0;\n",
              "      width: 32px;\n",
              "    }\n",
              "\n",
              "    .colab-df-convert:hover {\n",
              "      background-color: #E2EBFA;\n",
              "      box-shadow: 0px 1px 2px rgba(60, 64, 67, 0.3), 0px 1px 3px 1px rgba(60, 64, 67, 0.15);\n",
              "      fill: #174EA6;\n",
              "    }\n",
              "\n",
              "    [theme=dark] .colab-df-convert {\n",
              "      background-color: #3B4455;\n",
              "      fill: #D2E3FC;\n",
              "    }\n",
              "\n",
              "    [theme=dark] .colab-df-convert:hover {\n",
              "      background-color: #434B5C;\n",
              "      box-shadow: 0px 1px 3px 1px rgba(0, 0, 0, 0.15);\n",
              "      filter: drop-shadow(0px 1px 2px rgba(0, 0, 0, 0.3));\n",
              "      fill: #FFFFFF;\n",
              "    }\n",
              "  </style>\n",
              "\n",
              "      <script>\n",
              "        const buttonEl =\n",
              "          document.querySelector('#df-cfd00560-84d9-4ab0-8076-4769587d3eb7 button.colab-df-convert');\n",
              "        buttonEl.style.display =\n",
              "          google.colab.kernel.accessAllowed ? 'block' : 'none';\n",
              "\n",
              "        async function convertToInteractive(key) {\n",
              "          const element = document.querySelector('#df-cfd00560-84d9-4ab0-8076-4769587d3eb7');\n",
              "          const dataTable =\n",
              "            await google.colab.kernel.invokeFunction('convertToInteractive',\n",
              "                                                     [key], {});\n",
              "          if (!dataTable) return;\n",
              "\n",
              "          const docLinkHtml = 'Like what you see? Visit the ' +\n",
              "            '<a target=\"_blank\" href=https://colab.research.google.com/notebooks/data_table.ipynb>data table notebook</a>'\n",
              "            + ' to learn more about interactive tables.';\n",
              "          element.innerHTML = '';\n",
              "          dataTable['output_type'] = 'display_data';\n",
              "          await google.colab.output.renderOutput(dataTable, element);\n",
              "          const docLink = document.createElement('div');\n",
              "          docLink.innerHTML = docLinkHtml;\n",
              "          element.appendChild(docLink);\n",
              "        }\n",
              "      </script>\n",
              "    </div>\n",
              "  </div>\n",
              "  "
            ],
            "text/plain": [
              "     Survived     Sex   Age     Fare  Sex_transform1  Sex_transform2\n",
              "0           0    male  22.0   7.2500             0.0             1.0\n",
              "1           1  female  38.0  71.2833             1.0             0.0\n",
              "2           1  female  26.0   7.9250             1.0             0.0\n",
              "3           1  female  35.0  53.1000             1.0             0.0\n",
              "4           0    male  35.0   8.0500             0.0             1.0\n",
              "..        ...     ...   ...      ...             ...             ...\n",
              "886         0    male  27.0  13.0000             0.0             1.0\n",
              "887         1  female  19.0  30.0000             1.0             0.0\n",
              "888         0  female   NaN  23.4500             1.0             0.0\n",
              "889         1    male  26.0  30.0000             0.0             1.0\n",
              "890         0    male  32.0   7.7500             0.0             1.0\n",
              "\n",
              "[891 rows x 6 columns]"
            ]
          },
          "execution_count": 12,
          "metadata": {},
          "output_type": "execute_result"
        }
      ],
      "source": [
        "df = Transformer.onehot(df, 'Sex', 'Sex_transform1', 'Sex_transform2')\n",
        "df"
      ]
    },
    {
      "cell_type": "markdown",
      "metadata": {
        "id": "kHbkMVWIwK8E"
      },
      "source": [
        "## 1.1 Data with outlier"
      ]
    },
    {
      "cell_type": "code",
      "execution_count": null,
      "metadata": {
        "id": "H1Tg7AoLwlOI"
      },
      "outputs": [],
      "source": [
        "class MissingHandler:\n",
        "  @staticmethod\n",
        "  def fill_nan_by_median(df: pd.DataFrame, col: str, new_col:str):\n",
        "    dt = df.copy()\n",
        "    median = dt[col].dropna().median()\n",
        "    print(f\"Median of {col} = {median}\")\n",
        "\n",
        "    dt[new_col] = dt[col]\n",
        "    dt[new_col].fillna(median, inplace=True)\n",
        "    return dt\n",
        "  \n",
        "  @staticmethod\n",
        "  def fill_nan_by_mean(df: pd.DataFrame, col: str, new_col: str):\n",
        "    dt = df.copy()\n",
        "    mean = dt[col].dropna().mean()\n",
        "    print(f\"Mean of {col} = {mean}\")\n",
        "\n",
        "    dt[new_col] = dt[col]\n",
        "    dt[new_col].fillna(mean, inplace=True)\n",
        "    return dt\n",
        "\n",
        "  @staticmethod\n",
        "  def fill_nan_by_mode(df: pd.DataFrame, col: str, new_col: str):\n",
        "    dt = df.copy()\n",
        "    mode_age = dt.mode()[col].values[0]\n",
        "    print(f\"Mode of {col} = {mode_age}\")\n",
        "\n",
        "    dt[new_col] = dt[col]\n",
        "    dt[new_col].fillna(mode_age, inplace=True)\n",
        "    return dt\n",
        "\n",
        "  @staticmethod\n",
        "  def fill_nan_by_end_distribution(df: pd.DataFrame, col: str, new_col: str):\n",
        "    dt = df.copy()\n",
        "    extreme = dt[col].mean() + 3 * dt[col].std()\n",
        "    print(f'End of distribution of {col}: {extreme}')\n",
        "\n",
        "    dt[new_col] = dt[col].fillna(extreme)\n",
        "    return dt\n",
        "\n",
        "  @staticmethod\n",
        "  def fill_nan_by_random(df: pd.DataFrame, col: str, new_col: str):\n",
        "    dt = df.copy()\n",
        "    number_null_row = dt[col].isnull().sum()\n",
        "    random_samples = dt[col].dropna().sample(n=number_null_row, random_state=0)\n",
        "\n",
        "    dt[new_col] = dt[col]\n",
        "    random_samples.index = dt[dt[col].isnull()].index\n",
        "    dt.loc[dt[col].isnull(), new_col] = random_samples\n",
        "    return dt\n",
        "\n",
        "  @staticmethod\n",
        "  def fill_nan_by_arbitrary(df: pd.DataFrame, col: str, new_col: str, start: int, end: int):\n",
        "    dt = df.copy()\n",
        "    dt[new_col] = dt[col].fillna(np.random.randint(start, end))\n",
        "    return dt"
      ]
    },
    {
      "cell_type": "code",
      "execution_count": null,
      "metadata": {
        "colab": {
          "base_uri": "https://localhost:8080/",
          "height": 206
        },
        "id": "tsLAtwMGzrjA",
        "outputId": "20f6b064-6b9b-4d46-e60c-2a76c6e350ba"
      },
      "outputs": [
        {
          "data": {
            "text/html": [
              "\n",
              "  <div id=\"df-2629010f-a488-4e04-ab00-bccf9ab3d0bc\">\n",
              "    <div class=\"colab-df-container\">\n",
              "      <div>\n",
              "<style scoped>\n",
              "    .dataframe tbody tr th:only-of-type {\n",
              "        vertical-align: middle;\n",
              "    }\n",
              "\n",
              "    .dataframe tbody tr th {\n",
              "        vertical-align: top;\n",
              "    }\n",
              "\n",
              "    .dataframe thead th {\n",
              "        text-align: right;\n",
              "    }\n",
              "</style>\n",
              "<table border=\"1\" class=\"dataframe\">\n",
              "  <thead>\n",
              "    <tr style=\"text-align: right;\">\n",
              "      <th></th>\n",
              "      <th>Age</th>\n",
              "      <th>Age_NAN</th>\n",
              "    </tr>\n",
              "  </thead>\n",
              "  <tbody>\n",
              "    <tr>\n",
              "      <th>886</th>\n",
              "      <td>27.0</td>\n",
              "      <td>0</td>\n",
              "    </tr>\n",
              "    <tr>\n",
              "      <th>887</th>\n",
              "      <td>19.0</td>\n",
              "      <td>0</td>\n",
              "    </tr>\n",
              "    <tr>\n",
              "      <th>888</th>\n",
              "      <td>NaN</td>\n",
              "      <td>1</td>\n",
              "    </tr>\n",
              "    <tr>\n",
              "      <th>889</th>\n",
              "      <td>26.0</td>\n",
              "      <td>0</td>\n",
              "    </tr>\n",
              "    <tr>\n",
              "      <th>890</th>\n",
              "      <td>32.0</td>\n",
              "      <td>0</td>\n",
              "    </tr>\n",
              "  </tbody>\n",
              "</table>\n",
              "</div>\n",
              "      <button class=\"colab-df-convert\" onclick=\"convertToInteractive('df-2629010f-a488-4e04-ab00-bccf9ab3d0bc')\"\n",
              "              title=\"Convert this dataframe to an interactive table.\"\n",
              "              style=\"display:none;\">\n",
              "        \n",
              "  <svg xmlns=\"http://www.w3.org/2000/svg\" height=\"24px\"viewBox=\"0 0 24 24\"\n",
              "       width=\"24px\">\n",
              "    <path d=\"M0 0h24v24H0V0z\" fill=\"none\"/>\n",
              "    <path d=\"M18.56 5.44l.94 2.06.94-2.06 2.06-.94-2.06-.94-.94-2.06-.94 2.06-2.06.94zm-11 1L8.5 8.5l.94-2.06 2.06-.94-2.06-.94L8.5 2.5l-.94 2.06-2.06.94zm10 10l.94 2.06.94-2.06 2.06-.94-2.06-.94-.94-2.06-.94 2.06-2.06.94z\"/><path d=\"M17.41 7.96l-1.37-1.37c-.4-.4-.92-.59-1.43-.59-.52 0-1.04.2-1.43.59L10.3 9.45l-7.72 7.72c-.78.78-.78 2.05 0 2.83L4 21.41c.39.39.9.59 1.41.59.51 0 1.02-.2 1.41-.59l7.78-7.78 2.81-2.81c.8-.78.8-2.07 0-2.86zM5.41 20L4 18.59l7.72-7.72 1.47 1.35L5.41 20z\"/>\n",
              "  </svg>\n",
              "      </button>\n",
              "      \n",
              "  <style>\n",
              "    .colab-df-container {\n",
              "      display:flex;\n",
              "      flex-wrap:wrap;\n",
              "      gap: 12px;\n",
              "    }\n",
              "\n",
              "    .colab-df-convert {\n",
              "      background-color: #E8F0FE;\n",
              "      border: none;\n",
              "      border-radius: 50%;\n",
              "      cursor: pointer;\n",
              "      display: none;\n",
              "      fill: #1967D2;\n",
              "      height: 32px;\n",
              "      padding: 0 0 0 0;\n",
              "      width: 32px;\n",
              "    }\n",
              "\n",
              "    .colab-df-convert:hover {\n",
              "      background-color: #E2EBFA;\n",
              "      box-shadow: 0px 1px 2px rgba(60, 64, 67, 0.3), 0px 1px 3px 1px rgba(60, 64, 67, 0.15);\n",
              "      fill: #174EA6;\n",
              "    }\n",
              "\n",
              "    [theme=dark] .colab-df-convert {\n",
              "      background-color: #3B4455;\n",
              "      fill: #D2E3FC;\n",
              "    }\n",
              "\n",
              "    [theme=dark] .colab-df-convert:hover {\n",
              "      background-color: #434B5C;\n",
              "      box-shadow: 0px 1px 3px 1px rgba(0, 0, 0, 0.15);\n",
              "      filter: drop-shadow(0px 1px 2px rgba(0, 0, 0, 0.3));\n",
              "      fill: #FFFFFF;\n",
              "    }\n",
              "  </style>\n",
              "\n",
              "      <script>\n",
              "        const buttonEl =\n",
              "          document.querySelector('#df-2629010f-a488-4e04-ab00-bccf9ab3d0bc button.colab-df-convert');\n",
              "        buttonEl.style.display =\n",
              "          google.colab.kernel.accessAllowed ? 'block' : 'none';\n",
              "\n",
              "        async function convertToInteractive(key) {\n",
              "          const element = document.querySelector('#df-2629010f-a488-4e04-ab00-bccf9ab3d0bc');\n",
              "          const dataTable =\n",
              "            await google.colab.kernel.invokeFunction('convertToInteractive',\n",
              "                                                     [key], {});\n",
              "          if (!dataTable) return;\n",
              "\n",
              "          const docLinkHtml = 'Like what you see? Visit the ' +\n",
              "            '<a target=\"_blank\" href=https://colab.research.google.com/notebooks/data_table.ipynb>data table notebook</a>'\n",
              "            + ' to learn more about interactive tables.';\n",
              "          element.innerHTML = '';\n",
              "          dataTable['output_type'] = 'display_data';\n",
              "          await google.colab.output.renderOutput(dataTable, element);\n",
              "          const docLink = document.createElement('div');\n",
              "          docLink.innerHTML = docLinkHtml;\n",
              "          element.appendChild(docLink);\n",
              "        }\n",
              "      </script>\n",
              "    </div>\n",
              "  </div>\n",
              "  "
            ],
            "text/plain": [
              "      Age  Age_NAN\n",
              "886  27.0        0\n",
              "887  19.0        0\n",
              "888   NaN        1\n",
              "889  26.0        0\n",
              "890  32.0        0"
            ]
          },
          "execution_count": 14,
          "metadata": {},
          "output_type": "execute_result"
        }
      ],
      "source": [
        "# Tao column Age_NAN\n",
        "df['Age_NAN'] = np.where(df['Age'].isnull(), 1, 0)\n",
        "\n",
        "df[['Age', 'Age_NAN']].tail()"
      ]
    },
    {
      "cell_type": "code",
      "execution_count": null,
      "metadata": {
        "colab": {
          "base_uri": "https://localhost:8080/",
          "height": 255
        },
        "id": "lcCldCV-1So9",
        "outputId": "61b580a1-b664-4305-8de5-3d0869a79109"
      },
      "outputs": [
        {
          "name": "stdout",
          "output_type": "stream",
          "text": [
            "Median of Age = 28.0\n"
          ]
        },
        {
          "data": {
            "text/html": [
              "\n",
              "  <div id=\"df-dd025788-f3c1-40fb-93fe-6a8b686bc99a\">\n",
              "    <div class=\"colab-df-container\">\n",
              "      <div>\n",
              "<style scoped>\n",
              "    .dataframe tbody tr th:only-of-type {\n",
              "        vertical-align: middle;\n",
              "    }\n",
              "\n",
              "    .dataframe tbody tr th {\n",
              "        vertical-align: top;\n",
              "    }\n",
              "\n",
              "    .dataframe thead th {\n",
              "        text-align: right;\n",
              "    }\n",
              "</style>\n",
              "<table border=\"1\" class=\"dataframe\">\n",
              "  <thead>\n",
              "    <tr style=\"text-align: right;\">\n",
              "      <th></th>\n",
              "      <th>Age</th>\n",
              "      <th>Age_median</th>\n",
              "    </tr>\n",
              "  </thead>\n",
              "  <tbody>\n",
              "    <tr>\n",
              "      <th>0</th>\n",
              "      <td>22.0</td>\n",
              "      <td>22.0</td>\n",
              "    </tr>\n",
              "    <tr>\n",
              "      <th>1</th>\n",
              "      <td>38.0</td>\n",
              "      <td>38.0</td>\n",
              "    </tr>\n",
              "    <tr>\n",
              "      <th>2</th>\n",
              "      <td>26.0</td>\n",
              "      <td>26.0</td>\n",
              "    </tr>\n",
              "    <tr>\n",
              "      <th>3</th>\n",
              "      <td>35.0</td>\n",
              "      <td>35.0</td>\n",
              "    </tr>\n",
              "    <tr>\n",
              "      <th>4</th>\n",
              "      <td>35.0</td>\n",
              "      <td>35.0</td>\n",
              "    </tr>\n",
              "    <tr>\n",
              "      <th>5</th>\n",
              "      <td>NaN</td>\n",
              "      <td>28.0</td>\n",
              "    </tr>\n",
              "  </tbody>\n",
              "</table>\n",
              "</div>\n",
              "      <button class=\"colab-df-convert\" onclick=\"convertToInteractive('df-dd025788-f3c1-40fb-93fe-6a8b686bc99a')\"\n",
              "              title=\"Convert this dataframe to an interactive table.\"\n",
              "              style=\"display:none;\">\n",
              "        \n",
              "  <svg xmlns=\"http://www.w3.org/2000/svg\" height=\"24px\"viewBox=\"0 0 24 24\"\n",
              "       width=\"24px\">\n",
              "    <path d=\"M0 0h24v24H0V0z\" fill=\"none\"/>\n",
              "    <path d=\"M18.56 5.44l.94 2.06.94-2.06 2.06-.94-2.06-.94-.94-2.06-.94 2.06-2.06.94zm-11 1L8.5 8.5l.94-2.06 2.06-.94-2.06-.94L8.5 2.5l-.94 2.06-2.06.94zm10 10l.94 2.06.94-2.06 2.06-.94-2.06-.94-.94-2.06-.94 2.06-2.06.94z\"/><path d=\"M17.41 7.96l-1.37-1.37c-.4-.4-.92-.59-1.43-.59-.52 0-1.04.2-1.43.59L10.3 9.45l-7.72 7.72c-.78.78-.78 2.05 0 2.83L4 21.41c.39.39.9.59 1.41.59.51 0 1.02-.2 1.41-.59l7.78-7.78 2.81-2.81c.8-.78.8-2.07 0-2.86zM5.41 20L4 18.59l7.72-7.72 1.47 1.35L5.41 20z\"/>\n",
              "  </svg>\n",
              "      </button>\n",
              "      \n",
              "  <style>\n",
              "    .colab-df-container {\n",
              "      display:flex;\n",
              "      flex-wrap:wrap;\n",
              "      gap: 12px;\n",
              "    }\n",
              "\n",
              "    .colab-df-convert {\n",
              "      background-color: #E8F0FE;\n",
              "      border: none;\n",
              "      border-radius: 50%;\n",
              "      cursor: pointer;\n",
              "      display: none;\n",
              "      fill: #1967D2;\n",
              "      height: 32px;\n",
              "      padding: 0 0 0 0;\n",
              "      width: 32px;\n",
              "    }\n",
              "\n",
              "    .colab-df-convert:hover {\n",
              "      background-color: #E2EBFA;\n",
              "      box-shadow: 0px 1px 2px rgba(60, 64, 67, 0.3), 0px 1px 3px 1px rgba(60, 64, 67, 0.15);\n",
              "      fill: #174EA6;\n",
              "    }\n",
              "\n",
              "    [theme=dark] .colab-df-convert {\n",
              "      background-color: #3B4455;\n",
              "      fill: #D2E3FC;\n",
              "    }\n",
              "\n",
              "    [theme=dark] .colab-df-convert:hover {\n",
              "      background-color: #434B5C;\n",
              "      box-shadow: 0px 1px 3px 1px rgba(0, 0, 0, 0.15);\n",
              "      filter: drop-shadow(0px 1px 2px rgba(0, 0, 0, 0.3));\n",
              "      fill: #FFFFFF;\n",
              "    }\n",
              "  </style>\n",
              "\n",
              "      <script>\n",
              "        const buttonEl =\n",
              "          document.querySelector('#df-dd025788-f3c1-40fb-93fe-6a8b686bc99a button.colab-df-convert');\n",
              "        buttonEl.style.display =\n",
              "          google.colab.kernel.accessAllowed ? 'block' : 'none';\n",
              "\n",
              "        async function convertToInteractive(key) {\n",
              "          const element = document.querySelector('#df-dd025788-f3c1-40fb-93fe-6a8b686bc99a');\n",
              "          const dataTable =\n",
              "            await google.colab.kernel.invokeFunction('convertToInteractive',\n",
              "                                                     [key], {});\n",
              "          if (!dataTable) return;\n",
              "\n",
              "          const docLinkHtml = 'Like what you see? Visit the ' +\n",
              "            '<a target=\"_blank\" href=https://colab.research.google.com/notebooks/data_table.ipynb>data table notebook</a>'\n",
              "            + ' to learn more about interactive tables.';\n",
              "          element.innerHTML = '';\n",
              "          dataTable['output_type'] = 'display_data';\n",
              "          await google.colab.output.renderOutput(dataTable, element);\n",
              "          const docLink = document.createElement('div');\n",
              "          docLink.innerHTML = docLinkHtml;\n",
              "          element.appendChild(docLink);\n",
              "        }\n",
              "      </script>\n",
              "    </div>\n",
              "  </div>\n",
              "  "
            ],
            "text/plain": [
              "    Age  Age_median\n",
              "0  22.0        22.0\n",
              "1  38.0        38.0\n",
              "2  26.0        26.0\n",
              "3  35.0        35.0\n",
              "4  35.0        35.0\n",
              "5   NaN        28.0"
            ]
          },
          "execution_count": 15,
          "metadata": {},
          "output_type": "execute_result"
        }
      ],
      "source": [
        "df = MissingHandler.fill_nan_by_median(df, 'Age', 'Age_median')\n",
        "df[['Age', 'Age_median']].head(6)"
      ]
    },
    {
      "cell_type": "code",
      "execution_count": null,
      "metadata": {
        "colab": {
          "base_uri": "https://localhost:8080/",
          "height": 255
        },
        "id": "WlfU9bSS2gtI",
        "outputId": "be407d51-4ae2-4afe-f7f1-8886ea1398b6"
      },
      "outputs": [
        {
          "name": "stdout",
          "output_type": "stream",
          "text": [
            "Mean of Age = 29.69911764705882\n"
          ]
        },
        {
          "data": {
            "text/html": [
              "\n",
              "  <div id=\"df-bf3b0669-2540-4b9a-8597-f0760b812daa\">\n",
              "    <div class=\"colab-df-container\">\n",
              "      <div>\n",
              "<style scoped>\n",
              "    .dataframe tbody tr th:only-of-type {\n",
              "        vertical-align: middle;\n",
              "    }\n",
              "\n",
              "    .dataframe tbody tr th {\n",
              "        vertical-align: top;\n",
              "    }\n",
              "\n",
              "    .dataframe thead th {\n",
              "        text-align: right;\n",
              "    }\n",
              "</style>\n",
              "<table border=\"1\" class=\"dataframe\">\n",
              "  <thead>\n",
              "    <tr style=\"text-align: right;\">\n",
              "      <th></th>\n",
              "      <th>Age</th>\n",
              "      <th>Age_mean</th>\n",
              "    </tr>\n",
              "  </thead>\n",
              "  <tbody>\n",
              "    <tr>\n",
              "      <th>0</th>\n",
              "      <td>22.0</td>\n",
              "      <td>22.000000</td>\n",
              "    </tr>\n",
              "    <tr>\n",
              "      <th>1</th>\n",
              "      <td>38.0</td>\n",
              "      <td>38.000000</td>\n",
              "    </tr>\n",
              "    <tr>\n",
              "      <th>2</th>\n",
              "      <td>26.0</td>\n",
              "      <td>26.000000</td>\n",
              "    </tr>\n",
              "    <tr>\n",
              "      <th>3</th>\n",
              "      <td>35.0</td>\n",
              "      <td>35.000000</td>\n",
              "    </tr>\n",
              "    <tr>\n",
              "      <th>4</th>\n",
              "      <td>35.0</td>\n",
              "      <td>35.000000</td>\n",
              "    </tr>\n",
              "    <tr>\n",
              "      <th>5</th>\n",
              "      <td>NaN</td>\n",
              "      <td>29.699118</td>\n",
              "    </tr>\n",
              "  </tbody>\n",
              "</table>\n",
              "</div>\n",
              "      <button class=\"colab-df-convert\" onclick=\"convertToInteractive('df-bf3b0669-2540-4b9a-8597-f0760b812daa')\"\n",
              "              title=\"Convert this dataframe to an interactive table.\"\n",
              "              style=\"display:none;\">\n",
              "        \n",
              "  <svg xmlns=\"http://www.w3.org/2000/svg\" height=\"24px\"viewBox=\"0 0 24 24\"\n",
              "       width=\"24px\">\n",
              "    <path d=\"M0 0h24v24H0V0z\" fill=\"none\"/>\n",
              "    <path d=\"M18.56 5.44l.94 2.06.94-2.06 2.06-.94-2.06-.94-.94-2.06-.94 2.06-2.06.94zm-11 1L8.5 8.5l.94-2.06 2.06-.94-2.06-.94L8.5 2.5l-.94 2.06-2.06.94zm10 10l.94 2.06.94-2.06 2.06-.94-2.06-.94-.94-2.06-.94 2.06-2.06.94z\"/><path d=\"M17.41 7.96l-1.37-1.37c-.4-.4-.92-.59-1.43-.59-.52 0-1.04.2-1.43.59L10.3 9.45l-7.72 7.72c-.78.78-.78 2.05 0 2.83L4 21.41c.39.39.9.59 1.41.59.51 0 1.02-.2 1.41-.59l7.78-7.78 2.81-2.81c.8-.78.8-2.07 0-2.86zM5.41 20L4 18.59l7.72-7.72 1.47 1.35L5.41 20z\"/>\n",
              "  </svg>\n",
              "      </button>\n",
              "      \n",
              "  <style>\n",
              "    .colab-df-container {\n",
              "      display:flex;\n",
              "      flex-wrap:wrap;\n",
              "      gap: 12px;\n",
              "    }\n",
              "\n",
              "    .colab-df-convert {\n",
              "      background-color: #E8F0FE;\n",
              "      border: none;\n",
              "      border-radius: 50%;\n",
              "      cursor: pointer;\n",
              "      display: none;\n",
              "      fill: #1967D2;\n",
              "      height: 32px;\n",
              "      padding: 0 0 0 0;\n",
              "      width: 32px;\n",
              "    }\n",
              "\n",
              "    .colab-df-convert:hover {\n",
              "      background-color: #E2EBFA;\n",
              "      box-shadow: 0px 1px 2px rgba(60, 64, 67, 0.3), 0px 1px 3px 1px rgba(60, 64, 67, 0.15);\n",
              "      fill: #174EA6;\n",
              "    }\n",
              "\n",
              "    [theme=dark] .colab-df-convert {\n",
              "      background-color: #3B4455;\n",
              "      fill: #D2E3FC;\n",
              "    }\n",
              "\n",
              "    [theme=dark] .colab-df-convert:hover {\n",
              "      background-color: #434B5C;\n",
              "      box-shadow: 0px 1px 3px 1px rgba(0, 0, 0, 0.15);\n",
              "      filter: drop-shadow(0px 1px 2px rgba(0, 0, 0, 0.3));\n",
              "      fill: #FFFFFF;\n",
              "    }\n",
              "  </style>\n",
              "\n",
              "      <script>\n",
              "        const buttonEl =\n",
              "          document.querySelector('#df-bf3b0669-2540-4b9a-8597-f0760b812daa button.colab-df-convert');\n",
              "        buttonEl.style.display =\n",
              "          google.colab.kernel.accessAllowed ? 'block' : 'none';\n",
              "\n",
              "        async function convertToInteractive(key) {\n",
              "          const element = document.querySelector('#df-bf3b0669-2540-4b9a-8597-f0760b812daa');\n",
              "          const dataTable =\n",
              "            await google.colab.kernel.invokeFunction('convertToInteractive',\n",
              "                                                     [key], {});\n",
              "          if (!dataTable) return;\n",
              "\n",
              "          const docLinkHtml = 'Like what you see? Visit the ' +\n",
              "            '<a target=\"_blank\" href=https://colab.research.google.com/notebooks/data_table.ipynb>data table notebook</a>'\n",
              "            + ' to learn more about interactive tables.';\n",
              "          element.innerHTML = '';\n",
              "          dataTable['output_type'] = 'display_data';\n",
              "          await google.colab.output.renderOutput(dataTable, element);\n",
              "          const docLink = document.createElement('div');\n",
              "          docLink.innerHTML = docLinkHtml;\n",
              "          element.appendChild(docLink);\n",
              "        }\n",
              "      </script>\n",
              "    </div>\n",
              "  </div>\n",
              "  "
            ],
            "text/plain": [
              "    Age   Age_mean\n",
              "0  22.0  22.000000\n",
              "1  38.0  38.000000\n",
              "2  26.0  26.000000\n",
              "3  35.0  35.000000\n",
              "4  35.0  35.000000\n",
              "5   NaN  29.699118"
            ]
          },
          "execution_count": 16,
          "metadata": {},
          "output_type": "execute_result"
        }
      ],
      "source": [
        "# Tao column Age_mean\n",
        "df = MissingHandler.fill_nan_by_mean(df, 'Age', 'Age_mean')\n",
        "df[['Age', 'Age_mean']].head(6)"
      ]
    },
    {
      "cell_type": "code",
      "execution_count": null,
      "metadata": {
        "colab": {
          "base_uri": "https://localhost:8080/",
          "height": 255
        },
        "id": "vVI9k-to284u",
        "outputId": "2fac5ac5-83ba-4827-a552-f6ef85117995"
      },
      "outputs": [
        {
          "name": "stdout",
          "output_type": "stream",
          "text": [
            "Mode of Age = 24.0\n"
          ]
        },
        {
          "data": {
            "text/html": [
              "\n",
              "  <div id=\"df-e7310e2d-fc0f-40b1-9895-a12460e7961c\">\n",
              "    <div class=\"colab-df-container\">\n",
              "      <div>\n",
              "<style scoped>\n",
              "    .dataframe tbody tr th:only-of-type {\n",
              "        vertical-align: middle;\n",
              "    }\n",
              "\n",
              "    .dataframe tbody tr th {\n",
              "        vertical-align: top;\n",
              "    }\n",
              "\n",
              "    .dataframe thead th {\n",
              "        text-align: right;\n",
              "    }\n",
              "</style>\n",
              "<table border=\"1\" class=\"dataframe\">\n",
              "  <thead>\n",
              "    <tr style=\"text-align: right;\">\n",
              "      <th></th>\n",
              "      <th>Age</th>\n",
              "      <th>Age_mode</th>\n",
              "    </tr>\n",
              "  </thead>\n",
              "  <tbody>\n",
              "    <tr>\n",
              "      <th>0</th>\n",
              "      <td>22.0</td>\n",
              "      <td>22.0</td>\n",
              "    </tr>\n",
              "    <tr>\n",
              "      <th>1</th>\n",
              "      <td>38.0</td>\n",
              "      <td>38.0</td>\n",
              "    </tr>\n",
              "    <tr>\n",
              "      <th>2</th>\n",
              "      <td>26.0</td>\n",
              "      <td>26.0</td>\n",
              "    </tr>\n",
              "    <tr>\n",
              "      <th>3</th>\n",
              "      <td>35.0</td>\n",
              "      <td>35.0</td>\n",
              "    </tr>\n",
              "    <tr>\n",
              "      <th>4</th>\n",
              "      <td>35.0</td>\n",
              "      <td>35.0</td>\n",
              "    </tr>\n",
              "    <tr>\n",
              "      <th>5</th>\n",
              "      <td>NaN</td>\n",
              "      <td>24.0</td>\n",
              "    </tr>\n",
              "  </tbody>\n",
              "</table>\n",
              "</div>\n",
              "      <button class=\"colab-df-convert\" onclick=\"convertToInteractive('df-e7310e2d-fc0f-40b1-9895-a12460e7961c')\"\n",
              "              title=\"Convert this dataframe to an interactive table.\"\n",
              "              style=\"display:none;\">\n",
              "        \n",
              "  <svg xmlns=\"http://www.w3.org/2000/svg\" height=\"24px\"viewBox=\"0 0 24 24\"\n",
              "       width=\"24px\">\n",
              "    <path d=\"M0 0h24v24H0V0z\" fill=\"none\"/>\n",
              "    <path d=\"M18.56 5.44l.94 2.06.94-2.06 2.06-.94-2.06-.94-.94-2.06-.94 2.06-2.06.94zm-11 1L8.5 8.5l.94-2.06 2.06-.94-2.06-.94L8.5 2.5l-.94 2.06-2.06.94zm10 10l.94 2.06.94-2.06 2.06-.94-2.06-.94-.94-2.06-.94 2.06-2.06.94z\"/><path d=\"M17.41 7.96l-1.37-1.37c-.4-.4-.92-.59-1.43-.59-.52 0-1.04.2-1.43.59L10.3 9.45l-7.72 7.72c-.78.78-.78 2.05 0 2.83L4 21.41c.39.39.9.59 1.41.59.51 0 1.02-.2 1.41-.59l7.78-7.78 2.81-2.81c.8-.78.8-2.07 0-2.86zM5.41 20L4 18.59l7.72-7.72 1.47 1.35L5.41 20z\"/>\n",
              "  </svg>\n",
              "      </button>\n",
              "      \n",
              "  <style>\n",
              "    .colab-df-container {\n",
              "      display:flex;\n",
              "      flex-wrap:wrap;\n",
              "      gap: 12px;\n",
              "    }\n",
              "\n",
              "    .colab-df-convert {\n",
              "      background-color: #E8F0FE;\n",
              "      border: none;\n",
              "      border-radius: 50%;\n",
              "      cursor: pointer;\n",
              "      display: none;\n",
              "      fill: #1967D2;\n",
              "      height: 32px;\n",
              "      padding: 0 0 0 0;\n",
              "      width: 32px;\n",
              "    }\n",
              "\n",
              "    .colab-df-convert:hover {\n",
              "      background-color: #E2EBFA;\n",
              "      box-shadow: 0px 1px 2px rgba(60, 64, 67, 0.3), 0px 1px 3px 1px rgba(60, 64, 67, 0.15);\n",
              "      fill: #174EA6;\n",
              "    }\n",
              "\n",
              "    [theme=dark] .colab-df-convert {\n",
              "      background-color: #3B4455;\n",
              "      fill: #D2E3FC;\n",
              "    }\n",
              "\n",
              "    [theme=dark] .colab-df-convert:hover {\n",
              "      background-color: #434B5C;\n",
              "      box-shadow: 0px 1px 3px 1px rgba(0, 0, 0, 0.15);\n",
              "      filter: drop-shadow(0px 1px 2px rgba(0, 0, 0, 0.3));\n",
              "      fill: #FFFFFF;\n",
              "    }\n",
              "  </style>\n",
              "\n",
              "      <script>\n",
              "        const buttonEl =\n",
              "          document.querySelector('#df-e7310e2d-fc0f-40b1-9895-a12460e7961c button.colab-df-convert');\n",
              "        buttonEl.style.display =\n",
              "          google.colab.kernel.accessAllowed ? 'block' : 'none';\n",
              "\n",
              "        async function convertToInteractive(key) {\n",
              "          const element = document.querySelector('#df-e7310e2d-fc0f-40b1-9895-a12460e7961c');\n",
              "          const dataTable =\n",
              "            await google.colab.kernel.invokeFunction('convertToInteractive',\n",
              "                                                     [key], {});\n",
              "          if (!dataTable) return;\n",
              "\n",
              "          const docLinkHtml = 'Like what you see? Visit the ' +\n",
              "            '<a target=\"_blank\" href=https://colab.research.google.com/notebooks/data_table.ipynb>data table notebook</a>'\n",
              "            + ' to learn more about interactive tables.';\n",
              "          element.innerHTML = '';\n",
              "          dataTable['output_type'] = 'display_data';\n",
              "          await google.colab.output.renderOutput(dataTable, element);\n",
              "          const docLink = document.createElement('div');\n",
              "          docLink.innerHTML = docLinkHtml;\n",
              "          element.appendChild(docLink);\n",
              "        }\n",
              "      </script>\n",
              "    </div>\n",
              "  </div>\n",
              "  "
            ],
            "text/plain": [
              "    Age  Age_mode\n",
              "0  22.0      22.0\n",
              "1  38.0      38.0\n",
              "2  26.0      26.0\n",
              "3  35.0      35.0\n",
              "4  35.0      35.0\n",
              "5   NaN      24.0"
            ]
          },
          "execution_count": 17,
          "metadata": {},
          "output_type": "execute_result"
        }
      ],
      "source": [
        "# Tao column Age_mode\n",
        "df = MissingHandler.fill_nan_by_mode(df, 'Age', 'Age_mode')\n",
        "df[['Age', 'Age_mode']].head(6)"
      ]
    },
    {
      "cell_type": "code",
      "execution_count": null,
      "metadata": {
        "colab": {
          "base_uri": "https://localhost:8080/",
          "height": 255
        },
        "id": "FN-14cytPLqa",
        "outputId": "01a554ad-367d-4752-9dc7-bf9ec6ff4d37"
      },
      "outputs": [
        {
          "name": "stdout",
          "output_type": "stream",
          "text": [
            "End of distribution of Age: 73.27860964406095\n"
          ]
        },
        {
          "data": {
            "text/html": [
              "\n",
              "  <div id=\"df-5c31b376-dc7d-40c1-85ce-4037a0815aee\">\n",
              "    <div class=\"colab-df-container\">\n",
              "      <div>\n",
              "<style scoped>\n",
              "    .dataframe tbody tr th:only-of-type {\n",
              "        vertical-align: middle;\n",
              "    }\n",
              "\n",
              "    .dataframe tbody tr th {\n",
              "        vertical-align: top;\n",
              "    }\n",
              "\n",
              "    .dataframe thead th {\n",
              "        text-align: right;\n",
              "    }\n",
              "</style>\n",
              "<table border=\"1\" class=\"dataframe\">\n",
              "  <thead>\n",
              "    <tr style=\"text-align: right;\">\n",
              "      <th></th>\n",
              "      <th>Age</th>\n",
              "      <th>Age_end_dist</th>\n",
              "    </tr>\n",
              "  </thead>\n",
              "  <tbody>\n",
              "    <tr>\n",
              "      <th>0</th>\n",
              "      <td>22.0</td>\n",
              "      <td>22.00000</td>\n",
              "    </tr>\n",
              "    <tr>\n",
              "      <th>1</th>\n",
              "      <td>38.0</td>\n",
              "      <td>38.00000</td>\n",
              "    </tr>\n",
              "    <tr>\n",
              "      <th>2</th>\n",
              "      <td>26.0</td>\n",
              "      <td>26.00000</td>\n",
              "    </tr>\n",
              "    <tr>\n",
              "      <th>3</th>\n",
              "      <td>35.0</td>\n",
              "      <td>35.00000</td>\n",
              "    </tr>\n",
              "    <tr>\n",
              "      <th>4</th>\n",
              "      <td>35.0</td>\n",
              "      <td>35.00000</td>\n",
              "    </tr>\n",
              "    <tr>\n",
              "      <th>5</th>\n",
              "      <td>NaN</td>\n",
              "      <td>73.27861</td>\n",
              "    </tr>\n",
              "  </tbody>\n",
              "</table>\n",
              "</div>\n",
              "      <button class=\"colab-df-convert\" onclick=\"convertToInteractive('df-5c31b376-dc7d-40c1-85ce-4037a0815aee')\"\n",
              "              title=\"Convert this dataframe to an interactive table.\"\n",
              "              style=\"display:none;\">\n",
              "        \n",
              "  <svg xmlns=\"http://www.w3.org/2000/svg\" height=\"24px\"viewBox=\"0 0 24 24\"\n",
              "       width=\"24px\">\n",
              "    <path d=\"M0 0h24v24H0V0z\" fill=\"none\"/>\n",
              "    <path d=\"M18.56 5.44l.94 2.06.94-2.06 2.06-.94-2.06-.94-.94-2.06-.94 2.06-2.06.94zm-11 1L8.5 8.5l.94-2.06 2.06-.94-2.06-.94L8.5 2.5l-.94 2.06-2.06.94zm10 10l.94 2.06.94-2.06 2.06-.94-2.06-.94-.94-2.06-.94 2.06-2.06.94z\"/><path d=\"M17.41 7.96l-1.37-1.37c-.4-.4-.92-.59-1.43-.59-.52 0-1.04.2-1.43.59L10.3 9.45l-7.72 7.72c-.78.78-.78 2.05 0 2.83L4 21.41c.39.39.9.59 1.41.59.51 0 1.02-.2 1.41-.59l7.78-7.78 2.81-2.81c.8-.78.8-2.07 0-2.86zM5.41 20L4 18.59l7.72-7.72 1.47 1.35L5.41 20z\"/>\n",
              "  </svg>\n",
              "      </button>\n",
              "      \n",
              "  <style>\n",
              "    .colab-df-container {\n",
              "      display:flex;\n",
              "      flex-wrap:wrap;\n",
              "      gap: 12px;\n",
              "    }\n",
              "\n",
              "    .colab-df-convert {\n",
              "      background-color: #E8F0FE;\n",
              "      border: none;\n",
              "      border-radius: 50%;\n",
              "      cursor: pointer;\n",
              "      display: none;\n",
              "      fill: #1967D2;\n",
              "      height: 32px;\n",
              "      padding: 0 0 0 0;\n",
              "      width: 32px;\n",
              "    }\n",
              "\n",
              "    .colab-df-convert:hover {\n",
              "      background-color: #E2EBFA;\n",
              "      box-shadow: 0px 1px 2px rgba(60, 64, 67, 0.3), 0px 1px 3px 1px rgba(60, 64, 67, 0.15);\n",
              "      fill: #174EA6;\n",
              "    }\n",
              "\n",
              "    [theme=dark] .colab-df-convert {\n",
              "      background-color: #3B4455;\n",
              "      fill: #D2E3FC;\n",
              "    }\n",
              "\n",
              "    [theme=dark] .colab-df-convert:hover {\n",
              "      background-color: #434B5C;\n",
              "      box-shadow: 0px 1px 3px 1px rgba(0, 0, 0, 0.15);\n",
              "      filter: drop-shadow(0px 1px 2px rgba(0, 0, 0, 0.3));\n",
              "      fill: #FFFFFF;\n",
              "    }\n",
              "  </style>\n",
              "\n",
              "      <script>\n",
              "        const buttonEl =\n",
              "          document.querySelector('#df-5c31b376-dc7d-40c1-85ce-4037a0815aee button.colab-df-convert');\n",
              "        buttonEl.style.display =\n",
              "          google.colab.kernel.accessAllowed ? 'block' : 'none';\n",
              "\n",
              "        async function convertToInteractive(key) {\n",
              "          const element = document.querySelector('#df-5c31b376-dc7d-40c1-85ce-4037a0815aee');\n",
              "          const dataTable =\n",
              "            await google.colab.kernel.invokeFunction('convertToInteractive',\n",
              "                                                     [key], {});\n",
              "          if (!dataTable) return;\n",
              "\n",
              "          const docLinkHtml = 'Like what you see? Visit the ' +\n",
              "            '<a target=\"_blank\" href=https://colab.research.google.com/notebooks/data_table.ipynb>data table notebook</a>'\n",
              "            + ' to learn more about interactive tables.';\n",
              "          element.innerHTML = '';\n",
              "          dataTable['output_type'] = 'display_data';\n",
              "          await google.colab.output.renderOutput(dataTable, element);\n",
              "          const docLink = document.createElement('div');\n",
              "          docLink.innerHTML = docLinkHtml;\n",
              "          element.appendChild(docLink);\n",
              "        }\n",
              "      </script>\n",
              "    </div>\n",
              "  </div>\n",
              "  "
            ],
            "text/plain": [
              "    Age  Age_end_dist\n",
              "0  22.0      22.00000\n",
              "1  38.0      38.00000\n",
              "2  26.0      26.00000\n",
              "3  35.0      35.00000\n",
              "4  35.0      35.00000\n",
              "5   NaN      73.27861"
            ]
          },
          "execution_count": 18,
          "metadata": {},
          "output_type": "execute_result"
        }
      ],
      "source": [
        "# Tao column Age_end_dist (thay the gia tri null bang duoi cua phan bo)\n",
        "df = MissingHandler.fill_nan_by_end_distribution(df, 'Age', 'Age_end_dist')\n",
        "df[['Age', 'Age_end_dist']].head(6)"
      ]
    },
    {
      "cell_type": "code",
      "execution_count": null,
      "metadata": {
        "colab": {
          "base_uri": "https://localhost:8080/",
          "height": 238
        },
        "id": "rZmNmFVWRLzS",
        "outputId": "02623e19-e7b3-49cc-d549-df27b40f1b39"
      },
      "outputs": [
        {
          "data": {
            "text/html": [
              "\n",
              "  <div id=\"df-5d1ae4fc-5247-48d1-8eee-99148519a23a\">\n",
              "    <div class=\"colab-df-container\">\n",
              "      <div>\n",
              "<style scoped>\n",
              "    .dataframe tbody tr th:only-of-type {\n",
              "        vertical-align: middle;\n",
              "    }\n",
              "\n",
              "    .dataframe tbody tr th {\n",
              "        vertical-align: top;\n",
              "    }\n",
              "\n",
              "    .dataframe thead th {\n",
              "        text-align: right;\n",
              "    }\n",
              "</style>\n",
              "<table border=\"1\" class=\"dataframe\">\n",
              "  <thead>\n",
              "    <tr style=\"text-align: right;\">\n",
              "      <th></th>\n",
              "      <th>Age</th>\n",
              "      <th>Age_random</th>\n",
              "    </tr>\n",
              "  </thead>\n",
              "  <tbody>\n",
              "    <tr>\n",
              "      <th>0</th>\n",
              "      <td>22.0</td>\n",
              "      <td>22.0</td>\n",
              "    </tr>\n",
              "    <tr>\n",
              "      <th>1</th>\n",
              "      <td>38.0</td>\n",
              "      <td>38.0</td>\n",
              "    </tr>\n",
              "    <tr>\n",
              "      <th>2</th>\n",
              "      <td>26.0</td>\n",
              "      <td>26.0</td>\n",
              "    </tr>\n",
              "    <tr>\n",
              "      <th>3</th>\n",
              "      <td>35.0</td>\n",
              "      <td>35.0</td>\n",
              "    </tr>\n",
              "    <tr>\n",
              "      <th>4</th>\n",
              "      <td>35.0</td>\n",
              "      <td>35.0</td>\n",
              "    </tr>\n",
              "    <tr>\n",
              "      <th>5</th>\n",
              "      <td>NaN</td>\n",
              "      <td>28.0</td>\n",
              "    </tr>\n",
              "  </tbody>\n",
              "</table>\n",
              "</div>\n",
              "      <button class=\"colab-df-convert\" onclick=\"convertToInteractive('df-5d1ae4fc-5247-48d1-8eee-99148519a23a')\"\n",
              "              title=\"Convert this dataframe to an interactive table.\"\n",
              "              style=\"display:none;\">\n",
              "        \n",
              "  <svg xmlns=\"http://www.w3.org/2000/svg\" height=\"24px\"viewBox=\"0 0 24 24\"\n",
              "       width=\"24px\">\n",
              "    <path d=\"M0 0h24v24H0V0z\" fill=\"none\"/>\n",
              "    <path d=\"M18.56 5.44l.94 2.06.94-2.06 2.06-.94-2.06-.94-.94-2.06-.94 2.06-2.06.94zm-11 1L8.5 8.5l.94-2.06 2.06-.94-2.06-.94L8.5 2.5l-.94 2.06-2.06.94zm10 10l.94 2.06.94-2.06 2.06-.94-2.06-.94-.94-2.06-.94 2.06-2.06.94z\"/><path d=\"M17.41 7.96l-1.37-1.37c-.4-.4-.92-.59-1.43-.59-.52 0-1.04.2-1.43.59L10.3 9.45l-7.72 7.72c-.78.78-.78 2.05 0 2.83L4 21.41c.39.39.9.59 1.41.59.51 0 1.02-.2 1.41-.59l7.78-7.78 2.81-2.81c.8-.78.8-2.07 0-2.86zM5.41 20L4 18.59l7.72-7.72 1.47 1.35L5.41 20z\"/>\n",
              "  </svg>\n",
              "      </button>\n",
              "      \n",
              "  <style>\n",
              "    .colab-df-container {\n",
              "      display:flex;\n",
              "      flex-wrap:wrap;\n",
              "      gap: 12px;\n",
              "    }\n",
              "\n",
              "    .colab-df-convert {\n",
              "      background-color: #E8F0FE;\n",
              "      border: none;\n",
              "      border-radius: 50%;\n",
              "      cursor: pointer;\n",
              "      display: none;\n",
              "      fill: #1967D2;\n",
              "      height: 32px;\n",
              "      padding: 0 0 0 0;\n",
              "      width: 32px;\n",
              "    }\n",
              "\n",
              "    .colab-df-convert:hover {\n",
              "      background-color: #E2EBFA;\n",
              "      box-shadow: 0px 1px 2px rgba(60, 64, 67, 0.3), 0px 1px 3px 1px rgba(60, 64, 67, 0.15);\n",
              "      fill: #174EA6;\n",
              "    }\n",
              "\n",
              "    [theme=dark] .colab-df-convert {\n",
              "      background-color: #3B4455;\n",
              "      fill: #D2E3FC;\n",
              "    }\n",
              "\n",
              "    [theme=dark] .colab-df-convert:hover {\n",
              "      background-color: #434B5C;\n",
              "      box-shadow: 0px 1px 3px 1px rgba(0, 0, 0, 0.15);\n",
              "      filter: drop-shadow(0px 1px 2px rgba(0, 0, 0, 0.3));\n",
              "      fill: #FFFFFF;\n",
              "    }\n",
              "  </style>\n",
              "\n",
              "      <script>\n",
              "        const buttonEl =\n",
              "          document.querySelector('#df-5d1ae4fc-5247-48d1-8eee-99148519a23a button.colab-df-convert');\n",
              "        buttonEl.style.display =\n",
              "          google.colab.kernel.accessAllowed ? 'block' : 'none';\n",
              "\n",
              "        async function convertToInteractive(key) {\n",
              "          const element = document.querySelector('#df-5d1ae4fc-5247-48d1-8eee-99148519a23a');\n",
              "          const dataTable =\n",
              "            await google.colab.kernel.invokeFunction('convertToInteractive',\n",
              "                                                     [key], {});\n",
              "          if (!dataTable) return;\n",
              "\n",
              "          const docLinkHtml = 'Like what you see? Visit the ' +\n",
              "            '<a target=\"_blank\" href=https://colab.research.google.com/notebooks/data_table.ipynb>data table notebook</a>'\n",
              "            + ' to learn more about interactive tables.';\n",
              "          element.innerHTML = '';\n",
              "          dataTable['output_type'] = 'display_data';\n",
              "          await google.colab.output.renderOutput(dataTable, element);\n",
              "          const docLink = document.createElement('div');\n",
              "          docLink.innerHTML = docLinkHtml;\n",
              "          element.appendChild(docLink);\n",
              "        }\n",
              "      </script>\n",
              "    </div>\n",
              "  </div>\n",
              "  "
            ],
            "text/plain": [
              "    Age  Age_random\n",
              "0  22.0        22.0\n",
              "1  38.0        38.0\n",
              "2  26.0        26.0\n",
              "3  35.0        35.0\n",
              "4  35.0        35.0\n",
              "5   NaN        28.0"
            ]
          },
          "execution_count": 19,
          "metadata": {},
          "output_type": "execute_result"
        }
      ],
      "source": [
        "# Tao colum Age_random (thay the gia tri null bang gia tri ngau nhien)\n",
        "df = MissingHandler.fill_nan_by_random(df, 'Age', 'Age_random')\n",
        "df[['Age', 'Age_random']].head(6)"
      ]
    },
    {
      "cell_type": "code",
      "execution_count": null,
      "metadata": {
        "colab": {
          "base_uri": "https://localhost:8080/",
          "height": 238
        },
        "id": "RWHjQjUZRN4h",
        "outputId": "386cea3e-46e0-434f-9f7c-07e2fe7ed36f"
      },
      "outputs": [
        {
          "data": {
            "text/html": [
              "\n",
              "  <div id=\"df-fe063c3e-628c-4db2-b6e4-862f1698e515\">\n",
              "    <div class=\"colab-df-container\">\n",
              "      <div>\n",
              "<style scoped>\n",
              "    .dataframe tbody tr th:only-of-type {\n",
              "        vertical-align: middle;\n",
              "    }\n",
              "\n",
              "    .dataframe tbody tr th {\n",
              "        vertical-align: top;\n",
              "    }\n",
              "\n",
              "    .dataframe thead th {\n",
              "        text-align: right;\n",
              "    }\n",
              "</style>\n",
              "<table border=\"1\" class=\"dataframe\">\n",
              "  <thead>\n",
              "    <tr style=\"text-align: right;\">\n",
              "      <th></th>\n",
              "      <th>Age</th>\n",
              "      <th>Age_arbitrary</th>\n",
              "    </tr>\n",
              "  </thead>\n",
              "  <tbody>\n",
              "    <tr>\n",
              "      <th>0</th>\n",
              "      <td>22.0</td>\n",
              "      <td>22.0</td>\n",
              "    </tr>\n",
              "    <tr>\n",
              "      <th>1</th>\n",
              "      <td>38.0</td>\n",
              "      <td>38.0</td>\n",
              "    </tr>\n",
              "    <tr>\n",
              "      <th>2</th>\n",
              "      <td>26.0</td>\n",
              "      <td>26.0</td>\n",
              "    </tr>\n",
              "    <tr>\n",
              "      <th>3</th>\n",
              "      <td>35.0</td>\n",
              "      <td>35.0</td>\n",
              "    </tr>\n",
              "    <tr>\n",
              "      <th>4</th>\n",
              "      <td>35.0</td>\n",
              "      <td>35.0</td>\n",
              "    </tr>\n",
              "    <tr>\n",
              "      <th>5</th>\n",
              "      <td>NaN</td>\n",
              "      <td>75.0</td>\n",
              "    </tr>\n",
              "  </tbody>\n",
              "</table>\n",
              "</div>\n",
              "      <button class=\"colab-df-convert\" onclick=\"convertToInteractive('df-fe063c3e-628c-4db2-b6e4-862f1698e515')\"\n",
              "              title=\"Convert this dataframe to an interactive table.\"\n",
              "              style=\"display:none;\">\n",
              "        \n",
              "  <svg xmlns=\"http://www.w3.org/2000/svg\" height=\"24px\"viewBox=\"0 0 24 24\"\n",
              "       width=\"24px\">\n",
              "    <path d=\"M0 0h24v24H0V0z\" fill=\"none\"/>\n",
              "    <path d=\"M18.56 5.44l.94 2.06.94-2.06 2.06-.94-2.06-.94-.94-2.06-.94 2.06-2.06.94zm-11 1L8.5 8.5l.94-2.06 2.06-.94-2.06-.94L8.5 2.5l-.94 2.06-2.06.94zm10 10l.94 2.06.94-2.06 2.06-.94-2.06-.94-.94-2.06-.94 2.06-2.06.94z\"/><path d=\"M17.41 7.96l-1.37-1.37c-.4-.4-.92-.59-1.43-.59-.52 0-1.04.2-1.43.59L10.3 9.45l-7.72 7.72c-.78.78-.78 2.05 0 2.83L4 21.41c.39.39.9.59 1.41.59.51 0 1.02-.2 1.41-.59l7.78-7.78 2.81-2.81c.8-.78.8-2.07 0-2.86zM5.41 20L4 18.59l7.72-7.72 1.47 1.35L5.41 20z\"/>\n",
              "  </svg>\n",
              "      </button>\n",
              "      \n",
              "  <style>\n",
              "    .colab-df-container {\n",
              "      display:flex;\n",
              "      flex-wrap:wrap;\n",
              "      gap: 12px;\n",
              "    }\n",
              "\n",
              "    .colab-df-convert {\n",
              "      background-color: #E8F0FE;\n",
              "      border: none;\n",
              "      border-radius: 50%;\n",
              "      cursor: pointer;\n",
              "      display: none;\n",
              "      fill: #1967D2;\n",
              "      height: 32px;\n",
              "      padding: 0 0 0 0;\n",
              "      width: 32px;\n",
              "    }\n",
              "\n",
              "    .colab-df-convert:hover {\n",
              "      background-color: #E2EBFA;\n",
              "      box-shadow: 0px 1px 2px rgba(60, 64, 67, 0.3), 0px 1px 3px 1px rgba(60, 64, 67, 0.15);\n",
              "      fill: #174EA6;\n",
              "    }\n",
              "\n",
              "    [theme=dark] .colab-df-convert {\n",
              "      background-color: #3B4455;\n",
              "      fill: #D2E3FC;\n",
              "    }\n",
              "\n",
              "    [theme=dark] .colab-df-convert:hover {\n",
              "      background-color: #434B5C;\n",
              "      box-shadow: 0px 1px 3px 1px rgba(0, 0, 0, 0.15);\n",
              "      filter: drop-shadow(0px 1px 2px rgba(0, 0, 0, 0.3));\n",
              "      fill: #FFFFFF;\n",
              "    }\n",
              "  </style>\n",
              "\n",
              "      <script>\n",
              "        const buttonEl =\n",
              "          document.querySelector('#df-fe063c3e-628c-4db2-b6e4-862f1698e515 button.colab-df-convert');\n",
              "        buttonEl.style.display =\n",
              "          google.colab.kernel.accessAllowed ? 'block' : 'none';\n",
              "\n",
              "        async function convertToInteractive(key) {\n",
              "          const element = document.querySelector('#df-fe063c3e-628c-4db2-b6e4-862f1698e515');\n",
              "          const dataTable =\n",
              "            await google.colab.kernel.invokeFunction('convertToInteractive',\n",
              "                                                     [key], {});\n",
              "          if (!dataTable) return;\n",
              "\n",
              "          const docLinkHtml = 'Like what you see? Visit the ' +\n",
              "            '<a target=\"_blank\" href=https://colab.research.google.com/notebooks/data_table.ipynb>data table notebook</a>'\n",
              "            + ' to learn more about interactive tables.';\n",
              "          element.innerHTML = '';\n",
              "          dataTable['output_type'] = 'display_data';\n",
              "          await google.colab.output.renderOutput(dataTable, element);\n",
              "          const docLink = document.createElement('div');\n",
              "          docLink.innerHTML = docLinkHtml;\n",
              "          element.appendChild(docLink);\n",
              "        }\n",
              "      </script>\n",
              "    </div>\n",
              "  </div>\n",
              "  "
            ],
            "text/plain": [
              "    Age  Age_arbitrary\n",
              "0  22.0           22.0\n",
              "1  38.0           38.0\n",
              "2  26.0           26.0\n",
              "3  35.0           35.0\n",
              "4  35.0           35.0\n",
              "5   NaN           75.0"
            ]
          },
          "execution_count": 20,
          "metadata": {},
          "output_type": "execute_result"
        }
      ],
      "source": [
        "# Tao column Age_arbitrary (Thay the gia tri null bang gia tri bat ki)\n",
        "# Nguoi co so tuoi cao nhat the gioi la 127 tuoi (nguoi Nhat ban)\n",
        "df = MissingHandler.fill_nan_by_arbitrary(df, 'Age', 'Age_arbitrary', start=0, end=127)\n",
        "df[['Age', 'Age_arbitrary']].head(6)"
      ]
    },
    {
      "cell_type": "code",
      "execution_count": null,
      "metadata": {
        "colab": {
          "base_uri": "https://localhost:8080/"
        },
        "id": "5UOV9azp9DWS",
        "outputId": "8ec2a459-6afa-4bc6-f818-807c6df46dcb"
      },
      "outputs": [
        {
          "name": "stdout",
          "output_type": "stream",
          "text": [
            "Std of Age = 14.526497332334044\n",
            "Std of Age_median = 13.019696550973194\n",
            "Std of Age_mean = 13.002015226002884\n",
            "Std of Age_mode = 13.199571767746487\n",
            "Std of Age_end_dist = 21.719150677136366\n",
            "Std of Age_random = 14.5636540895687\n",
            "Std of Age_arbitrary = 22.273405915866398\n"
          ]
        }
      ],
      "source": [
        "print(f\"Std of Age = {df['Age'].std()}\")\n",
        "print(f\"Std of Age_median = {df['Age_median'].std()}\")\n",
        "print(f\"Std of Age_mean = {df['Age_mean'].std()}\")\n",
        "print(f\"Std of Age_mode = {df['Age_mode'].std()}\")\n",
        "print(f\"Std of Age_end_dist = {df['Age_end_dist'].std()}\")\n",
        "print(f\"Std of Age_random = {df['Age_random'].std()}\")\n",
        "print(f\"Std of Age_arbitrary = {df['Age_arbitrary'].std()}\")"
      ]
    },
    {
      "cell_type": "code",
      "execution_count": null,
      "metadata": {
        "colab": {
          "base_uri": "https://localhost:8080/",
          "height": 445
        },
        "id": "H7DxB02G9bYS",
        "outputId": "da739e9d-12ac-40f5-c9f5-2f663b2e96f9"
      },
      "outputs": [
        {
          "data": {
            "text/plain": [
              "<matplotlib.legend.Legend at 0x7f9846bcfd90>"
            ]
          },
          "execution_count": 22,
          "metadata": {},
          "output_type": "execute_result"
        },
        {
          "data": {
            "image/png": "[encoded data removed]",
            "text/plain": [
              "<Figure size 864x504 with 1 Axes>"
            ]
          },
          "metadata": {
            "needs_background": "light"
          },
          "output_type": "display_data"
        }
      ],
      "source": [
        "fig, ax = plt.subplots(figsize=(12, 7))\n",
        "df['Age'].plot(kind='kde', color='blue')\n",
        "df['Age_median'].plot(kind='kde', color='red')\n",
        "df['Age_mean'].plot(kind='kde', color='green')\n",
        "df['Age_mode'].plot(kind='kde', color='black')\n",
        "df['Age_end_dist'].plot(kind='kde', color='pink')\n",
        "df['Age_random'].plot(kind='kde', color='purple')\n",
        "df['Age_arbitrary'].plot(kind='kde', color='orange')\n",
        "lines, labels = ax.get_legend_handles_labels()\n",
        "ax.legend(lines, labels, loc='best')"
      ]
    },
    {
      "cell_type": "markdown",
      "metadata": {
        "id": "76cPV7OHaFZG"
      },
      "source": [
        "### Code dự đoán với trường hợp KHÔNG xử lí ngoại lệ"
      ]
    },
    {
      "cell_type": "code",
      "execution_count": null,
      "metadata": {
        "id": "UGUgoAm71jvA"
      },
      "outputs": [],
      "source": [
        "class Trainer:\n",
        "  @staticmethod\n",
        "  def train(df: pd.DataFrame, list_feature_need_train: List[str], target_feature: str, additional_source_feature: List[str]):\n",
        "    dt = df.copy()\n",
        "    scores = dict()\n",
        "    store = dict()\n",
        "\n",
        "    for label in list_feature_need_train:\n",
        "      # split \"Age_mean+AgeNAN\" ==> ['Age_mean', 'AgeNAN']\n",
        "      features = label.split(\"+\")\n",
        "      for random_state in range(0, 10):\n",
        "        x_train, x_test, y_train, y_test = train_test_split(dt[[*features, *additional_source_feature]], dt[target_feature], test_size=0.3, random_state=random_state)\n",
        "        logisticRegr = LogisticRegression(random_state=random_state).fit(x_train, y_train)\n",
        "\n",
        "        score = logisticRegr.score(x_test, y_test)\n",
        "        if label not in scores:\n",
        "          scores[label] = []\n",
        "        scores[label].append(score)\n",
        "        # print(f'Run #{random_state}: {score}')\n",
        "\n",
        "      mean_score = np.array(scores[label]).mean()\n",
        "      store.update({label: mean_score})\n",
        "      print(f'[{label}] Score = {mean_score}')\n",
        "    \n",
        "    return store\n",
        "  \n",
        "  @staticmethod\n",
        "  def train_cross_val(df: pd.DataFrame, list_feature_need_train: List[str], target_feature: str, additional_source_feature: List[str]):\n",
        "    dt = df.copy()\n",
        "    clf = LogisticRegression(random_state=0)\n",
        "    store = dict()\n",
        "\n",
        "    for label in list_feature_need_train:\n",
        "      # split \"Age_mean+AgeNAN\" ==> ['Age_mean', 'AgeNAN']\n",
        "      features = label.split(\"+\")\n",
        "      X = dt[[*features, *additional_source_feature]]\n",
        "      y = dt[target_feature]\n",
        "      scores = cross_val_score(clf, X, y, cv=5)\n",
        "\n",
        "      mean_score = scores.mean()\n",
        "      store.update({label: mean_score})\n",
        "      print(f'[{label}] Score = {mean_score}')\n",
        "    \n",
        "    return store"
      ]
    },
    {
      "cell_type": "code",
      "execution_count": null,
      "metadata": {
        "colab": {
          "base_uri": "https://localhost:8080/"
        },
        "id": "JlcoMPmf5iyr",
        "outputId": "38d54b40-3b80-4b5b-da73-2a92f19d2259"
      },
      "outputs": [
        {
          "name": "stdout",
          "output_type": "stream",
          "text": [
            "[Age_median] Score = 0.7822547234950725\n",
            "[Age_mean] Score = 0.7822547234950725\n",
            "[Age_mode] Score = 0.7822547234950725\n",
            "[Age_end_dist] Score = 0.7822547234950725\n",
            "[Age_random] Score = 0.7811311279894545\n",
            "[Age_arbitrary] Score = 0.7833783190006904\n",
            "[Age_mean+Age_NAN] Score = 0.7822547234950725\n"
          ]
        }
      ],
      "source": [
        "features_need_run = ['Age_median', 'Age_mean', 'Age_mode', 'Age_end_dist', 'Age_random', 'Age_arbitrary', 'Age_mean+Age_NAN']\n",
        "store = Trainer.train_cross_val(df, features_need_run, 'Survived', ['Fare', 'Sex_transform1', 'Sex_transform2'])"
      ]
    },
    {
      "cell_type": "markdown",
      "metadata": {
        "id": "p7B0BJqsWOcd"
      },
      "source": [
        "## 1.2 Data without outliers"
      ]
    },
    {
      "cell_type": "code",
      "execution_count": null,
      "metadata": {
        "colab": {
          "base_uri": "https://localhost:8080/",
          "height": 281
        },
        "id": "UahoMMn0WSRm",
        "outputId": "c297f1b5-3c35-4c77-e232-f2d7f3e3944d"
      },
      "outputs": [
        {
          "data": {
            "image/png": "[encoded data removed]",
            "text/plain": [
              "<Figure size 432x288 with 1 Axes>"
            ]
          },
          "metadata": {
            "needs_background": "light"
          },
          "output_type": "display_data"
        }
      ],
      "source": [
        "# Phan bo Age feature\n",
        "plt.hist(df['Age'].dropna())\n",
        "plt.title('Phan bo Age')\n",
        "plt.show()"
      ]
    },
    {
      "cell_type": "code",
      "execution_count": null,
      "metadata": {
        "colab": {
          "base_uri": "https://localhost:8080/"
        },
        "id": "0jhve-ekYepN",
        "outputId": "6fc62fcf-ceda-4007-ac68-96539882a5fd"
      },
      "outputs": [
        {
          "name": "stdout",
          "output_type": "stream",
          "text": [
            "q3 = 38.0, q1 = 20.125, iqr = 17.875\n",
            "lower_bound = 2.25, upper_bound = 55.875\n"
          ]
        }
      ],
      "source": [
        "# Do du lieu phan bo lech trai (skewed), nen su dung IQR de tim kiem bien tren, bien duoi\n",
        "q3, q1 = np.percentile(df['Age'].dropna(), [75, 25])\n",
        "iqr = q3 - q1\n",
        "upper_bound = q3 + 1 * iqr\n",
        "lower_bound = q1 - 1 * iqr\n",
        "\n",
        "print(f'q3 = {q3}, q1 = {q1}, iqr = {iqr}') \n",
        "print(f'lower_bound = {lower_bound}, upper_bound = {upper_bound}')"
      ]
    },
    {
      "cell_type": "code",
      "execution_count": null,
      "metadata": {
        "id": "u4lNmDX3ZQjV"
      },
      "outputs": [],
      "source": [
        "# Xu li gia tri ngoai le\n",
        "df['Age_without_outlier'] = df['Age']\n",
        "df['Age_without_outlier'].values[df['Age_without_outlier'].values > upper_bound] = upper_bound\n",
        "df['Age_without_outlier'].values[df['Age_without_outlier'].values < lower_bound] = lower_bound"
      ]
    },
    {
      "cell_type": "code",
      "execution_count": null,
      "metadata": {
        "colab": {
          "base_uri": "https://localhost:8080/",
          "height": 281
        },
        "id": "dPIIFgD-bt3o",
        "outputId": "6e917d45-ac43-4c6e-f09a-d66651ced2ff"
      },
      "outputs": [
        {
          "data": {
            "image/png": "[encoded data removed]",
            "text/plain": [
              "<Figure size 432x288 with 1 Axes>"
            ]
          },
          "metadata": {
            "needs_background": "light"
          },
          "output_type": "display_data"
        }
      ],
      "source": [
        "# Phan bo Age feature sau khi loai bo outlier\n",
        "plt.hist(df['Age_without_outlier'].dropna())\n",
        "plt.title('Phan bo Age sau khi loai bo outlier')\n",
        "plt.show()"
      ]
    },
    {
      "cell_type": "code",
      "execution_count": null,
      "metadata": {
        "colab": {
          "base_uri": "https://localhost:8080/"
        },
        "id": "dEFnMU6KbvQb",
        "outputId": "da345b07-81e0-4392-a5e5-9f96ef0719c6"
      },
      "outputs": [
        {
          "name": "stdout",
          "output_type": "stream",
          "text": [
            "Median of Age_without_outlier = 28.0\n",
            "Mean of Age_without_outlier = 29.36642156862745\n",
            "Mode of Age_without_outlier = 55.875\n",
            "End of distribution of Age_without_outlier: 70.28809955593991\n"
          ]
        }
      ],
      "source": [
        "df['Age_NAN/without_outlier'] = np.where(df['Age_without_outlier'].isnull(), 1, 0)\n",
        "df = MissingHandler.fill_nan_by_median(df, 'Age_without_outlier', 'Age_median/without_outlier')\n",
        "df = MissingHandler.fill_nan_by_mean(df, 'Age_without_outlier', 'Age_mean/without_outlier')\n",
        "df = MissingHandler.fill_nan_by_mode(df, 'Age_without_outlier', 'Age_mode/without_outlier')\n",
        "df = MissingHandler.fill_nan_by_end_distribution(df, 'Age_without_outlier', 'Age_end_dist/without_outlier')\n",
        "df = MissingHandler.fill_nan_by_random(df, 'Age_without_outlier', 'Age_random/without_outlier')\n",
        "df = MissingHandler.fill_nan_by_arbitrary(df, 'Age_without_outlier', 'Age_arbitrary/without_outlier', start=0, end=127)"
      ]
    },
    {
      "cell_type": "code",
      "execution_count": null,
      "metadata": {
        "colab": {
          "base_uri": "https://localhost:8080/"
        },
        "id": "j1jzJF98cpiB",
        "outputId": "247d4a5f-4612-4e9e-eb73-c0e0a0498f67"
      },
      "outputs": [
        {
          "name": "stdout",
          "output_type": "stream",
          "text": [
            "Std of Age_without_outlier = 13.640559329104155\n",
            "Std of Age_median/without_outlier = 12.221231842670573\n",
            "Std of Age_mean/without_outlier = 12.209051916007308\n",
            "Std of Age_mode/without_outlier = 16.15705041828937\n",
            "Std of Age_end_dist/without_outlier = 20.39454912023378\n",
            "Std of Age_random/without_outlier = 13.648780539673844\n",
            "Std of Age_arbitrary/without_outlier = 19.670476476583406\n"
          ]
        }
      ],
      "source": [
        "print(f\"Std of Age_without_outlier = {df['Age_without_outlier'].std()}\")\n",
        "print(f\"Std of Age_median/without_outlier = {df['Age_median/without_outlier'].std()}\")\n",
        "print(f\"Std of Age_mean/without_outlier = {df['Age_mean/without_outlier'].std()}\")\n",
        "print(f\"Std of Age_mode/without_outlier = {df['Age_mode/without_outlier'].std()}\")\n",
        "print(f\"Std of Age_end_dist/without_outlier = {df['Age_end_dist/without_outlier'].std()}\")\n",
        "print(f\"Std of Age_random/without_outlier = {df['Age_random/without_outlier'].std()}\")\n",
        "print(f\"Std of Age_arbitrary/without_outlier = {df['Age_arbitrary/without_outlier'].std()}\")"
      ]
    },
    {
      "cell_type": "code",
      "execution_count": null,
      "metadata": {
        "colab": {
          "base_uri": "https://localhost:8080/",
          "height": 445
        },
        "id": "i1GEH5yqcszb",
        "outputId": "21b3634f-7f53-49a1-e64f-612b9a78940f"
      },
      "outputs": [
        {
          "data": {
            "text/plain": [
              "<matplotlib.legend.Legend at 0x7f98444d43d0>"
            ]
          },
          "execution_count": 31,
          "metadata": {},
          "output_type": "execute_result"
        },
        {
          "data": {
            "image/png": "[encoded data removed]",
            "text/plain": [
              "<Figure size 864x504 with 1 Axes>"
            ]
          },
          "metadata": {
            "needs_background": "light"
          },
          "output_type": "display_data"
        }
      ],
      "source": [
        "fig, ax = plt.subplots(figsize=(12, 7))\n",
        "df['Age_without_outlier'].plot(kind='kde', color='blue')\n",
        "df['Age_median/without_outlier'].plot(kind='kde', color='red')\n",
        "df['Age_mean/without_outlier'].plot(kind='kde', color='green')\n",
        "df['Age_mode/without_outlier'].plot(kind='kde', color='black')\n",
        "df['Age_end_dist/without_outlier'].plot(kind='kde', color='pink')\n",
        "df['Age_random/without_outlier'].plot(kind='kde', color='purple')\n",
        "df['Age_arbitrary/without_outlier'].plot(kind='kde', color='orange')\n",
        "lines, labels = ax.get_legend_handles_labels()\n",
        "ax.legend(lines, labels, loc='best')"
      ]
    },
    {
      "cell_type": "markdown",
      "metadata": {
        "id": "dtKV1ilYZvfJ"
      },
      "source": [
        "### Code dự đoán với trường hợp có xử lí ngoại lệ"
      ]
    },
    {
      "cell_type": "code",
      "execution_count": null,
      "metadata": {
        "colab": {
          "base_uri": "https://localhost:8080/"
        },
        "id": "FECt-1IZBejv",
        "outputId": "01cc1ecb-e1ee-4272-f078-4476b7e11d71"
      },
      "outputs": [
        {
          "name": "stdout",
          "output_type": "stream",
          "text": [
            "[Age_median/without_outlier] Score = 0.7822547234950725\n",
            "[Age_mean/without_outlier] Score = 0.7822547234950725\n",
            "[Age_mode/without_outlier] Score = 0.7822547234950725\n",
            "[Age_end_dist/without_outlier] Score = 0.7822547234950725\n",
            "[Age_random/without_outlier] Score = 0.7811311279894545\n",
            "[Age_arbitrary/without_outlier] Score = 0.7766744083861653\n",
            "[Age_mean/without_outlier+Age_NAN/without_outlier] Score = 0.7822547234950725\n"
          ]
        }
      ],
      "source": [
        "features_need_run = ['Age_median/without_outlier', 'Age_mean/without_outlier', 'Age_mode/without_outlier', 'Age_end_dist/without_outlier', \n",
        "                     'Age_random/without_outlier', 'Age_arbitrary/without_outlier', 'Age_mean/without_outlier+Age_NAN/without_outlier']\n",
        "store_without_outlier = Trainer.train_cross_val(df, features_need_run, 'Survived', ['Fare', 'Sex_transform'])"
      ]
    },
    {
      "cell_type": "code",
      "execution_count": null,
      "metadata": {
        "colab": {
          "base_uri": "https://localhost:8080/"
        },
        "id": "AguV_s3_WoKs",
        "outputId": "54bd6f4c-0bb2-45c9-e48e-8afedbfe92ea"
      },
      "outputs": [
        {
          "name": "stdout",
          "output_type": "stream",
          "text": [
            "[Age_median/without_outlier] Score = 0.7822547234950725\n",
            "[Age_mean/without_outlier] Score = 0.7822547234950725\n",
            "[Age_mode/without_outlier] Score = 0.7822547234950725\n",
            "[Age_end_dist/without_outlier] Score = 0.7822547234950725\n",
            "[Age_random/without_outlier] Score = 0.7811311279894545\n",
            "[Age_arbitrary/without_outlier] Score = 0.7822547234950725\n",
            "[Age_mean/without_outlier+Age_NAN/without_outlier] Score = 0.7822547234950725\n"
          ]
        }
      ],
      "source": [
        "features_need_run = ['Age_median/without_outlier', 'Age_mean/without_outlier', 'Age_mode/without_outlier', 'Age_end_dist/without_outlier', \n",
        "                     'Age_random/without_outlier', 'Age_arbitrary/without_outlier', 'Age_mean/without_outlier+Age_NAN/without_outlier']\n",
        "store_without_outlier = Trainer.train_cross_val(df, features_need_run, 'Survived', ['Fare', 'Sex_transform1', 'Sex_transform2'])"
      ]
    },
    {
      "cell_type": "markdown",
      "metadata": {
        "id": "sXFg7XMWhMC4"
      },
      "source": [
        "## 1.3 Conclusion"
      ]
    },
    {
      "cell_type": "code",
      "execution_count": null,
      "metadata": {
        "id": "I1OoiVs9hQF5"
      },
      "outputs": [],
      "source": [
        "store_result = dict()\n",
        "for key, val in store.items():\n",
        "  store_result[key] = round(val * 100, 2)\n",
        "\n",
        "for key, val in store_without_outlier.items():\n",
        "  store_result[key] = round(val * 100, 2)"
      ]
    },
    {
      "cell_type": "code",
      "execution_count": null,
      "metadata": {
        "colab": {
          "base_uri": "https://localhost:8080/",
          "height": 269
        },
        "id": "o3RYY0DIhuKN",
        "outputId": "db5c8910-7eea-437d-e9e3-2075b149a6b4"
      },
      "outputs": [
        {
          "data": {
            "text/html": [
              "\n",
              "  <div id=\"df-c8260f70-e90e-4042-a495-4ecafea21871\">\n",
              "    <div class=\"colab-df-container\">\n",
              "      <div>\n",
              "<style scoped>\n",
              "    .dataframe tbody tr th:only-of-type {\n",
              "        vertical-align: middle;\n",
              "    }\n",
              "\n",
              "    .dataframe tbody tr th {\n",
              "        vertical-align: top;\n",
              "    }\n",
              "\n",
              "    .dataframe thead th {\n",
              "        text-align: right;\n",
              "    }\n",
              "</style>\n",
              "<table border=\"1\" class=\"dataframe\">\n",
              "  <thead>\n",
              "    <tr style=\"text-align: right;\">\n",
              "      <th></th>\n",
              "      <th>Outlier</th>\n",
              "      <th>Without Outlier</th>\n",
              "    </tr>\n",
              "  </thead>\n",
              "  <tbody>\n",
              "    <tr>\n",
              "      <th>median</th>\n",
              "      <td>78.23</td>\n",
              "      <td>78.23</td>\n",
              "    </tr>\n",
              "    <tr>\n",
              "      <th>mean</th>\n",
              "      <td>78.23</td>\n",
              "      <td>78.23</td>\n",
              "    </tr>\n",
              "    <tr>\n",
              "      <th>mode</th>\n",
              "      <td>78.23</td>\n",
              "      <td>78.23</td>\n",
              "    </tr>\n",
              "    <tr>\n",
              "      <th>random</th>\n",
              "      <td>78.11</td>\n",
              "      <td>78.11</td>\n",
              "    </tr>\n",
              "    <tr>\n",
              "      <th>end_dist</th>\n",
              "      <td>78.23</td>\n",
              "      <td>78.23</td>\n",
              "    </tr>\n",
              "    <tr>\n",
              "      <th>arbitrary</th>\n",
              "      <td>78.23</td>\n",
              "      <td>77.67</td>\n",
              "    </tr>\n",
              "    <tr>\n",
              "      <th>mean+NAN</th>\n",
              "      <td>78.23</td>\n",
              "      <td>78.23</td>\n",
              "    </tr>\n",
              "  </tbody>\n",
              "</table>\n",
              "</div>\n",
              "      <button class=\"colab-df-convert\" onclick=\"convertToInteractive('df-c8260f70-e90e-4042-a495-4ecafea21871')\"\n",
              "              title=\"Convert this dataframe to an interactive table.\"\n",
              "              style=\"display:none;\">\n",
              "        \n",
              "  <svg xmlns=\"http://www.w3.org/2000/svg\" height=\"24px\"viewBox=\"0 0 24 24\"\n",
              "       width=\"24px\">\n",
              "    <path d=\"M0 0h24v24H0V0z\" fill=\"none\"/>\n",
              "    <path d=\"M18.56 5.44l.94 2.06.94-2.06 2.06-.94-2.06-.94-.94-2.06-.94 2.06-2.06.94zm-11 1L8.5 8.5l.94-2.06 2.06-.94-2.06-.94L8.5 2.5l-.94 2.06-2.06.94zm10 10l.94 2.06.94-2.06 2.06-.94-2.06-.94-.94-2.06-.94 2.06-2.06.94z\"/><path d=\"M17.41 7.96l-1.37-1.37c-.4-.4-.92-.59-1.43-.59-.52 0-1.04.2-1.43.59L10.3 9.45l-7.72 7.72c-.78.78-.78 2.05 0 2.83L4 21.41c.39.39.9.59 1.41.59.51 0 1.02-.2 1.41-.59l7.78-7.78 2.81-2.81c.8-.78.8-2.07 0-2.86zM5.41 20L4 18.59l7.72-7.72 1.47 1.35L5.41 20z\"/>\n",
              "  </svg>\n",
              "      </button>\n",
              "      \n",
              "  <style>\n",
              "    .colab-df-container {\n",
              "      display:flex;\n",
              "      flex-wrap:wrap;\n",
              "      gap: 12px;\n",
              "    }\n",
              "\n",
              "    .colab-df-convert {\n",
              "      background-color: #E8F0FE;\n",
              "      border: none;\n",
              "      border-radius: 50%;\n",
              "      cursor: pointer;\n",
              "      display: none;\n",
              "      fill: #1967D2;\n",
              "      height: 32px;\n",
              "      padding: 0 0 0 0;\n",
              "      width: 32px;\n",
              "    }\n",
              "\n",
              "    .colab-df-convert:hover {\n",
              "      background-color: #E2EBFA;\n",
              "      box-shadow: 0px 1px 2px rgba(60, 64, 67, 0.3), 0px 1px 3px 1px rgba(60, 64, 67, 0.15);\n",
              "      fill: #174EA6;\n",
              "    }\n",
              "\n",
              "    [theme=dark] .colab-df-convert {\n",
              "      background-color: #3B4455;\n",
              "      fill: #D2E3FC;\n",
              "    }\n",
              "\n",
              "    [theme=dark] .colab-df-convert:hover {\n",
              "      background-color: #434B5C;\n",
              "      box-shadow: 0px 1px 3px 1px rgba(0, 0, 0, 0.15);\n",
              "      filter: drop-shadow(0px 1px 2px rgba(0, 0, 0, 0.3));\n",
              "      fill: #FFFFFF;\n",
              "    }\n",
              "  </style>\n",
              "\n",
              "      <script>\n",
              "        const buttonEl =\n",
              "          document.querySelector('#df-c8260f70-e90e-4042-a495-4ecafea21871 button.colab-df-convert');\n",
              "        buttonEl.style.display =\n",
              "          google.colab.kernel.accessAllowed ? 'block' : 'none';\n",
              "\n",
              "        async function convertToInteractive(key) {\n",
              "          const element = document.querySelector('#df-c8260f70-e90e-4042-a495-4ecafea21871');\n",
              "          const dataTable =\n",
              "            await google.colab.kernel.invokeFunction('convertToInteractive',\n",
              "                                                     [key], {});\n",
              "          if (!dataTable) return;\n",
              "\n",
              "          const docLinkHtml = 'Like what you see? Visit the ' +\n",
              "            '<a target=\"_blank\" href=https://colab.research.google.com/notebooks/data_table.ipynb>data table notebook</a>'\n",
              "            + ' to learn more about interactive tables.';\n",
              "          element.innerHTML = '';\n",
              "          dataTable['output_type'] = 'display_data';\n",
              "          await google.colab.output.renderOutput(dataTable, element);\n",
              "          const docLink = document.createElement('div');\n",
              "          docLink.innerHTML = docLinkHtml;\n",
              "          element.appendChild(docLink);\n",
              "        }\n",
              "      </script>\n",
              "    </div>\n",
              "  </div>\n",
              "  "
            ],
            "text/plain": [
              "           Outlier  Without Outlier\n",
              "median       78.23            78.23\n",
              "mean         78.23            78.23\n",
              "mode         78.23            78.23\n",
              "random       78.11            78.11\n",
              "end_dist     78.23            78.23\n",
              "arbitrary    78.23            77.67\n",
              "mean+NAN     78.23            78.23"
            ]
          },
          "execution_count": 125,
          "metadata": {},
          "output_type": "execute_result"
        }
      ],
      "source": [
        "data = [\n",
        "        [store_result['Age_median'], store_result['Age_median/without_outlier']],\n",
        "        [store_result['Age_mean'], store_result['Age_mean/without_outlier']],\n",
        "        [store_result['Age_mode'], store_result['Age_mode/without_outlier']],\n",
        "        [store_result['Age_random'], store_result['Age_random/without_outlier']],\n",
        "        [store_result['Age_end_dist'], store_result['Age_end_dist/without_outlier']],\n",
        "        [store_result['Age_arbitrary'], store_result['Age_arbitrary/without_outlier']],\n",
        "        [store_result['Age_mean+Age_NAN'], store_result['Age_mean/without_outlier+Age_NAN/without_outlier']],\n",
        "      ]\n",
        "\n",
        "pd.DataFrame(data=data, columns=['Outlier', 'Without Outlier'], index=['median', 'mean', 'mode', 'random', 'end_dist', 'arbitrary', 'mean+NAN'])"
      ]
    },
    {
      "cell_type": "code",
      "execution_count": null,
      "metadata": {
        "colab": {
          "base_uri": "https://localhost:8080/",
          "height": 269
        },
        "id": "Hfop_AP5Wu5b",
        "outputId": "7cc81822-c4c0-429e-ed39-aebd9dc0c0f5"
      },
      "outputs": [
        {
          "data": {
            "text/html": [
              "\n",
              "  <div id=\"df-4a944cdf-37bc-4866-9948-b555ea85326b\">\n",
              "    <div class=\"colab-df-container\">\n",
              "      <div>\n",
              "<style scoped>\n",
              "    .dataframe tbody tr th:only-of-type {\n",
              "        vertical-align: middle;\n",
              "    }\n",
              "\n",
              "    .dataframe tbody tr th {\n",
              "        vertical-align: top;\n",
              "    }\n",
              "\n",
              "    .dataframe thead th {\n",
              "        text-align: right;\n",
              "    }\n",
              "</style>\n",
              "<table border=\"1\" class=\"dataframe\">\n",
              "  <thead>\n",
              "    <tr style=\"text-align: right;\">\n",
              "      <th></th>\n",
              "      <th>Outlier</th>\n",
              "      <th>Without Outlier</th>\n",
              "    </tr>\n",
              "  </thead>\n",
              "  <tbody>\n",
              "    <tr>\n",
              "      <th>median</th>\n",
              "      <td>78.23</td>\n",
              "      <td>78.23</td>\n",
              "    </tr>\n",
              "    <tr>\n",
              "      <th>mean</th>\n",
              "      <td>78.23</td>\n",
              "      <td>78.23</td>\n",
              "    </tr>\n",
              "    <tr>\n",
              "      <th>mode</th>\n",
              "      <td>78.23</td>\n",
              "      <td>78.23</td>\n",
              "    </tr>\n",
              "    <tr>\n",
              "      <th>random</th>\n",
              "      <td>78.11</td>\n",
              "      <td>78.11</td>\n",
              "    </tr>\n",
              "    <tr>\n",
              "      <th>end_dist</th>\n",
              "      <td>78.23</td>\n",
              "      <td>78.23</td>\n",
              "    </tr>\n",
              "    <tr>\n",
              "      <th>arbitrary</th>\n",
              "      <td>78.34</td>\n",
              "      <td>78.23</td>\n",
              "    </tr>\n",
              "    <tr>\n",
              "      <th>mean+NAN</th>\n",
              "      <td>78.23</td>\n",
              "      <td>78.23</td>\n",
              "    </tr>\n",
              "  </tbody>\n",
              "</table>\n",
              "</div>\n",
              "      <button class=\"colab-df-convert\" onclick=\"convertToInteractive('df-4a944cdf-37bc-4866-9948-b555ea85326b')\"\n",
              "              title=\"Convert this dataframe to an interactive table.\"\n",
              "              style=\"display:none;\">\n",
              "        \n",
              "  <svg xmlns=\"http://www.w3.org/2000/svg\" height=\"24px\"viewBox=\"0 0 24 24\"\n",
              "       width=\"24px\">\n",
              "    <path d=\"M0 0h24v24H0V0z\" fill=\"none\"/>\n",
              "    <path d=\"M18.56 5.44l.94 2.06.94-2.06 2.06-.94-2.06-.94-.94-2.06-.94 2.06-2.06.94zm-11 1L8.5 8.5l.94-2.06 2.06-.94-2.06-.94L8.5 2.5l-.94 2.06-2.06.94zm10 10l.94 2.06.94-2.06 2.06-.94-2.06-.94-.94-2.06-.94 2.06-2.06.94z\"/><path d=\"M17.41 7.96l-1.37-1.37c-.4-.4-.92-.59-1.43-.59-.52 0-1.04.2-1.43.59L10.3 9.45l-7.72 7.72c-.78.78-.78 2.05 0 2.83L4 21.41c.39.39.9.59 1.41.59.51 0 1.02-.2 1.41-.59l7.78-7.78 2.81-2.81c.8-.78.8-2.07 0-2.86zM5.41 20L4 18.59l7.72-7.72 1.47 1.35L5.41 20z\"/>\n",
              "  </svg>\n",
              "      </button>\n",
              "      \n",
              "  <style>\n",
              "    .colab-df-container {\n",
              "      display:flex;\n",
              "      flex-wrap:wrap;\n",
              "      gap: 12px;\n",
              "    }\n",
              "\n",
              "    .colab-df-convert {\n",
              "      background-color: #E8F0FE;\n",
              "      border: none;\n",
              "      border-radius: 50%;\n",
              "      cursor: pointer;\n",
              "      display: none;\n",
              "      fill: #1967D2;\n",
              "      height: 32px;\n",
              "      padding: 0 0 0 0;\n",
              "      width: 32px;\n",
              "    }\n",
              "\n",
              "    .colab-df-convert:hover {\n",
              "      background-color: #E2EBFA;\n",
              "      box-shadow: 0px 1px 2px rgba(60, 64, 67, 0.3), 0px 1px 3px 1px rgba(60, 64, 67, 0.15);\n",
              "      fill: #174EA6;\n",
              "    }\n",
              "\n",
              "    [theme=dark] .colab-df-convert {\n",
              "      background-color: #3B4455;\n",
              "      fill: #D2E3FC;\n",
              "    }\n",
              "\n",
              "    [theme=dark] .colab-df-convert:hover {\n",
              "      background-color: #434B5C;\n",
              "      box-shadow: 0px 1px 3px 1px rgba(0, 0, 0, 0.15);\n",
              "      filter: drop-shadow(0px 1px 2px rgba(0, 0, 0, 0.3));\n",
              "      fill: #FFFFFF;\n",
              "    }\n",
              "  </style>\n",
              "\n",
              "      <script>\n",
              "        const buttonEl =\n",
              "          document.querySelector('#df-4a944cdf-37bc-4866-9948-b555ea85326b button.colab-df-convert');\n",
              "        buttonEl.style.display =\n",
              "          google.colab.kernel.accessAllowed ? 'block' : 'none';\n",
              "\n",
              "        async function convertToInteractive(key) {\n",
              "          const element = document.querySelector('#df-4a944cdf-37bc-4866-9948-b555ea85326b');\n",
              "          const dataTable =\n",
              "            await google.colab.kernel.invokeFunction('convertToInteractive',\n",
              "                                                     [key], {});\n",
              "          if (!dataTable) return;\n",
              "\n",
              "          const docLinkHtml = 'Like what you see? Visit the ' +\n",
              "            '<a target=\"_blank\" href=https://colab.research.google.com/notebooks/data_table.ipynb>data table notebook</a>'\n",
              "            + ' to learn more about interactive tables.';\n",
              "          element.innerHTML = '';\n",
              "          dataTable['output_type'] = 'display_data';\n",
              "          await google.colab.output.renderOutput(dataTable, element);\n",
              "          const docLink = document.createElement('div');\n",
              "          docLink.innerHTML = docLinkHtml;\n",
              "          element.appendChild(docLink);\n",
              "        }\n",
              "      </script>\n",
              "    </div>\n",
              "  </div>\n",
              "  "
            ],
            "text/plain": [
              "           Outlier  Without Outlier\n",
              "median       78.23            78.23\n",
              "mean         78.23            78.23\n",
              "mode         78.23            78.23\n",
              "random       78.11            78.11\n",
              "end_dist     78.23            78.23\n",
              "arbitrary    78.34            78.23\n",
              "mean+NAN     78.23            78.23"
            ]
          },
          "execution_count": 33,
          "metadata": {},
          "output_type": "execute_result"
        }
      ],
      "source": [
        "store_result = dict()\n",
        "for key, val in store.items():\n",
        "  store_result[key] = round(val * 100, 2)\n",
        "\n",
        "for key, val in store_without_outlier.items():\n",
        "  store_result[key] = round(val * 100, 2)\n",
        "  \n",
        "data = [\n",
        "        [store_result['Age_median'], store_result['Age_median/without_outlier']],\n",
        "        [store_result['Age_mean'], store_result['Age_mean/without_outlier']],\n",
        "        [store_result['Age_mode'], store_result['Age_mode/without_outlier']],\n",
        "        [store_result['Age_random'], store_result['Age_random/without_outlier']],\n",
        "        [store_result['Age_end_dist'], store_result['Age_end_dist/without_outlier']],\n",
        "        [store_result['Age_arbitrary'], store_result['Age_arbitrary/without_outlier']],\n",
        "        [store_result['Age_mean+Age_NAN'], store_result['Age_mean/without_outlier+Age_NAN/without_outlier']],\n",
        "      ]\n",
        "\n",
        "pd.DataFrame(data=data, columns=['Outlier', 'Without Outlier'], index=['median', 'mean', 'mode', 'random', 'end_dist', 'arbitrary', 'mean+NAN'])"
      ]
    },
    {
      "cell_type": "markdown",
      "metadata": {
        "id": "UBI2yzjKZCpj"
      },
      "source": [
        "Nhận xét:\n",
        "- Việc xử lí ngoại lệ giúp tăng độ chính xác trong một số phương pháp làm sạch dữ liệu như: arbitrary, mode, thêm feature mới (mean+NAN).\n",
        "- Tuy nhiên, vẫn có một số trường hợp bị giảm độ chính xác khi làm sạch tầm 0.05% như median, mean."
      ]
    },
    {
      "cell_type": "markdown",
      "metadata": {
        "id": "gHfrBT20m0sM"
      },
      "source": [
        "# BT2\n",
        "- Đề xuất các kỹ thuật chuẩn hoá dữ liệu phù hợp để cải thiện độ chính xác\n",
        "của thuật toán hồi quy logistic trong bài toán dự báo Sự sống/chết (Survived)\n",
        "của hành khách lên tàu Titanic dựa trên Độ tuổi (Age) và Giá vé (Fare) mà họ\n",
        "đã mua.\n",
        "- Cho biết độ cải thiện (%) về độ chính xác dự báo khi áp dụng kỹ thuật chuẩn\n",
        "hoá dữ liệu đã đề xuất kết hợp với 1 trong 14 tổ hợp kỹ thuật làm sạch dữ\n",
        "liệu của Bài tập Phần 5.1"
      ]
    },
    {
      "cell_type": "markdown",
      "metadata": {
        "id": "neIONzBraUS2"
      },
      "source": [
        "## Chuẩn hóa min-max, áp dụng vào làm sạch bằng median và có xử lí ngọai lệ"
      ]
    },
    {
      "cell_type": "code",
      "execution_count": null,
      "metadata": {
        "colab": {
          "base_uri": "https://localhost:8080/",
          "height": 206
        },
        "id": "_W82zSFwo3vA",
        "outputId": "d5dc1edd-7945-4c2b-814b-6a4dde3e7275"
      },
      "outputs": [
        {
          "data": {
            "text/html": [
              "\n",
              "  <div id=\"df-a08e08ef-626f-4c2a-8aa2-922f7fe1c0cd\">\n",
              "    <div class=\"colab-df-container\">\n",
              "      <div>\n",
              "<style scoped>\n",
              "    .dataframe tbody tr th:only-of-type {\n",
              "        vertical-align: middle;\n",
              "    }\n",
              "\n",
              "    .dataframe tbody tr th {\n",
              "        vertical-align: top;\n",
              "    }\n",
              "\n",
              "    .dataframe thead th {\n",
              "        text-align: right;\n",
              "    }\n",
              "</style>\n",
              "<table border=\"1\" class=\"dataframe\">\n",
              "  <thead>\n",
              "    <tr style=\"text-align: right;\">\n",
              "      <th></th>\n",
              "      <th>Age_median/without_outlier</th>\n",
              "      <th>Fare</th>\n",
              "      <th>Sex_transform</th>\n",
              "      <th>Survived</th>\n",
              "    </tr>\n",
              "  </thead>\n",
              "  <tbody>\n",
              "    <tr>\n",
              "      <th>0</th>\n",
              "      <td>0.368298</td>\n",
              "      <td>0.014151</td>\n",
              "      <td>1.0</td>\n",
              "      <td>0</td>\n",
              "    </tr>\n",
              "    <tr>\n",
              "      <th>1</th>\n",
              "      <td>0.666667</td>\n",
              "      <td>0.139136</td>\n",
              "      <td>0.0</td>\n",
              "      <td>1</td>\n",
              "    </tr>\n",
              "    <tr>\n",
              "      <th>2</th>\n",
              "      <td>0.442890</td>\n",
              "      <td>0.015469</td>\n",
              "      <td>0.0</td>\n",
              "      <td>1</td>\n",
              "    </tr>\n",
              "    <tr>\n",
              "      <th>3</th>\n",
              "      <td>0.610723</td>\n",
              "      <td>0.103644</td>\n",
              "      <td>0.0</td>\n",
              "      <td>1</td>\n",
              "    </tr>\n",
              "    <tr>\n",
              "      <th>4</th>\n",
              "      <td>0.610723</td>\n",
              "      <td>0.015713</td>\n",
              "      <td>1.0</td>\n",
              "      <td>0</td>\n",
              "    </tr>\n",
              "  </tbody>\n",
              "</table>\n",
              "</div>\n",
              "      <button class=\"colab-df-convert\" onclick=\"convertToInteractive('df-a08e08ef-626f-4c2a-8aa2-922f7fe1c0cd')\"\n",
              "              title=\"Convert this dataframe to an interactive table.\"\n",
              "              style=\"display:none;\">\n",
              "        \n",
              "  <svg xmlns=\"http://www.w3.org/2000/svg\" height=\"24px\"viewBox=\"0 0 24 24\"\n",
              "       width=\"24px\">\n",
              "    <path d=\"M0 0h24v24H0V0z\" fill=\"none\"/>\n",
              "    <path d=\"M18.56 5.44l.94 2.06.94-2.06 2.06-.94-2.06-.94-.94-2.06-.94 2.06-2.06.94zm-11 1L8.5 8.5l.94-2.06 2.06-.94-2.06-.94L8.5 2.5l-.94 2.06-2.06.94zm10 10l.94 2.06.94-2.06 2.06-.94-2.06-.94-.94-2.06-.94 2.06-2.06.94z\"/><path d=\"M17.41 7.96l-1.37-1.37c-.4-.4-.92-.59-1.43-.59-.52 0-1.04.2-1.43.59L10.3 9.45l-7.72 7.72c-.78.78-.78 2.05 0 2.83L4 21.41c.39.39.9.59 1.41.59.51 0 1.02-.2 1.41-.59l7.78-7.78 2.81-2.81c.8-.78.8-2.07 0-2.86zM5.41 20L4 18.59l7.72-7.72 1.47 1.35L5.41 20z\"/>\n",
              "  </svg>\n",
              "      </button>\n",
              "      \n",
              "  <style>\n",
              "    .colab-df-container {\n",
              "      display:flex;\n",
              "      flex-wrap:wrap;\n",
              "      gap: 12px;\n",
              "    }\n",
              "\n",
              "    .colab-df-convert {\n",
              "      background-color: #E8F0FE;\n",
              "      border: none;\n",
              "      border-radius: 50%;\n",
              "      cursor: pointer;\n",
              "      display: none;\n",
              "      fill: #1967D2;\n",
              "      height: 32px;\n",
              "      padding: 0 0 0 0;\n",
              "      width: 32px;\n",
              "    }\n",
              "\n",
              "    .colab-df-convert:hover {\n",
              "      background-color: #E2EBFA;\n",
              "      box-shadow: 0px 1px 2px rgba(60, 64, 67, 0.3), 0px 1px 3px 1px rgba(60, 64, 67, 0.15);\n",
              "      fill: #174EA6;\n",
              "    }\n",
              "\n",
              "    [theme=dark] .colab-df-convert {\n",
              "      background-color: #3B4455;\n",
              "      fill: #D2E3FC;\n",
              "    }\n",
              "\n",
              "    [theme=dark] .colab-df-convert:hover {\n",
              "      background-color: #434B5C;\n",
              "      box-shadow: 0px 1px 3px 1px rgba(0, 0, 0, 0.15);\n",
              "      filter: drop-shadow(0px 1px 2px rgba(0, 0, 0, 0.3));\n",
              "      fill: #FFFFFF;\n",
              "    }\n",
              "  </style>\n",
              "\n",
              "      <script>\n",
              "        const buttonEl =\n",
              "          document.querySelector('#df-a08e08ef-626f-4c2a-8aa2-922f7fe1c0cd button.colab-df-convert');\n",
              "        buttonEl.style.display =\n",
              "          google.colab.kernel.accessAllowed ? 'block' : 'none';\n",
              "\n",
              "        async function convertToInteractive(key) {\n",
              "          const element = document.querySelector('#df-a08e08ef-626f-4c2a-8aa2-922f7fe1c0cd');\n",
              "          const dataTable =\n",
              "            await google.colab.kernel.invokeFunction('convertToInteractive',\n",
              "                                                     [key], {});\n",
              "          if (!dataTable) return;\n",
              "\n",
              "          const docLinkHtml = 'Like what you see? Visit the ' +\n",
              "            '<a target=\"_blank\" href=https://colab.research.google.com/notebooks/data_table.ipynb>data table notebook</a>'\n",
              "            + ' to learn more about interactive tables.';\n",
              "          element.innerHTML = '';\n",
              "          dataTable['output_type'] = 'display_data';\n",
              "          await google.colab.output.renderOutput(dataTable, element);\n",
              "          const docLink = document.createElement('div');\n",
              "          docLink.innerHTML = docLinkHtml;\n",
              "          element.appendChild(docLink);\n",
              "        }\n",
              "      </script>\n",
              "    </div>\n",
              "  </div>\n",
              "  "
            ],
            "text/plain": [
              "   Age_median/without_outlier      Fare  Sex_transform  Survived\n",
              "0                    0.368298  0.014151            1.0         0\n",
              "1                    0.666667  0.139136            0.0         1\n",
              "2                    0.442890  0.015469            0.0         1\n",
              "3                    0.610723  0.103644            0.0         1\n",
              "4                    0.610723  0.015713            1.0         0"
            ]
          },
          "execution_count": 126,
          "metadata": {},
          "output_type": "execute_result"
        }
      ],
      "source": [
        "# Chuan hoa min-max cho feature Age_median/without_outlier va Fare\n",
        "df_scaled = MinMaxScaler()\n",
        "df_scaled = pd.DataFrame(df_scaled.fit_transform(df[['Age_median/without_outlier', 'Fare', 'Sex_transform']]),columns=['Age_median/without_outlier', 'Fare', 'Sex_transform'])\n",
        "df_scaled['Survived'] = df['Survived']\n",
        "df_scaled.head()"
      ]
    },
    {
      "cell_type": "code",
      "execution_count": null,
      "metadata": {
        "colab": {
          "base_uri": "https://localhost:8080/",
          "height": 298
        },
        "id": "YVgkxKbjrzid",
        "outputId": "9287d85e-7a48-4904-f0b1-17cae10f2bb4"
      },
      "outputs": [
        {
          "data": {
            "text/plain": [
              "Text(0.5, 1.0, 'Sau normalize')"
            ]
          },
          "execution_count": 127,
          "metadata": {},
          "output_type": "execute_result"
        },
        {
          "data": {
            "image/png": "[encoded data removed]",
            "text/plain": [
              "<Figure size 432x288 with 2 Axes>"
            ]
          },
          "metadata": {
            "needs_background": "light"
          },
          "output_type": "display_data"
        }
      ],
      "source": [
        "fig, ax = plt.subplots(1, 2)\n",
        "ax[0].hist(df['Fare'])\n",
        "ax[1].hist(df_scaled['Fare'])\n",
        "ax[0].set_title('Truoc normalize')\n",
        "ax[1].set_title('Sau normalize')"
      ]
    },
    {
      "cell_type": "code",
      "execution_count": null,
      "metadata": {
        "colab": {
          "base_uri": "https://localhost:8080/",
          "height": 298
        },
        "id": "rOHWbA8zrZ_Y",
        "outputId": "ba9a4150-f358-4da5-a30e-803a0a0fc1fd"
      },
      "outputs": [
        {
          "data": {
            "text/plain": [
              "Text(0.5, 1.0, 'Sau normalize')"
            ]
          },
          "execution_count": 128,
          "metadata": {},
          "output_type": "execute_result"
        },
        {
          "data": {
            "image/png": "[encoded data removed]",
            "text/plain": [
              "<Figure size 432x288 with 2 Axes>"
            ]
          },
          "metadata": {
            "needs_background": "light"
          },
          "output_type": "display_data"
        }
      ],
      "source": [
        "fig, ax = plt.subplots(1, 2)\n",
        "ax[0].hist(df['Age_median/without_outlier'])\n",
        "ax[1].hist(df_scaled['Age_median/without_outlier'])\n",
        "ax[0].set_title('Truoc normalize')\n",
        "ax[1].set_title('Sau normalize')"
      ]
    },
    {
      "cell_type": "code",
      "execution_count": null,
      "metadata": {
        "colab": {
          "base_uri": "https://localhost:8080/"
        },
        "id": "A08f0eIytfcw",
        "outputId": "21e00df9-52d0-4b95-965c-a92e8bf7340b"
      },
      "outputs": [
        {
          "name": "stdout",
          "output_type": "stream",
          "text": [
            "[Age_median/without_outlier] Score = 0.7878664239532986\n"
          ]
        }
      ],
      "source": [
        "features_need_run = ['Age_median/without_outlier']\n",
        "store_without_outlier = Trainer.train_cross_val(df_scaled, features_need_run, 'Survived', ['Fare', 'Sex_transform'])\n"
      ]
    },
    {
      "cell_type": "markdown",
      "metadata": {
        "id": "Sv8BVDV5uP3J"
      },
      "source": [
        "* Độ chính xác trước khi normalize là: 77.23%\n",
        "* Độ chính xác sau khi normalize là: 77.79% \\"
      ]
    },
    {
      "cell_type": "markdown",
      "metadata": {
        "id": "jCx9Y_6obFB0"
      },
      "source": [
        "## Chuẩn hóa z-score, áp dụng vào làm sạch bằng median và có xử lí ngọai lệ"
      ]
    },
    {
      "cell_type": "code",
      "execution_count": null,
      "metadata": {
        "colab": {
          "base_uri": "https://localhost:8080/"
        },
        "id": "tZjsi-F8bcRs",
        "outputId": "516d4026-ad51-4c0e-96cb-73904d1aa535"
      },
      "outputs": [
        {
          "name": "stdout",
          "output_type": "stream",
          "text": [
            "[Age_median/without_outlier] Score = 0.7822547234950725\n"
          ]
        }
      ],
      "source": [
        "# Chuan hoa z-score\n",
        "scaler = StandardScaler()\n",
        "df_scaled = pd.DataFrame(scaler.fit_transform(df[['Age_median/without_outlier', 'Fare', 'Sex_transform']]),columns=['Age_median/without_outlier', 'Fare', 'Sex_transform'])\n",
        "\n",
        "df_scaled['Survived'] = df['Survived']\n",
        "\n",
        "features_need_run = ['Age_median/without_outlier']\n",
        "store_without_outlier = Trainer.train_cross_val(df_scaled, features_need_run, 'Survived', ['Fare', 'Sex_transform'])"
      ]
    },
    {
      "cell_type": "markdown",
      "metadata": {
        "id": "pjPE61NDc7U9"
      },
      "source": [
        "* Độ chính xác trước khi normalize là: 78.23%\n",
        "* Độ chính xác sau khi normalize là: 78.23% \\"
      ]
    },
    {
      "cell_type": "markdown",
      "metadata": {
        "id": "Z9b0J0tNdGTA"
      },
      "source": [
        "## Chuẩn hóa mạnh với ngoại lệ (robust), áp dụng vào làm sạch bằng median và có xử lí ngọai lệ"
      ]
    },
    {
      "cell_type": "code",
      "execution_count": null,
      "metadata": {
        "colab": {
          "base_uri": "https://localhost:8080/"
        },
        "id": "SIBcbpiYdT0Y",
        "outputId": "90357058-2400-4fdf-9352-34f91539ca1c"
      },
      "outputs": [
        {
          "name": "stdout",
          "output_type": "stream",
          "text": [
            "[Age_median/without_outlier] Score = 0.7822547234950725\n"
          ]
        }
      ],
      "source": [
        "# Chuan hoa robust\n",
        "scaler = RobustScaler()\n",
        "df_robust_scaler = pd.DataFrame(scaler.fit_transform(df[['Age_median/without_outlier', 'Fare', 'Sex_transform']]),columns=['Age_median/without_outlier', 'Fare', 'Sex_transform'])\n",
        "\n",
        "df_robust_scaler['Survived'] = df['Survived']\n",
        "\n",
        "features_need_run = ['Age_median/without_outlier']\n",
        "store_without_outlier = Trainer.train_cross_val(df_scaled, features_need_run, 'Survived', ['Fare', 'Sex_transform'])"
      ]
    },
    {
      "cell_type": "markdown",
      "metadata": {
        "id": "5O95WY73duvR"
      },
      "source": [
        "* Độ chính xác trước khi normalize là: 78.23%\n",
        "* Độ chính xác sau khi normalize là: 78.23% \\"
      ]
    },
    {
      "cell_type": "markdown",
      "metadata": {
        "id": "9JgyLkITd3g9"
      },
      "source": [
        "## Grid Search\n"
      ]
    },
    {
      "cell_type": "code",
      "execution_count": null,
      "metadata": {
        "colab": {
          "base_uri": "https://localhost:8080/"
        },
        "id": "FdUb8zLWd5c4",
        "outputId": "7746d967-48d9-4a89-e6f0-c6ebf89e6c9f"
      },
      "outputs": [
        {
          "data": {
            "text/plain": [
              "GridSearchCV(estimator=LogisticRegression(),\n",
              "             param_grid={'C': [0.1, 0.5, 1, 3, 5, 10], 'max_iter': [500, 20000],\n",
              "                         'solver': ['liblinear', 'newton-cg', 'lbfgs']},\n",
              "             scoring='accuracy')"
            ]
          },
          "execution_count": 132,
          "metadata": {},
          "output_type": "execute_result"
        }
      ],
      "source": [
        "parameters = {\n",
        "    \"solver\": ['liblinear', 'newton-cg', 'lbfgs'],\n",
        "    \"max_iter\": [500, 20000],\n",
        "    \"C\": [1e-1, 0.5, 1, 3, 5, 10]\n",
        "}\n",
        "model = LogisticRegression()\n",
        "clf = GridSearchCV(model, parameters, scoring=\"accuracy\")\n",
        "clf.fit(df[[\"Fare\", \"Age_median/without_outlier\", \"Sex_transform\"]].to_numpy(), df[\"Survived\"].to_numpy())"
      ]
    },
    {
      "cell_type": "code",
      "execution_count": null,
      "metadata": {
        "colab": {
          "base_uri": "https://localhost:8080/",
          "height": 1000
        },
        "id": "cFsPLSfvfR8M",
        "outputId": "174361ca-4cd0-4eac-bc23-70196753a6d0"
      },
      "outputs": [
        {
          "data": {
            "text/html": [
              "\n",
              "  <div id=\"df-7f000aa9-a799-4295-a134-cf177cd79727\">\n",
              "    <div class=\"colab-df-container\">\n",
              "      <div>\n",
              "<style scoped>\n",
              "    .dataframe tbody tr th:only-of-type {\n",
              "        vertical-align: middle;\n",
              "    }\n",
              "\n",
              "    .dataframe tbody tr th {\n",
              "        vertical-align: top;\n",
              "    }\n",
              "\n",
              "    .dataframe thead th {\n",
              "        text-align: right;\n",
              "    }\n",
              "</style>\n",
              "<table border=\"1\" class=\"dataframe\">\n",
              "  <thead>\n",
              "    <tr style=\"text-align: right;\">\n",
              "      <th></th>\n",
              "      <th>mean_score_time</th>\n",
              "      <th>params</th>\n",
              "      <th>mean_test_score</th>\n",
              "      <th>rank_test_score</th>\n",
              "    </tr>\n",
              "  </thead>\n",
              "  <tbody>\n",
              "    <tr>\n",
              "      <th>0</th>\n",
              "      <td>0.000429</td>\n",
              "      <td>{'C': 0.1, 'max_iter': 500, 'solver': 'libline...</td>\n",
              "      <td>0.780008</td>\n",
              "      <td>31</td>\n",
              "    </tr>\n",
              "    <tr>\n",
              "      <th>1</th>\n",
              "      <td>0.000439</td>\n",
              "      <td>{'C': 0.1, 'max_iter': 500, 'solver': 'newton-...</td>\n",
              "      <td>0.777760</td>\n",
              "      <td>33</td>\n",
              "    </tr>\n",
              "    <tr>\n",
              "      <th>2</th>\n",
              "      <td>0.000479</td>\n",
              "      <td>{'C': 0.1, 'max_iter': 500, 'solver': 'lbfgs'}</td>\n",
              "      <td>0.777760</td>\n",
              "      <td>33</td>\n",
              "    </tr>\n",
              "    <tr>\n",
              "      <th>3</th>\n",
              "      <td>0.000424</td>\n",
              "      <td>{'C': 0.1, 'max_iter': 20000, 'solver': 'libli...</td>\n",
              "      <td>0.780008</td>\n",
              "      <td>31</td>\n",
              "    </tr>\n",
              "    <tr>\n",
              "      <th>4</th>\n",
              "      <td>0.000433</td>\n",
              "      <td>{'C': 0.1, 'max_iter': 20000, 'solver': 'newto...</td>\n",
              "      <td>0.777760</td>\n",
              "      <td>33</td>\n",
              "    </tr>\n",
              "    <tr>\n",
              "      <th>5</th>\n",
              "      <td>0.000467</td>\n",
              "      <td>{'C': 0.1, 'max_iter': 20000, 'solver': 'lbfgs'}</td>\n",
              "      <td>0.777760</td>\n",
              "      <td>33</td>\n",
              "    </tr>\n",
              "    <tr>\n",
              "      <th>6</th>\n",
              "      <td>0.000371</td>\n",
              "      <td>{'C': 0.5, 'max_iter': 500, 'solver': 'libline...</td>\n",
              "      <td>0.782255</td>\n",
              "      <td>1</td>\n",
              "    </tr>\n",
              "    <tr>\n",
              "      <th>7</th>\n",
              "      <td>0.000463</td>\n",
              "      <td>{'C': 0.5, 'max_iter': 500, 'solver': 'newton-...</td>\n",
              "      <td>0.782255</td>\n",
              "      <td>1</td>\n",
              "    </tr>\n",
              "    <tr>\n",
              "      <th>8</th>\n",
              "      <td>0.000440</td>\n",
              "      <td>{'C': 0.5, 'max_iter': 500, 'solver': 'lbfgs'}</td>\n",
              "      <td>0.782255</td>\n",
              "      <td>1</td>\n",
              "    </tr>\n",
              "    <tr>\n",
              "      <th>9</th>\n",
              "      <td>0.000378</td>\n",
              "      <td>{'C': 0.5, 'max_iter': 20000, 'solver': 'libli...</td>\n",
              "      <td>0.782255</td>\n",
              "      <td>1</td>\n",
              "    </tr>\n",
              "    <tr>\n",
              "      <th>10</th>\n",
              "      <td>0.000440</td>\n",
              "      <td>{'C': 0.5, 'max_iter': 20000, 'solver': 'newto...</td>\n",
              "      <td>0.782255</td>\n",
              "      <td>1</td>\n",
              "    </tr>\n",
              "    <tr>\n",
              "      <th>11</th>\n",
              "      <td>0.000520</td>\n",
              "      <td>{'C': 0.5, 'max_iter': 20000, 'solver': 'lbfgs'}</td>\n",
              "      <td>0.782255</td>\n",
              "      <td>1</td>\n",
              "    </tr>\n",
              "    <tr>\n",
              "      <th>12</th>\n",
              "      <td>0.000394</td>\n",
              "      <td>{'C': 1, 'max_iter': 500, 'solver': 'liblinear'}</td>\n",
              "      <td>0.782255</td>\n",
              "      <td>1</td>\n",
              "    </tr>\n",
              "    <tr>\n",
              "      <th>13</th>\n",
              "      <td>0.000451</td>\n",
              "      <td>{'C': 1, 'max_iter': 500, 'solver': 'newton-cg'}</td>\n",
              "      <td>0.782255</td>\n",
              "      <td>1</td>\n",
              "    </tr>\n",
              "    <tr>\n",
              "      <th>14</th>\n",
              "      <td>0.000725</td>\n",
              "      <td>{'C': 1, 'max_iter': 500, 'solver': 'lbfgs'}</td>\n",
              "      <td>0.782255</td>\n",
              "      <td>1</td>\n",
              "    </tr>\n",
              "    <tr>\n",
              "      <th>15</th>\n",
              "      <td>0.000383</td>\n",
              "      <td>{'C': 1, 'max_iter': 20000, 'solver': 'libline...</td>\n",
              "      <td>0.782255</td>\n",
              "      <td>1</td>\n",
              "    </tr>\n",
              "    <tr>\n",
              "      <th>16</th>\n",
              "      <td>0.000466</td>\n",
              "      <td>{'C': 1, 'max_iter': 20000, 'solver': 'newton-...</td>\n",
              "      <td>0.782255</td>\n",
              "      <td>1</td>\n",
              "    </tr>\n",
              "    <tr>\n",
              "      <th>17</th>\n",
              "      <td>0.000424</td>\n",
              "      <td>{'C': 1, 'max_iter': 20000, 'solver': 'lbfgs'}</td>\n",
              "      <td>0.782255</td>\n",
              "      <td>1</td>\n",
              "    </tr>\n",
              "    <tr>\n",
              "      <th>18</th>\n",
              "      <td>0.000379</td>\n",
              "      <td>{'C': 3, 'max_iter': 500, 'solver': 'liblinear'}</td>\n",
              "      <td>0.782255</td>\n",
              "      <td>1</td>\n",
              "    </tr>\n",
              "    <tr>\n",
              "      <th>19</th>\n",
              "      <td>0.000417</td>\n",
              "      <td>{'C': 3, 'max_iter': 500, 'solver': 'newton-cg'}</td>\n",
              "      <td>0.782255</td>\n",
              "      <td>1</td>\n",
              "    </tr>\n",
              "    <tr>\n",
              "      <th>20</th>\n",
              "      <td>0.000441</td>\n",
              "      <td>{'C': 3, 'max_iter': 500, 'solver': 'lbfgs'}</td>\n",
              "      <td>0.782255</td>\n",
              "      <td>1</td>\n",
              "    </tr>\n",
              "    <tr>\n",
              "      <th>21</th>\n",
              "      <td>0.000410</td>\n",
              "      <td>{'C': 3, 'max_iter': 20000, 'solver': 'libline...</td>\n",
              "      <td>0.782255</td>\n",
              "      <td>1</td>\n",
              "    </tr>\n",
              "    <tr>\n",
              "      <th>22</th>\n",
              "      <td>0.000474</td>\n",
              "      <td>{'C': 3, 'max_iter': 20000, 'solver': 'newton-...</td>\n",
              "      <td>0.782255</td>\n",
              "      <td>1</td>\n",
              "    </tr>\n",
              "    <tr>\n",
              "      <th>23</th>\n",
              "      <td>0.000483</td>\n",
              "      <td>{'C': 3, 'max_iter': 20000, 'solver': 'lbfgs'}</td>\n",
              "      <td>0.782255</td>\n",
              "      <td>1</td>\n",
              "    </tr>\n",
              "    <tr>\n",
              "      <th>24</th>\n",
              "      <td>0.000396</td>\n",
              "      <td>{'C': 5, 'max_iter': 500, 'solver': 'liblinear'}</td>\n",
              "      <td>0.782255</td>\n",
              "      <td>1</td>\n",
              "    </tr>\n",
              "    <tr>\n",
              "      <th>25</th>\n",
              "      <td>0.000465</td>\n",
              "      <td>{'C': 5, 'max_iter': 500, 'solver': 'newton-cg'}</td>\n",
              "      <td>0.782255</td>\n",
              "      <td>1</td>\n",
              "    </tr>\n",
              "    <tr>\n",
              "      <th>26</th>\n",
              "      <td>0.000434</td>\n",
              "      <td>{'C': 5, 'max_iter': 500, 'solver': 'lbfgs'}</td>\n",
              "      <td>0.782255</td>\n",
              "      <td>1</td>\n",
              "    </tr>\n",
              "    <tr>\n",
              "      <th>27</th>\n",
              "      <td>0.000428</td>\n",
              "      <td>{'C': 5, 'max_iter': 20000, 'solver': 'libline...</td>\n",
              "      <td>0.782255</td>\n",
              "      <td>1</td>\n",
              "    </tr>\n",
              "    <tr>\n",
              "      <th>28</th>\n",
              "      <td>0.000420</td>\n",
              "      <td>{'C': 5, 'max_iter': 20000, 'solver': 'newton-...</td>\n",
              "      <td>0.782255</td>\n",
              "      <td>1</td>\n",
              "    </tr>\n",
              "    <tr>\n",
              "      <th>29</th>\n",
              "      <td>0.000433</td>\n",
              "      <td>{'C': 5, 'max_iter': 20000, 'solver': 'lbfgs'}</td>\n",
              "      <td>0.782255</td>\n",
              "      <td>1</td>\n",
              "    </tr>\n",
              "    <tr>\n",
              "      <th>30</th>\n",
              "      <td>0.000399</td>\n",
              "      <td>{'C': 10, 'max_iter': 500, 'solver': 'liblinear'}</td>\n",
              "      <td>0.782255</td>\n",
              "      <td>1</td>\n",
              "    </tr>\n",
              "    <tr>\n",
              "      <th>31</th>\n",
              "      <td>0.000442</td>\n",
              "      <td>{'C': 10, 'max_iter': 500, 'solver': 'newton-cg'}</td>\n",
              "      <td>0.782255</td>\n",
              "      <td>1</td>\n",
              "    </tr>\n",
              "    <tr>\n",
              "      <th>32</th>\n",
              "      <td>0.000457</td>\n",
              "      <td>{'C': 10, 'max_iter': 500, 'solver': 'lbfgs'}</td>\n",
              "      <td>0.782255</td>\n",
              "      <td>1</td>\n",
              "    </tr>\n",
              "    <tr>\n",
              "      <th>33</th>\n",
              "      <td>0.000419</td>\n",
              "      <td>{'C': 10, 'max_iter': 20000, 'solver': 'liblin...</td>\n",
              "      <td>0.782255</td>\n",
              "      <td>1</td>\n",
              "    </tr>\n",
              "    <tr>\n",
              "      <th>34</th>\n",
              "      <td>0.000485</td>\n",
              "      <td>{'C': 10, 'max_iter': 20000, 'solver': 'newton...</td>\n",
              "      <td>0.782255</td>\n",
              "      <td>1</td>\n",
              "    </tr>\n",
              "    <tr>\n",
              "      <th>35</th>\n",
              "      <td>0.000442</td>\n",
              "      <td>{'C': 10, 'max_iter': 20000, 'solver': 'lbfgs'}</td>\n",
              "      <td>0.782255</td>\n",
              "      <td>1</td>\n",
              "    </tr>\n",
              "  </tbody>\n",
              "</table>\n",
              "</div>\n",
              "      <button class=\"colab-df-convert\" onclick=\"convertToInteractive('df-7f000aa9-a799-4295-a134-cf177cd79727')\"\n",
              "              title=\"Convert this dataframe to an interactive table.\"\n",
              "              style=\"display:none;\">\n",
              "        \n",
              "  <svg xmlns=\"http://www.w3.org/2000/svg\" height=\"24px\"viewBox=\"0 0 24 24\"\n",
              "       width=\"24px\">\n",
              "    <path d=\"M0 0h24v24H0V0z\" fill=\"none\"/>\n",
              "    <path d=\"M18.56 5.44l.94 2.06.94-2.06 2.06-.94-2.06-.94-.94-2.06-.94 2.06-2.06.94zm-11 1L8.5 8.5l.94-2.06 2.06-.94-2.06-.94L8.5 2.5l-.94 2.06-2.06.94zm10 10l.94 2.06.94-2.06 2.06-.94-2.06-.94-.94-2.06-.94 2.06-2.06.94z\"/><path d=\"M17.41 7.96l-1.37-1.37c-.4-.4-.92-.59-1.43-.59-.52 0-1.04.2-1.43.59L10.3 9.45l-7.72 7.72c-.78.78-.78 2.05 0 2.83L4 21.41c.39.39.9.59 1.41.59.51 0 1.02-.2 1.41-.59l7.78-7.78 2.81-2.81c.8-.78.8-2.07 0-2.86zM5.41 20L4 18.59l7.72-7.72 1.47 1.35L5.41 20z\"/>\n",
              "  </svg>\n",
              "      </button>\n",
              "      \n",
              "  <style>\n",
              "    .colab-df-container {\n",
              "      display:flex;\n",
              "      flex-wrap:wrap;\n",
              "      gap: 12px;\n",
              "    }\n",
              "\n",
              "    .colab-df-convert {\n",
              "      background-color: #E8F0FE;\n",
              "      border: none;\n",
              "      border-radius: 50%;\n",
              "      cursor: pointer;\n",
              "      display: none;\n",
              "      fill: #1967D2;\n",
              "      height: 32px;\n",
              "      padding: 0 0 0 0;\n",
              "      width: 32px;\n",
              "    }\n",
              "\n",
              "    .colab-df-convert:hover {\n",
              "      background-color: #E2EBFA;\n",
              "      box-shadow: 0px 1px 2px rgba(60, 64, 67, 0.3), 0px 1px 3px 1px rgba(60, 64, 67, 0.15);\n",
              "      fill: #174EA6;\n",
              "    }\n",
              "\n",
              "    [theme=dark] .colab-df-convert {\n",
              "      background-color: #3B4455;\n",
              "      fill: #D2E3FC;\n",
              "    }\n",
              "\n",
              "    [theme=dark] .colab-df-convert:hover {\n",
              "      background-color: #434B5C;\n",
              "      box-shadow: 0px 1px 3px 1px rgba(0, 0, 0, 0.15);\n",
              "      filter: drop-shadow(0px 1px 2px rgba(0, 0, 0, 0.3));\n",
              "      fill: #FFFFFF;\n",
              "    }\n",
              "  </style>\n",
              "\n",
              "      <script>\n",
              "        const buttonEl =\n",
              "          document.querySelector('#df-7f000aa9-a799-4295-a134-cf177cd79727 button.colab-df-convert');\n",
              "        buttonEl.style.display =\n",
              "          google.colab.kernel.accessAllowed ? 'block' : 'none';\n",
              "\n",
              "        async function convertToInteractive(key) {\n",
              "          const element = document.querySelector('#df-7f000aa9-a799-4295-a134-cf177cd79727');\n",
              "          const dataTable =\n",
              "            await google.colab.kernel.invokeFunction('convertToInteractive',\n",
              "                                                     [key], {});\n",
              "          if (!dataTable) return;\n",
              "\n",
              "          const docLinkHtml = 'Like what you see? Visit the ' +\n",
              "            '<a target=\"_blank\" href=https://colab.research.google.com/notebooks/data_table.ipynb>data table notebook</a>'\n",
              "            + ' to learn more about interactive tables.';\n",
              "          element.innerHTML = '';\n",
              "          dataTable['output_type'] = 'display_data';\n",
              "          await google.colab.output.renderOutput(dataTable, element);\n",
              "          const docLink = document.createElement('div');\n",
              "          docLink.innerHTML = docLinkHtml;\n",
              "          element.appendChild(docLink);\n",
              "        }\n",
              "      </script>\n",
              "    </div>\n",
              "  </div>\n",
              "  "
            ],
            "text/plain": [
              "    mean_score_time                                             params  \\\n",
              "0          0.000429  {'C': 0.1, 'max_iter': 500, 'solver': 'libline...   \n",
              "1          0.000439  {'C': 0.1, 'max_iter': 500, 'solver': 'newton-...   \n",
              "2          0.000479     {'C': 0.1, 'max_iter': 500, 'solver': 'lbfgs'}   \n",
              "3          0.000424  {'C': 0.1, 'max_iter': 20000, 'solver': 'libli...   \n",
              "4          0.000433  {'C': 0.1, 'max_iter': 20000, 'solver': 'newto...   \n",
              "5          0.000467   {'C': 0.1, 'max_iter': 20000, 'solver': 'lbfgs'}   \n",
              "6          0.000371  {'C': 0.5, 'max_iter': 500, 'solver': 'libline...   \n",
              "7          0.000463  {'C': 0.5, 'max_iter': 500, 'solver': 'newton-...   \n",
              "8          0.000440     {'C': 0.5, 'max_iter': 500, 'solver': 'lbfgs'}   \n",
              "9          0.000378  {'C': 0.5, 'max_iter': 20000, 'solver': 'libli...   \n",
              "10         0.000440  {'C': 0.5, 'max_iter': 20000, 'solver': 'newto...   \n",
              "11         0.000520   {'C': 0.5, 'max_iter': 20000, 'solver': 'lbfgs'}   \n",
              "12         0.000394   {'C': 1, 'max_iter': 500, 'solver': 'liblinear'}   \n",
              "13         0.000451   {'C': 1, 'max_iter': 500, 'solver': 'newton-cg'}   \n",
              "14         0.000725       {'C': 1, 'max_iter': 500, 'solver': 'lbfgs'}   \n",
              "15         0.000383  {'C': 1, 'max_iter': 20000, 'solver': 'libline...   \n",
              "16         0.000466  {'C': 1, 'max_iter': 20000, 'solver': 'newton-...   \n",
              "17         0.000424     {'C': 1, 'max_iter': 20000, 'solver': 'lbfgs'}   \n",
              "18         0.000379   {'C': 3, 'max_iter': 500, 'solver': 'liblinear'}   \n",
              "19         0.000417   {'C': 3, 'max_iter': 500, 'solver': 'newton-cg'}   \n",
              "20         0.000441       {'C': 3, 'max_iter': 500, 'solver': 'lbfgs'}   \n",
              "21         0.000410  {'C': 3, 'max_iter': 20000, 'solver': 'libline...   \n",
              "22         0.000474  {'C': 3, 'max_iter': 20000, 'solver': 'newton-...   \n",
              "23         0.000483     {'C': 3, 'max_iter': 20000, 'solver': 'lbfgs'}   \n",
              "24         0.000396   {'C': 5, 'max_iter': 500, 'solver': 'liblinear'}   \n",
              "25         0.000465   {'C': 5, 'max_iter': 500, 'solver': 'newton-cg'}   \n",
              "26         0.000434       {'C': 5, 'max_iter': 500, 'solver': 'lbfgs'}   \n",
              "27         0.000428  {'C': 5, 'max_iter': 20000, 'solver': 'libline...   \n",
              "28         0.000420  {'C': 5, 'max_iter': 20000, 'solver': 'newton-...   \n",
              "29         0.000433     {'C': 5, 'max_iter': 20000, 'solver': 'lbfgs'}   \n",
              "30         0.000399  {'C': 10, 'max_iter': 500, 'solver': 'liblinear'}   \n",
              "31         0.000442  {'C': 10, 'max_iter': 500, 'solver': 'newton-cg'}   \n",
              "32         0.000457      {'C': 10, 'max_iter': 500, 'solver': 'lbfgs'}   \n",
              "33         0.000419  {'C': 10, 'max_iter': 20000, 'solver': 'liblin...   \n",
              "34         0.000485  {'C': 10, 'max_iter': 20000, 'solver': 'newton...   \n",
              "35         0.000442    {'C': 10, 'max_iter': 20000, 'solver': 'lbfgs'}   \n",
              "\n",
              "    mean_test_score  rank_test_score  \n",
              "0          0.780008               31  \n",
              "1          0.777760               33  \n",
              "2          0.777760               33  \n",
              "3          0.780008               31  \n",
              "4          0.777760               33  \n",
              "5          0.777760               33  \n",
              "6          0.782255                1  \n",
              "7          0.782255                1  \n",
              "8          0.782255                1  \n",
              "9          0.782255                1  \n",
              "10         0.782255                1  \n",
              "11         0.782255                1  \n",
              "12         0.782255                1  \n",
              "13         0.782255                1  \n",
              "14         0.782255                1  \n",
              "15         0.782255                1  \n",
              "16         0.782255                1  \n",
              "17         0.782255                1  \n",
              "18         0.782255                1  \n",
              "19         0.782255                1  \n",
              "20         0.782255                1  \n",
              "21         0.782255                1  \n",
              "22         0.782255                1  \n",
              "23         0.782255                1  \n",
              "24         0.782255                1  \n",
              "25         0.782255                1  \n",
              "26         0.782255                1  \n",
              "27         0.782255                1  \n",
              "28         0.782255                1  \n",
              "29         0.782255                1  \n",
              "30         0.782255                1  \n",
              "31         0.782255                1  \n",
              "32         0.782255                1  \n",
              "33         0.782255                1  \n",
              "34         0.782255                1  \n",
              "35         0.782255                1  "
            ]
          },
          "execution_count": 133,
          "metadata": {},
          "output_type": "execute_result"
        }
      ],
      "source": [
        "pd.DataFrame(clf.cv_results_)[[\"mean_score_time\", \"params\", \"mean_test_score\", \"rank_test_score\"]]"
      ]
    },
    {
      "cell_type": "markdown",
      "metadata": {
        "id": "BiB44guwhsUb"
      },
      "source": [
        "Có rất nhiều bộ tham số tối ưu (rank = 1), chọn 1 trong số đó và kiểm tra độ chính xác mới"
      ]
    },
    {
      "cell_type": "code",
      "execution_count": null,
      "metadata": {
        "colab": {
          "base_uri": "https://localhost:8080/"
        },
        "id": "wv--S0KKgqR9",
        "outputId": "14590354-24ca-4427-9abe-82e550799f3f"
      },
      "outputs": [
        {
          "data": {
            "text/plain": [
              "0.7822547234950725"
            ]
          },
          "execution_count": 134,
          "metadata": {},
          "output_type": "execute_result"
        }
      ],
      "source": [
        "score = cross_val_score(LogisticRegression(C=3, solver=\"lbfgs\"), df[[\"Fare\", \"Age_median/without_outlier\", \"Sex_transform\"]], df[\"Survived\"], cv=5)\n",
        "score.mean()"
      ]
    }
  ],
  "metadata": {
    "colab": {
      "collapsed_sections": [],
      "name": "MyHomeWork-Preprocessing.ipynb",
      "provenance": []
    },
    "kernelspec": {
      "display_name": "Python 3",
      "name": "python3"
    },
    "language_info": {
      "name": "python"
    }
  },
  "nbformat": 4,
  "nbformat_minor": 0
}
